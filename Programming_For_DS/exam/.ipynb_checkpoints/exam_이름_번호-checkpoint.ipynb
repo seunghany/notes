{
 "cells": [
  {
   "cell_type": "markdown",
   "metadata": {},
   "source": [
    "# Graduate School of Data Science 2021 Winter Boot Camp\n",
    "## Qualification exam: 2020년 2월 1일\n",
    "### 총 5문제\n",
    "\n",
    "**준비사항:**\n",
    "* **조용한 방에 입실, 얼굴/손/모니터가 모두 나오도록 카메라 세팅, 신분증 준비**\n",
    "* **시험 시간: 2/1(월) 9:30 ~ 11:30 (2시간) - 대체 시험 없음**\n",
    "* **시험 방식: 오픈북. 제공된 ipynb 파일에서 문제를 풀어 <font size=\"4\">*코드와 아웃풋 파일*</font>을 구글 클래스룸에 제출 (즉, 숙제제출과 동일)**\n",
    "* **파일제출마감: 11:40 (즉, 시험 마감 후 10분 이내, 늦은 제출 불인정 - 0점 처리)**\n",
    "* **부정행위: 0점 처리**"
   ]
  },
  {
   "cell_type": "markdown",
   "metadata": {},
   "source": [
    "* **함수의 이름 및 함수의 입력으로 받는 parameter는 바꾸지 말아주세요**\n",
    "* **return 타입 지켜주세요**\n",
    "* **다른 함수나 클래스 등 만드셔도 됩니다. `P1`, `P2`, `P3`, `P4`, `P5`  이 함수들이 제대로 `return`하기만 하면 됩니다.**\n",
    "* **제출할 output파일은 마지막 부분의 셀을 실행해서 만들게 됩니다**\n",
    "* **제출을 하기 위해서 아래의 `name`에는 영문 이름을(3자 이상), `number`에는 핸드폰 번호 뒤 4자리 입력해주세요**\n",
    "  * **이름은 알파벳만 이용!**\n",
    "* **그리고 나서 셀을 꼭 <font size=\"4\">실행</font>해주세요!**\n",
    "* **output파일을 만들 때 파일명에 이름과 번호가 적히게 됩니다.**\n",
    "\n",
    "<pre>\n",
    "예시:\n",
    "name = 'woojung'\n",
    "number = 9821\n",
    "</pre>"
   ]
  },
  {
   "cell_type": "markdown",
   "metadata": {},
   "source": [
    "## .ipynb 파일 이름 수정해주세요!\n",
    "- 예시: exam_woojung_9821.ipynb"
   ]
  },
  {
   "cell_type": "markdown",
   "metadata": {},
   "source": [
    "## 이름, 숫자 입력 후셀 실행"
   ]
  },
  {
   "cell_type": "code",
   "execution_count": null,
   "metadata": {},
   "outputs": [],
   "source": [
    "# 입력 후 셀 실행하기!\n",
    "name = 'Seunghan'  # 본인 영문 이름 ex) 'woojung'\n",
    "number = 7801  # 본인 점수 확인 용으로 4자리 숫자 ex) 9821"
   ]
  },
  {
   "cell_type": "code",
   "execution_count": null,
   "metadata": {},
   "outputs": [],
   "source": []
  },
  {
   "cell_type": "code",
   "execution_count": null,
   "metadata": {},
   "outputs": [],
   "source": []
  },
  {
   "cell_type": "markdown",
   "metadata": {},
   "source": [
    "# Problem 1 \n",
    "주어진 linked list에 사이클(cycle)이 있는지 탐지하는 알고리즘을 만들어라.  \n",
    "사이클이 존재한다면, **사이클이 시작하는 노드를 return**하고, **사이클이 존재하지 않다면 `None`을 return한다.** \n",
    "\n",
    "```\n",
    "\n",
    "2 --> 4 --> 0 --> -3\n",
    "      ^            |\n",
    "      |            v\n",
    "      --------------\n",
    "\n",
    "```\n",
    "위 그림은 사이클이 존재하는 linked list의 예시다. 두 번째 노드에서 사이클이 시작하므로 두 번째 노드를 return해야 한다.\n",
    "\n",
    "linked list의 head 노드부터 next 포인터를 계속 따라갈 때 어느 순간 이전 노드에 다시 도달하면, 그 연결 리스트에 사이클이 존재한다고 정의한다. \n",
    "\n",
    "**주의:** 본 문제에서 입력으로 *linked list의 head 노드* **만** 주어진다.\n",
    "\n",
    "\n",
    "**Constraints:**\n",
    "\n",
    "- `2 <= 노드 개수 <= 104`\n",
    "- `-105 <= 노드의 값 <= 105`"
   ]
  },
  {
   "cell_type": "markdown",
   "metadata": {},
   "source": [
    "### 아래 셀 실행 (수정 금지)"
   ]
  },
  {
   "cell_type": "code",
   "execution_count": 2,
   "metadata": {},
   "outputs": [],
   "source": [
    "# 아래 문제에서 사용할 클래스 정의와 helper 함수들이다. \n",
    "# <수정 금지>\n",
    "\n",
    "from typing import List\n",
    "\n",
    "# Node 정의\n",
    "class ListNode:\n",
    "    def __init__(self, x):\n",
    "        self.val = x\n",
    "        self.next = None\n",
    "        \n",
    "# helepr function (test case 생성 용도)\n",
    "def createLL(nodes: List[int], pos: int) -> ListNode:\n",
    "    cur = sentinel = ListNode(-1)\n",
    "    idxs = list()\n",
    "    for idx, node in enumerate(nodes):\n",
    "        cur.next = ListNode(node)\n",
    "        cur = cur.next\n",
    "        idxs.append(cur)\n",
    "    if pos >= 0:cur.next = idxs[pos]\n",
    "    return idxs, sentinel.next      \n",
    "def printP1(arr, pos):\n",
    "    idxs, head = createLL(arr, pos)\n",
    "    start = P1(head)\n",
    "    if start: \n",
    "        print(\"Node val: {} | Node pos: {}\".format(start.val, idxs.index(start)))\n",
    "        return idxs.index(start)\n",
    "    else: \n",
    "        print(\"No cycle\")\n",
    "        return -1"
   ]
  },
  {
   "cell_type": "code",
   "execution_count": null,
   "metadata": {},
   "outputs": [],
   "source": []
  },
  {
   "cell_type": "markdown",
   "metadata": {},
   "source": [
    "### 코드 작성"
   ]
  },
  {
   "cell_type": "code",
   "execution_count": 12,
   "metadata": {},
   "outputs": [],
   "source": [
    "def P1(head: ListNode) -> ListNode:\n",
    "    '''\n",
    "    - cycle이 시작되는 node를 return\n",
    "    - cycle이 없으면 None을 return\n",
    "    '''\n",
    "    visited = []\n",
    "    temp = head\n",
    "    while temp:\n",
    "        if temp.val in visited:\n",
    "            return temp\n",
    "        else:\n",
    "            visited.append(temp.val)\n",
    "#         print(temp.val)\n",
    "        temp = temp.next\n",
    "    \n",
    "    \n",
    "    return None                  "
   ]
  },
  {
   "cell_type": "markdown",
   "metadata": {},
   "source": [
    "### 예시 1.\n",
    "아래의 경우 `1`이 출력되어야 한다.  \n",
    "\n",
    "<img align=\"left\" width=\"40%\" height=\"40%\" src=\"https://user-images.githubusercontent.com/37704174/106380318-ddd7a780-63f4-11eb-892e-e1cab75c7432.PNG\">"
   ]
  },
  {
   "cell_type": "code",
   "execution_count": 13,
   "metadata": {},
   "outputs": [
    {
     "name": "stdout",
     "output_type": "stream",
     "text": [
      "Node val: 4 | Node pos: 1\n"
     ]
    },
    {
     "data": {
      "text/plain": [
       "1"
      ]
     },
     "execution_count": 13,
     "metadata": {},
     "output_type": "execute_result"
    }
   ],
   "source": [
    "printP1([2,4,0,-3], 1)"
   ]
  },
  {
   "cell_type": "markdown",
   "metadata": {},
   "source": [
    "### 예시 2.\n",
    "아래의 경우 `2`가 출력되어야 한다.  \n",
    "<img align=\"left\" width=\"50%\" height=\"50%\" src=\"https://user-images.githubusercontent.com/37704174/106380321-e334f200-63f4-11eb-8952-aa0317af22d6.PNG\">"
   ]
  },
  {
   "cell_type": "code",
   "execution_count": 14,
   "metadata": {
    "scrolled": true
   },
   "outputs": [
    {
     "name": "stdout",
     "output_type": "stream",
     "text": [
      "Node val: -4 | Node pos: 2\n"
     ]
    },
    {
     "data": {
      "text/plain": [
       "2"
      ]
     },
     "execution_count": 14,
     "metadata": {},
     "output_type": "execute_result"
    }
   ],
   "source": [
    "printP1([-1,-7,-4,6,-9,-5], 2)"
   ]
  },
  {
   "cell_type": "markdown",
   "metadata": {},
   "source": [
    "### 예시 3.\n",
    "아래의 경우 `-1`이 출력되어야 한다.  \n",
    "<img align=\"left\" width=\"40%\" height=\"40%\" src=\"https://user-images.githubusercontent.com/37704174/106380323-e4661f00-63f4-11eb-8614-a70bea29dfb3.PNG\">\n"
   ]
  },
  {
   "cell_type": "code",
   "execution_count": 15,
   "metadata": {
    "scrolled": true
   },
   "outputs": [
    {
     "name": "stdout",
     "output_type": "stream",
     "text": [
      "No cycle\n"
     ]
    },
    {
     "data": {
      "text/plain": [
       "-1"
      ]
     },
     "execution_count": 15,
     "metadata": {},
     "output_type": "execute_result"
    }
   ],
   "source": [
    "printP1([3, 2, 1], -1)"
   ]
  },
  {
   "cell_type": "code",
   "execution_count": null,
   "metadata": {},
   "outputs": [],
   "source": []
  },
  {
   "cell_type": "code",
   "execution_count": null,
   "metadata": {},
   "outputs": [],
   "source": []
  },
  {
   "cell_type": "markdown",
   "metadata": {},
   "source": [
    "# Problem 2\n",
    "\n",
    "주어진 Binary Tree에 대해 최대 depth를 return 하는 함수를 구현하시오.   \n",
    "**최대 depth**란, root 노드부터 가장 먼 leaf 노드까지의 path에 있는 노드의 개수이다.\n",
    "\n",
    "\n",
    "**주의:** 본 문제에서 입력으로 tree의 root node만 주어진다."
   ]
  },
  {
   "cell_type": "markdown",
   "metadata": {},
   "source": [
    "### 아래 셀 실행 (수정 금지)"
   ]
  },
  {
   "cell_type": "code",
   "execution_count": 16,
   "metadata": {},
   "outputs": [],
   "source": [
    "# 아래 문제에서 사용할 클래스 정의와 helper 함수들이다. \n",
    "# <수정 금지>\n",
    "\n",
    "# tree node 정의\n",
    "class TreeNode:\n",
    "    def __init__(self, val=0, left=None, right=None):\n",
    "        self.val = val\n",
    "        self.left = left\n",
    "        self.right = right\n",
    "    \n",
    "    \n",
    "# helper function (test case 생성 용도)\n",
    "def makeTree(arr, i): \n",
    "    if i < len(arr): \n",
    "        if arr[i]!= None:\n",
    "            temp = TreeNode(arr[i])  \n",
    "            root = temp  \n",
    "            root.left = makeTree(arr, 2 * i + 1)  \n",
    "            root.right = makeTree(arr, 2 * i + 2) \n",
    "        else:\n",
    "            root=None\n",
    "    else:\n",
    "        root=None\n",
    "    return root "
   ]
  },
  {
   "cell_type": "code",
   "execution_count": 25,
   "metadata": {},
   "outputs": [],
   "source": [
    "class test:\n",
    "    def height(self, root: TreeNode) -> int:\n",
    "        '''\n",
    "        Recieves TreeNode as a parameter\n",
    "        and returns the height of the node.\n",
    "        '''\n",
    "        if root is None:\n",
    "            return 0\n",
    "        else:\n",
    "            return 1 + max(self.height(root.left), self.height(root.right))"
   ]
  },
  {
   "cell_type": "markdown",
   "metadata": {},
   "source": [
    "### 코드 작성"
   ]
  },
  {
   "cell_type": "code",
   "execution_count": 29,
   "metadata": {},
   "outputs": [],
   "source": [
    "def P2(root: TreeNode) -> int:\n",
    "    '''\n",
    "    Binary Tree의 최대 depth를 return\n",
    "    '''\n",
    "    ##################\n",
    "    # Your code here #\n",
    "    ################\n",
    "    h = test()\n",
    "    ans = h.height(root)\n",
    "        \n",
    "    return ans"
   ]
  },
  {
   "cell_type": "markdown",
   "metadata": {},
   "source": [
    "### 예시 1.\n",
    "\n",
    "Input:\n",
    "<pre>\n",
    "    3\n",
    "   / \\\n",
    "  9  20\n",
    "    /  \\\n",
    "   15   7  \n",
    "</pre>\n",
    "Output: 3"
   ]
  },
  {
   "cell_type": "code",
   "execution_count": 30,
   "metadata": {},
   "outputs": [
    {
     "name": "stdout",
     "output_type": "stream",
     "text": [
      "3\n"
     ]
    }
   ],
   "source": [
    "root = [3,9,20,None,None,15,7]\n",
    "tree=makeTree(root,0)\n",
    "print(P2(tree))"
   ]
  },
  {
   "cell_type": "markdown",
   "metadata": {},
   "source": [
    "### 예시 2.\n",
    "\n",
    "Input:\n",
    "<pre>\n",
    "    5                                                    \n",
    "   / \\                  \n",
    "  3   6                                           \n",
    " / \\   \\                                           \n",
    "2   4   7    \n",
    "</pre>\n",
    "Output: 3"
   ]
  },
  {
   "cell_type": "code",
   "execution_count": 31,
   "metadata": {},
   "outputs": [
    {
     "name": "stdout",
     "output_type": "stream",
     "text": [
      "3\n"
     ]
    }
   ],
   "source": [
    "root = [5,3,6,2,4,None,7]\n",
    "tree=makeTree(root,0)\n",
    "print(P2(tree))"
   ]
  },
  {
   "cell_type": "markdown",
   "metadata": {},
   "source": [
    "### 예시 3.\n",
    "Input: None  \n",
    "Output: 0"
   ]
  },
  {
   "cell_type": "code",
   "execution_count": 32,
   "metadata": {},
   "outputs": [
    {
     "name": "stdout",
     "output_type": "stream",
     "text": [
      "0\n"
     ]
    }
   ],
   "source": [
    "root = []\n",
    "tree=makeTree(root,0)\n",
    "print(P2(tree))"
   ]
  },
  {
   "cell_type": "markdown",
   "metadata": {},
   "source": [
    "### 예시 4.\n",
    "\n",
    "Input:\n",
    "<pre>\n",
    "    5                                                                                               \n",
    "</pre>\n",
    "Output: 1"
   ]
  },
  {
   "cell_type": "code",
   "execution_count": 33,
   "metadata": {
    "scrolled": true
   },
   "outputs": [
    {
     "name": "stdout",
     "output_type": "stream",
     "text": [
      "1\n"
     ]
    }
   ],
   "source": [
    "root = [5]\n",
    "tree=makeTree(root,0)\n",
    "print(P2(tree))"
   ]
  },
  {
   "cell_type": "code",
   "execution_count": null,
   "metadata": {},
   "outputs": [],
   "source": []
  },
  {
   "cell_type": "code",
   "execution_count": null,
   "metadata": {},
   "outputs": [],
   "source": []
  },
  {
   "cell_type": "markdown",
   "metadata": {},
   "source": [
    "# Problem 3\n",
    "**백스페이스로 지운 문자열 비교하기** <br>\n",
    "함수는 두 개의 문자열 S와 T를 입력으로 받는다. 각 문자열에는 백스페이스가 섞여 있으며, #로 표현된다. 백스페이스를 감안하였을 때 두 문자열이 동일한지를 판단하는 함수를 작성하여라.  \n",
    "- 백스페이스 **개수만큼** **왼쪽**에 있는 문자를 지운다. (백스페이스는 백스페이스를 지우지 않는다)\n",
    "  - ex) 'abcd#e##' → 'ab'\n",
    "  - ex) 'abcd#e##fg' → 'abfg'\n",
    "  - ex) 'abcd#efg##' → 'abce'\n",
    "- 빈 문자열에 #이 있다면 여전히 빈 문자열이 된다. \n",
    "  - ex) 'a##' → ' '\n",
    "<br>\n",
    "\n",
    "\n",
    "**Constraint:**\n",
    "\n",
    "- 입력값은 영어 소문자와 Backspace('#')로만 구성된 문자열이라고 가정한다.\n"
   ]
  },
  {
   "cell_type": "code",
   "execution_count": 34,
   "metadata": {},
   "outputs": [],
   "source": [
    "#Please complete below function\n",
    "def P3(S: str, T: str) -> bool:\n",
    "    '''\n",
    "    Input: 영어 소문자와 '#'로 구성된 문자열\n",
    "    Output: #를 고려했을 때 두 문자열이 같은지 여부\n",
    "    '''\n",
    "    S = S.split(\"#\")\n",
    "    print(\"S:\", S)\n",
    "    T = T.split(\"#\")\n",
    "    print(\"T:\", T)\n",
    "    \n",
    "        \n",
    "    return True   "
   ]
  },
  {
   "cell_type": "markdown",
   "metadata": {},
   "source": [
    "### 예시 1.\n",
    "아래 경우에서 #를 감안하면 S와 T 모두 `'xz'`가 되므로 True를 return하여야 한다.\n",
    "* Input: S = \"xy#z\", T = \"xw#z\" <br>\n",
    "* Output: True  "
   ]
  },
  {
   "cell_type": "code",
   "execution_count": 35,
   "metadata": {},
   "outputs": [
    {
     "name": "stdout",
     "output_type": "stream",
     "text": [
      "S: xy#z\n",
      "T: xw#z\n",
      "True\n"
     ]
    }
   ],
   "source": [
    "print(P3(S = \"xy#z\", T = \"xw#z\")) #정답: True"
   ]
  },
  {
   "cell_type": "markdown",
   "metadata": {},
   "source": [
    "### 예시 2.\n",
    "아래 경우에서 #를 감안하면 S와 T 모두 `''`가 되므로 True를 return하여야 한다.\n",
    "* Input: S = \"xy##\", T = \"x#y#\"\n",
    "* Output: True"
   ]
  },
  {
   "cell_type": "code",
   "execution_count": 40,
   "metadata": {},
   "outputs": [
    {
     "name": "stdout",
     "output_type": "stream",
     "text": [
      "True\n"
     ]
    }
   ],
   "source": [
    "print(P3(S = \"xy##\", T = \"x#y#\")) #정답: True"
   ]
  },
  {
   "cell_type": "markdown",
   "metadata": {},
   "source": [
    "### 예시 3.\n",
    "아래 경우에서 #를 감안하면 S와 T 모두 `'y'`가 되므로 True를 return하여야 한다.\n",
    "* Input: S = \"x##y\", T = \"#x#y\"\n",
    "* Output: True"
   ]
  },
  {
   "cell_type": "code",
   "execution_count": 41,
   "metadata": {},
   "outputs": [
    {
     "name": "stdout",
     "output_type": "stream",
     "text": [
      "True\n"
     ]
    }
   ],
   "source": [
    "print(P3(S = \"x##y\", T = \"#x#y\")) #정답: True"
   ]
  },
  {
   "cell_type": "markdown",
   "metadata": {},
   "source": [
    "### 예시 4.\n",
    "아래 경우에서 #를 감안하면 S는 `'y'`, T는 `'x'`가 되므로 False를 return하여야 한다.\n",
    "* Input: S = \"x#y\", T = \"#xy#\"\n",
    "* Output: False"
   ]
  },
  {
   "cell_type": "code",
   "execution_count": 42,
   "metadata": {
    "scrolled": true
   },
   "outputs": [
    {
     "name": "stdout",
     "output_type": "stream",
     "text": [
      "False\n"
     ]
    }
   ],
   "source": [
    "print(P3(S = \"x#y\", T = \"#xy#\")) #정답: False"
   ]
  },
  {
   "cell_type": "markdown",
   "metadata": {},
   "source": [
    "### 예시 5.\n",
    "아래 경우에서 #를 감안하면 S와 T 모두 `'ab'`가 되므로 True를 return하여야 한다.\n",
    "* Input: S = \"abcd#e##\", T = \"abcde###\"\n",
    "* Output: True"
   ]
  },
  {
   "cell_type": "code",
   "execution_count": 44,
   "metadata": {
    "scrolled": true
   },
   "outputs": [
    {
     "name": "stdout",
     "output_type": "stream",
     "text": [
      "True\n"
     ]
    }
   ],
   "source": [
    "print(P3(S = \"abcd#e##\", T = \"abcde###\")) #정답: True"
   ]
  },
  {
   "cell_type": "code",
   "execution_count": null,
   "metadata": {},
   "outputs": [],
   "source": []
  },
  {
   "cell_type": "code",
   "execution_count": null,
   "metadata": {},
   "outputs": [],
   "source": []
  },
  {
   "cell_type": "markdown",
   "metadata": {},
   "source": [
    "# Problem 4\n",
    "**섬의 개수 세기** <br>\n",
    "1 또는 0으로 구성된 m x n gird map을 받아서 섬의 개수를 Return하는 함수를 작성하라.(m, n 은 1 이상 300 이하의 정수)<br>\n",
    "(섬의 정의는 숙제 6의 2번 문제와 동일하다.)\n",
    " 1. 1은 육지이고 0은 바다라고 가정한다.\n",
    " 2. 섬이라고 함은 바다로 둘러싸인 연결된 육지를 의미한다. 여기에서 연결되었다고 함은 상하좌우중의 하나가 육지임을 의미한다.(대각방향은 연결로 보지 않는다.)\n",
    " 3. grid의 바깥쪽은 바다라고 가정한다.\n",
    " \n",
    "예를 들어 Input이 아래와 같다면 6이 Return되어야 한다.<br>\n",
    "[<br>\n",
    " [0,0,1,0,0,0,0,1,0,0,0,0,0],\n",
    "\n",
    " [0,0,0,0,0,0,0,1,1,1,0,0,0],\n",
    " \n",
    " [0,1,1,0,1,0,0,0,0,0,0,0,0],\n",
    " \n",
    " [0,1,0,0,1,1,0,0,1,0,1,0,0],\n",
    " \n",
    " [0,1,0,0,1,1,0,0,1,1,1,0,0],\n",
    " \n",
    " [0,0,0,0,0,0,0,0,0,0,1,0,0],\n",
    " \n",
    " [0,0,0,0,0,0,0,1,1,1,0,0,0],\n",
    " \n",
    " [0,0,0,0,0,0,0,1,1,0,0,0,0]<br>\n",
    " ]"
   ]
  },
  {
   "cell_type": "code",
   "execution_count": null,
   "metadata": {},
   "outputs": [],
   "source": [
    "from typing import List\n",
    "#Please complete below function\n",
    "def P4(grid: List[List[str]]) -> int:\n",
    "    \"\"\"\n",
    "    Input: m x n List of List\n",
    "    Output: 섬의 개수\n",
    "    \"\"\"\n",
    "    ##################\n",
    "    # Your code here #\n",
    "    ##################\n",
    "    \n",
    "    return 0"
   ]
  },
  {
   "cell_type": "markdown",
   "metadata": {},
   "source": [
    "### 예시 1. \n",
    "아래 셀을 출력했을 때 섬이 3개이므로 `3`이 출력되어야 한다. <br>"
   ]
  },
  {
   "cell_type": "code",
   "execution_count": 52,
   "metadata": {},
   "outputs": [
    {
     "name": "stdout",
     "output_type": "stream",
     "text": [
      "3\n"
     ]
    }
   ],
   "source": [
    "print(P4( [\n",
    " [1,1,0,0,0],\n",
    " [1,1,0,0,0], \n",
    " [0,0,1,0,0], \n",
    " [0,0,0,1,1]\n",
    " ]))"
   ]
  },
  {
   "cell_type": "markdown",
   "metadata": {},
   "source": [
    "### 예시 2.\n",
    "아래 셀을 출력했을 때 섬이 없으므로 `0`이 출력되어야 한다."
   ]
  },
  {
   "cell_type": "code",
   "execution_count": 53,
   "metadata": {},
   "outputs": [
    {
     "name": "stdout",
     "output_type": "stream",
     "text": [
      "0\n"
     ]
    }
   ],
   "source": [
    "print(P4([[0,0,0,0,0,0,0,0]]))"
   ]
  },
  {
   "cell_type": "markdown",
   "metadata": {},
   "source": [
    "### 예시 3.\n",
    "아래 셀을 출력했을 때 `4`가 출력되어야 한다."
   ]
  },
  {
   "cell_type": "code",
   "execution_count": 54,
   "metadata": {},
   "outputs": [
    {
     "name": "stdout",
     "output_type": "stream",
     "text": [
      "4\n"
     ]
    }
   ],
   "source": [
    "print(P4( [\n",
    " [1,1,0,0],\n",
    " [1,1,0,0], \n",
    " [0,0,1,0], \n",
    " [1,0,0,1],\n",
    " [0,1,1,1]\n",
    " ]))"
   ]
  },
  {
   "cell_type": "code",
   "execution_count": null,
   "metadata": {},
   "outputs": [],
   "source": []
  },
  {
   "cell_type": "code",
   "execution_count": null,
   "metadata": {},
   "outputs": [],
   "source": []
  },
  {
   "cell_type": "markdown",
   "metadata": {},
   "source": [
    "# Problem 5 \n",
    "두 개의 binary tree가 있을 때, 두 binary tree를 겹쳐본다고 생각해 보자.(root부터 차례대로 겹쳐보자) 그러면 어떤 노드들은 서로 겹쳐질 것이고, 그렇지 않은 노드들도 있을 것이다.  \n",
    "두 개의 binary tree를 합쳐서 하나의 binary tree로 만드는 프로그램을 짜야한다. 합치는 규칙은, 만일 node가 서로 겹쳐진다면 **겹쳐진 두 노드의 value를 더해야 하고**, 겹치지 않는 노드는 그대로 합쳐진 tree의 노드가 된다.  \n",
    "합쳐서 만든 tree의 **root를 return**하는 코드를 작성하시오.  \n",
    "(아래의 예시를 참고해 주세요.)"
   ]
  },
  {
   "cell_type": "markdown",
   "metadata": {},
   "source": [
    "### 아래 셀 실행 (수정 금지)"
   ]
  },
  {
   "cell_type": "code",
   "execution_count": null,
   "metadata": {},
   "outputs": [],
   "source": [
    "# 아래 문제에서 사용할 클래스 정의와 helper 함수들이다. \n",
    "# <수정 금지>\n",
    "\n",
    "# tree node 정의\n",
    "class TreeNode:\n",
    "    def __init__(self, val=0, left=None, right=None):\n",
    "        self.val = val\n",
    "        self.left = left\n",
    "        self.right = right\n",
    "\n",
    "# helper function (test case 생성 용도)\n",
    "def make_binary_tree(arr, i): \n",
    "    if i < len(arr): \n",
    "        if arr[i]!= None:\n",
    "            root = TreeNode(arr[i])\n",
    "            root.left = make_binary_tree(arr, 2 * i + 1)  \n",
    "            root.right = make_binary_tree(arr, 2 * i + 2) \n",
    "        else:\n",
    "            return None\n",
    "    else:\n",
    "        return None\n",
    "    return root \n",
    "\n",
    "def list_from_binary_tree(tree, templist=[]):\n",
    "    items = []\n",
    "    queue = [tree]\n",
    "\n",
    "    while queue:\n",
    "        copy = queue[:]\n",
    "        queue = []\n",
    "\n",
    "        for node in copy:\n",
    "            if node is None:\n",
    "                items.append(None)\n",
    "                queue.append(None)\n",
    "                queue.append(None)\n",
    "            else:\n",
    "                items.append(node.val)\n",
    "                queue.append(node.left)\n",
    "                queue.append(node.right)\n",
    "\n",
    "        if all((x is None for x in queue)):\n",
    "            break\n",
    "\n",
    "    return items"
   ]
  },
  {
   "cell_type": "code",
   "execution_count": null,
   "metadata": {},
   "outputs": [],
   "source": [
    "#Please complete below function\n",
    "def P5(t1: TreeNode, t2: TreeNode) -> TreeNode:\n",
    "    \"\"\"\n",
    "    - t1, t2: 두 개의 binary tree\n",
    "    - return: 두 개의 binary tree를 합친 tree의 root 노드\n",
    "    \"\"\"\n",
    "    ##################\n",
    "    # Your code here #\n",
    "    ##################\n",
    "    \n",
    "    return None"
   ]
  },
  {
   "cell_type": "markdown",
   "metadata": {},
   "source": [
    "### 예시 1.\n",
    "\n",
    "**Input:**\n",
    "<pre>\n",
    "  Tree 1             Tree 2\n",
    "    1                   2                                 \n",
    "   / \\                 / \\\n",
    "  3   2               1   3                         \n",
    " /                     \\   \\\n",
    "5                       4   7\n",
    "</pre>\n",
    "**Output:**  \n",
    "\n",
    "<pre>  \n",
    "Merged tree\n",
    "    3                                                  \n",
    "   / \\                \n",
    "  4   5                                     \n",
    " / \\   \\                  \n",
    "5   4   7               \n",
    "</pre>"
   ]
  },
  {
   "cell_type": "markdown",
   "metadata": {},
   "source": [
    "아래 셀을 실행했을 때, `[3, 4, 5, 5, 4, None, 7]`이 출력"
   ]
  },
  {
   "cell_type": "code",
   "execution_count": 62,
   "metadata": {},
   "outputs": [
    {
     "data": {
      "text/plain": [
       "[3, 4, 5, 5, 4, None, 7]"
      ]
     },
     "execution_count": 62,
     "metadata": {},
     "output_type": "execute_result"
    }
   ],
   "source": [
    "tree1 = make_binary_tree([1, 3, 2, 5], 0)\n",
    "tree2 = make_binary_tree([2, 1, 3, None, 4, None, 7], 0)\n",
    "list_from_binary_tree(P5(tree1, tree2))"
   ]
  },
  {
   "cell_type": "markdown",
   "metadata": {},
   "source": [
    "## 예시 2\n",
    "\n",
    "**Input:**\n",
    "<pre>\n",
    "  Tree 1             Tree 2\n",
    "                        2                                 \n",
    "                       / \\\n",
    "                      1   3                         \n",
    "                       \\   \\\n",
    "                        4   7\n",
    "</pre>\n",
    "**Output:**  \n",
    "\n",
    "<pre>  \n",
    "Merged tree\n",
    "    2                                                  \n",
    "   / \\                \n",
    "  1   3                                     \n",
    "   \\   \\                  \n",
    "    4   7               \n",
    "</pre>"
   ]
  },
  {
   "cell_type": "markdown",
   "metadata": {},
   "source": [
    "아래 셀을 실행했을 때 `[2, 1, 3, None, 4, None, 7]`이 출력"
   ]
  },
  {
   "cell_type": "code",
   "execution_count": 67,
   "metadata": {},
   "outputs": [
    {
     "data": {
      "text/plain": [
       "[2, 1, 3, None, 4, None, 7]"
      ]
     },
     "execution_count": 67,
     "metadata": {},
     "output_type": "execute_result"
    }
   ],
   "source": [
    "tree1 = make_binary_tree([], 0)\n",
    "tree2 = make_binary_tree([2, 1, 3, None, 4, None, 7], 0)\n",
    "list_from_binary_tree(P5(tree1, tree2))"
   ]
  },
  {
   "cell_type": "markdown",
   "metadata": {},
   "source": [
    "## 예시 3\n",
    "\n",
    "**Input:**\n",
    "<pre>\n",
    "  Tree 1             Tree 2\n",
    "    1                   2                                 \n",
    "   /                     \\\n",
    "  3                       4                         \n",
    " /                         \\\n",
    "5                           6\n",
    "</pre>\n",
    "**Output:**  \n",
    "\n",
    "<pre>  \n",
    "Merged tree\n",
    "    3                                                  \n",
    "   / \\                \n",
    "  3   4                                     \n",
    " /     \\                  \n",
    "5       6               \n",
    "</pre>"
   ]
  },
  {
   "cell_type": "markdown",
   "metadata": {},
   "source": [
    "아래 셀을 실행했을 때 `[3, 3, 4, 5, None, None, 6]`이 출력"
   ]
  },
  {
   "cell_type": "code",
   "execution_count": 69,
   "metadata": {
    "scrolled": true
   },
   "outputs": [
    {
     "data": {
      "text/plain": [
       "[3, 3, 4, 5, None, None, 6]"
      ]
     },
     "execution_count": 69,
     "metadata": {},
     "output_type": "execute_result"
    }
   ],
   "source": [
    "tree1 = make_binary_tree([1, 3, None, 5], 0)\n",
    "tree2 = make_binary_tree([2, None, 4, None, None, None, 6], 0)\n",
    "list_from_binary_tree(P5(tree1, tree2))"
   ]
  },
  {
   "cell_type": "markdown",
   "metadata": {},
   "source": [
    "## 예시 4\n",
    "\n",
    "**Input:**\n",
    "<pre>\n",
    "  Tree 1             Tree 2\n",
    "    1                   2                                 \n",
    "   /                     \n",
    "  3                                                \n",
    "</pre>\n",
    "**Output:**  \n",
    "\n",
    "<pre>  \n",
    "Merged tree\n",
    "    3                                                  \n",
    "   /                 \n",
    "  3                                               \n",
    "</pre>\n"
   ]
  },
  {
   "cell_type": "markdown",
   "metadata": {},
   "source": [
    "아래 셀을 실행했을 때 `[3, 3, None]`이 출력"
   ]
  },
  {
   "cell_type": "code",
   "execution_count": 70,
   "metadata": {},
   "outputs": [
    {
     "data": {
      "text/plain": [
       "[3, 3, None]"
      ]
     },
     "execution_count": 70,
     "metadata": {},
     "output_type": "execute_result"
    }
   ],
   "source": [
    "tree1 = make_binary_tree([1, 3, None], 0)\n",
    "tree2 = make_binary_tree([2], 0)\n",
    "list_from_binary_tree(P5(tree1, tree2))"
   ]
  },
  {
   "cell_type": "code",
   "execution_count": null,
   "metadata": {},
   "outputs": [],
   "source": []
  },
  {
   "cell_type": "code",
   "execution_count": null,
   "metadata": {},
   "outputs": [],
   "source": []
  },
  {
   "cell_type": "markdown",
   "metadata": {},
   "source": [
    "# 제출할 파일 생성 (해결한 문제만 제출해도 됩니다)\n",
    "## 코드는(.ipynb 파일) 무조건 제출! (.ipynb 파일 이름 바꿔주세요!!!!!!)\n",
    "\n",
    "\n",
    "\n",
    "* **다음 셀을 실행하면 제공한 input파일의 test case를 이용해서 작성하신 코드의 답을 파일로 만들게 됩니다.**\n",
    "* **맨 위쪽 셀에서 `name`과 `number`를 꼭 설정해주세요.(그렇지 않으면 에러가 발생합니다)**\n",
    "* **만들어진 output파일과 코드를 제출하면 됩니다.**\n",
    "* **다음과 같이 파일이 생길 텐데, 파일명 및 파일 내용 수정하시면 안됩니다**\n",
    "  * P1_*name*_*number*.txt\n",
    "  * P2_*name*_*number*.txt\n",
    "  * P3_*name*_*number*.txt\n",
    "  * P4_*name*_*number*.txt\n",
    "  * P5_*name*_*number*.txt\n",
    "  \n",
    "* **파일 생성 시 기존 파일은 사라지고 새로운 파일이 만들어집니다.**"
   ]
  },
  {
   "cell_type": "markdown",
   "metadata": {},
   "source": [
    "## P1 제출 파일 생성 (아래 코드 수정 금지)"
   ]
  },
  {
   "cell_type": "code",
   "execution_count": null,
   "metadata": {},
   "outputs": [],
   "source": [
    "import ast\n",
    "\n",
    "try: \n",
    "    name = \"\".join(str(name).split())\n",
    "    number = \"\".join(str(number).split())\n",
    "except:\n",
    "    print('맨 윗부분 셀에서 name과 number변수를 할당해주세요')\n",
    "    raise\n",
    "try:\n",
    "    if len(name) < 3:\n",
    "        raise ValueError('name은 공백 제외 3글자 이상으로 해주세요')\n",
    "except:\n",
    "    raise\n",
    "try:\n",
    "    if len(number) <4:\n",
    "        raise ValueError('number는 4자리 숫자로 해주세요')\n",
    "except:\n",
    "    raise\n",
    "\n",
    "    \n",
    "# 문제 1에 대한 output 파일 생성\n",
    "print(\"파일 생성 시작...\")\n",
    "with open('input_p1.txt', 'r') as f1 \\\n",
    "    ,open('P1_'+name+'_'+number+'.txt','w') as f2:\n",
    "    inputs = f1.readlines()\n",
    "    for case in inputs:\n",
    "        params = case.strip().split(' ')\n",
    "        pos, arr = int(params[0]), ast.literal_eval(''.join(params[1:]))\n",
    "        f2.write(str(printP1(arr, pos))+\"\\n\") \n",
    "        \n",
    "print('P1_'+name+'_'+number+'.txt 파일이 생성되었습니다')\n",
    "print('해당 파일을 제출하시면 됩니다')"
   ]
  },
  {
   "cell_type": "markdown",
   "metadata": {},
   "source": [
    "## P2 제출 파일 생성 (아래 코드 수정 금지)"
   ]
  },
  {
   "cell_type": "code",
   "execution_count": null,
   "metadata": {},
   "outputs": [],
   "source": [
    "try: \n",
    "    name = \"\".join(str(name).split())\n",
    "    number = \"\".join(str(number).split())\n",
    "except:\n",
    "    print('맨 윗부분 셀에서 name과 number변수를 할당해주세요')\n",
    "    raise\n",
    "try:\n",
    "    if len(name) < 3:\n",
    "        raise ValueError('name은 공백 제외 3글자 이상으로 해주세요')\n",
    "except:\n",
    "    raise\n",
    "try:\n",
    "    if len(number) <4:\n",
    "        raise ValueError('number는 4자리 숫자로 해주세요')\n",
    "except:\n",
    "    raise\n",
    "\n",
    "    \n",
    "# 문제 1에 대한 output 파일 생성\n",
    "print(\"파일 생성 시작...\")\n",
    "with open('input_p2.txt', 'r') as f1 \\\n",
    "    ,open('P2_'+name+'_'+number+'.txt','w') as f2:\n",
    "    inputs = f1.readlines()\n",
    "    for case in inputs:\n",
    "        case = case.strip()[1:-1].split(',')\n",
    "        case=[int(c) if c!=\" None\" else None for c in case]\n",
    "        result = P2(makeTree(case,0))\n",
    "        f2.write(str(result)+\"\\n\") \n",
    "        \n",
    "        \n",
    "print('P2_'+name+'_'+number+'.txt 파일이 생성되었습니다')\n",
    "print('해당 파일을 제출하시면 됩니다')"
   ]
  },
  {
   "cell_type": "markdown",
   "metadata": {},
   "source": [
    "## P3 제출 파일 생성 (아래 코드 수정 금지)"
   ]
  },
  {
   "cell_type": "code",
   "execution_count": null,
   "metadata": {},
   "outputs": [],
   "source": [
    "try: \n",
    "    name = \"\".join(str(name).split())\n",
    "    number = \"\".join(str(number).split())\n",
    "except:\n",
    "    print('맨 윗부분 셀에서 name과 number변수를 할당해주세요')\n",
    "    raise\n",
    "try:\n",
    "    if len(name) < 3:\n",
    "        raise ValueError('name은 공백 제외 3글자 이상으로 해주세요')\n",
    "except:\n",
    "    raise\n",
    "try:\n",
    "    if len(number) <4:\n",
    "        raise ValueError('number는 4자리 숫자로 해주세요')\n",
    "except:\n",
    "    raise\n",
    "\n",
    "    \n",
    "# 문제 1에 대한 output 파일 생성\n",
    "print(\"파일 생성 시작...\")\n",
    "with open('input_p3.txt', 'r') as f1 \\\n",
    "    ,open('P3_'+name+'_'+number+'.txt','w') as f2:\n",
    "    inputs = f1.readlines()\n",
    "    for case in inputs:\n",
    "        case = case.strip().split(',')\n",
    "        S = case[0]\n",
    "        T = case[1]\n",
    "        result = P3(S, T)\n",
    "        f2.write(str(result)+\"\\n\") \n",
    "        \n",
    "        \n",
    "print('P3_'+name+'_'+number+'.txt 파일이 생성되었습니다')\n",
    "print('해당 파일을 제출하시면 됩니다')"
   ]
  },
  {
   "cell_type": "markdown",
   "metadata": {},
   "source": [
    "## P4 제출 파일 생성 (아래 코드 수정 금지)"
   ]
  },
  {
   "cell_type": "code",
   "execution_count": null,
   "metadata": {},
   "outputs": [],
   "source": [
    "import ast\n",
    "\n",
    "try: \n",
    "    name = \"\".join(str(name).split())\n",
    "    number = \"\".join(str(number).split())\n",
    "except:\n",
    "    print('맨 윗부분 셀에서 name과 number변수를 할당해주세요')\n",
    "    raise\n",
    "try:\n",
    "    if len(name) < 3:\n",
    "        raise ValueError('name은 공백 제외 3글자 이상으로 해주세요')\n",
    "except:\n",
    "    raise\n",
    "try:\n",
    "    if len(number) <4:\n",
    "        raise ValueError('number는 4자리 숫자로 해주세요')\n",
    "except:\n",
    "    raise\n",
    "    \n",
    "# 문제 2에 대한 output 파일 생성\n",
    "print(\"파일 생성 시작...\")\n",
    "with open('input_p4.txt', 'r') as f1 \\\n",
    "    ,open('P4_'+name+'_'+number+'.txt','w') as f2:\n",
    "    inputs = f1.readlines()\n",
    "    for case in inputs:\n",
    "        params = case.strip()\n",
    "        islands = ast.literal_eval(params)\n",
    "        f2.write(str(P4(islands))+\"\\n\") \n",
    "        \n",
    "print('P4_'+name+'_'+number+'.txt 파일이 생성되었습니다')\n",
    "print('해당 파일을 제출하시면 됩니다')"
   ]
  },
  {
   "cell_type": "markdown",
   "metadata": {},
   "source": [
    "## P5 제출 파일 생성 (아래 코드 수정 금지)"
   ]
  },
  {
   "cell_type": "code",
   "execution_count": null,
   "metadata": {},
   "outputs": [],
   "source": [
    "import ast\n",
    "\n",
    "try: \n",
    "    name = \"\".join(str(name).split())\n",
    "    number = \"\".join(str(number).split())\n",
    "except:\n",
    "    print('맨 윗부분 셀에서 name과 number변수를 할당해주세요')\n",
    "    raise\n",
    "try:\n",
    "    if len(name) < 3:\n",
    "        raise ValueError('name은 공백 제외 3글자 이상으로 해주세요')\n",
    "except:\n",
    "    raise\n",
    "try:\n",
    "    if len(number) <4:\n",
    "        raise ValueError('number는 4자리 숫자로 해주세요')\n",
    "except:\n",
    "    raise\n",
    "\n",
    "    \n",
    "# 문제 1에 대한 output 파일 생성\n",
    "print(\"파일 생성 시작...\")\n",
    "with open('input_p5.txt', 'r') as f1 \\\n",
    "    ,open('P5_'+name+'_'+number+'.txt','w') as f2:\n",
    "    inputs = f1.readlines()\n",
    "    for case in inputs:\n",
    "        case = case.strip().split('#')\n",
    "        l1 = case[0].strip()\n",
    "        l2 = case[1].strip()\n",
    "        l1 = ast.literal_eval(l1)\n",
    "        l2 = ast.literal_eval(l2)\n",
    "        tree1 = make_binary_tree(l1, 0)\n",
    "        tree2 = make_binary_tree(l2, 0)\n",
    "        result = list_from_binary_tree(P5(tree1, tree2))\n",
    "        f2.write(str(result)+\"\\n\") \n",
    "        \n",
    "        \n",
    "print('P5_'+name+'_'+number+'.txt 파일이 생성되었습니다')\n",
    "print('해당 파일을 제출하시면 됩니다')"
   ]
  }
 ],
 "metadata": {
  "kernelspec": {
   "display_name": "Python 3",
   "language": "python",
   "name": "python3"
  },
  "language_info": {
   "codemirror_mode": {
    "name": "ipython",
    "version": 3
   },
   "file_extension": ".py",
   "mimetype": "text/x-python",
   "name": "python",
   "nbconvert_exporter": "python",
   "pygments_lexer": "ipython3",
   "version": "3.8.3"
  }
 },
 "nbformat": 4,
 "nbformat_minor": 4
}
