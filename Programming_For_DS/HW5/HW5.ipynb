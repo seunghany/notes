{
 "cells": [
  {
   "cell_type": "markdown",
   "metadata": {},
   "source": [
    "# 과제 주의사항 필독"
   ]
  },
  {
   "cell_type": "markdown",
   "metadata": {},
   "source": [
    "* **`HW5_1`, `HW5_2` 함수의 이름 및 함수의 입력으로 받는 parameter는 바꾸지 말아주세요**\n",
    "* **return 타입 지켜주세요**\n",
    "* **다른 함수나 클래스 등 만드셔도 됩니다. `HW5_1`, `HW5_2` 함수가 제대로 `return`하기만 하면 됩니다.**\n",
    "* **제출할 output파일은 마지막 부분의 셀을 실행해서 만들게 됩니다**\n"
   ]
  },
  {
   "cell_type": "markdown",
   "metadata": {},
   "source": [
    "* **제출을 하기 위해서 아래의 `name`에는 영문 이름을(3자 이상), `number`에는 핸드폰 번호 뒤 4자리 입력해주세요**\n",
    "  * **이름은 알파벳만 이용!**\n",
    "* **그리고 나서 셀을 꼭 <font size=\"4\">실행</font>해주세요!**\n",
    "* **output파일을 만들 때 파일명에 이름과 번호가 적히게 됩니다.**\n",
    "\n",
    "<pre>\n",
    "예시:\n",
    "name = 'woojung'\n",
    "number = 9821\n",
    "</pre>"
   ]
  },
  {
   "cell_type": "code",
   "execution_count": 1,
   "metadata": {},
   "outputs": [],
   "source": [
    "# 입력 후 셀 실행하기!\n",
    "name = 'Seunghan'  # 본인 영문 이름 ex) 'woojung'\n",
    "number = 7801  # 본인 점수 확인 용으로 4자리 숫자 ex) 9821"
   ]
  },
  {
   "cell_type": "code",
   "execution_count": 2,
   "metadata": {},
   "outputs": [],
   "source": [
    "class TreeNode:\n",
    "    def __init__(self, val=0, left=None, right=None):\n",
    "        self.val = val\n",
    "        self.left = left\n",
    "        self.right = right\n",
    "    def printTree(self) -> list:\n",
    "        result = list()\n",
    "        thislevel = [self]\n",
    "        while thislevel:\n",
    "            nextlevel = list()\n",
    "            none_list=1\n",
    "            for n in thislevel:\n",
    "                if n !=None:\n",
    "                    none_list=0\n",
    "                    break\n",
    "            if none_list==1:\n",
    "                return result\n",
    "                        \n",
    "            for n in thislevel:\n",
    "                if n != None: \n",
    "                    result.append(n.val)\n",
    "                    nextlevel.append(n.left)\n",
    "                    nextlevel.append(n.right)\n",
    "                else:\n",
    "                    result.append(None)\n",
    "                    nextlevel.append(None)\n",
    "                    nextlevel.append(None)\n",
    "                    \n",
    "            thislevel = nextlevel\n",
    "        return result\n",
    "    \n",
    "def makeTree(arr, i): \n",
    "    if i < len(arr): \n",
    "        if arr[i]!= None:\n",
    "            temp = TreeNode(arr[i])  \n",
    "            root = temp  \n",
    "            root.left = makeTree(arr, 2 * i + 1)  \n",
    "            root.right = makeTree(arr, 2 * i + 2) \n",
    "        else:\n",
    "            root=None\n",
    "    else:\n",
    "        root=None\n",
    "    return root "
   ]
  },
  {
   "cell_type": "markdown",
   "metadata": {},
   "source": [
    "# 문제 1. Binary Tree Level Order Traversal\n",
    "\n",
    "binary tree에 대하여 bottom-up level order traversal을 return하는 함수를 작성하시오.<br>\n",
    "즉, leaf부터 root까지 각 level에 대해, 왼쪽에서부터 오른쪽 순서로 저장되어야함.<br>\n",
    "* 이중 리스트 형태로 return 해야함<br>\n",
    "* input으로는 binary tree의 root가 들어감<br>"
   ]
  },
  {
   "cell_type": "code",
   "execution_count": 8,
   "metadata": {},
   "outputs": [],
   "source": [
    "from collections import deque\n",
    "class Tree():\n",
    "    def __init__(self, root = None):\n",
    "        self.root = root\n",
    "    def BFT(self):\n",
    "        \"\"\"\n",
    "        Breadth (폭) Fisrt Traversal\n",
    "        Level Order Traversal\n",
    "        Visit nodes from left to right, and  from top to bottom\n",
    "        \"\"\"\n",
    "        if self.root == None:\n",
    "            return\n",
    "        \n",
    "        q = deque(self.root)\n",
    "        while q:\n",
    "            curNode = q.pop()\n",
    "            print(curNode.val)\n",
    "            for childNode in curNode.child:\n",
    "                if childNode:\n",
    "                    q.append(childNode)"
   ]
  },
  {
   "cell_type": "code",
   "execution_count": 12,
   "metadata": {},
   "outputs": [],
   "source": [
    "#Please complete below function\n",
    "from typing import List\n",
    "def HW5_1(root: TreeNode) -> List[List[int]]:\n",
    "    \"\"\"\n",
    "        Input: Root of binary tree\n",
    "        Output: List of each level, Bottom up level order traveral\n",
    "    \"\"\"\n",
    "    tree = Tree(root)\n",
    "    tree\n",
    "    \n",
    "        \n",
    "    return\n",
    "        "
   ]
  },
  {
   "cell_type": "markdown",
   "metadata": {},
   "source": [
    "### 예시 1.\n",
    "\n",
    "Input:\n",
    "<pre>\n",
    "    3\n",
    "   / \\\n",
    "  9  20\n",
    "    /  \\\n",
    "   15   7  \n",
    "</pre>\n",
    "Output: [[15, 7], [9, 20], [3]]"
   ]
  },
  {
   "cell_type": "code",
   "execution_count": 13,
   "metadata": {},
   "outputs": [
    {
     "name": "stdout",
     "output_type": "stream",
     "text": [
      "None\n"
     ]
    }
   ],
   "source": [
    "root = [3,9,20,None,None,15,7]\n",
    "tree=makeTree(root,0)\n",
    "print(HW5_1(tree))"
   ]
  },
  {
   "cell_type": "markdown",
   "metadata": {},
   "source": [
    "### 예시 2.\n",
    "\n",
    "Input:\n",
    "<pre>\n",
    "    5                                                    \n",
    "   / \\                  \n",
    "  3   6                                           \n",
    " / \\   \\                                           \n",
    "2   4   7    \n",
    "</pre>\n",
    "Output: [[2, 4, 7], [3, 6], [5]]"
   ]
  },
  {
   "cell_type": "code",
   "execution_count": null,
   "metadata": {},
   "outputs": [],
   "source": [
    "root = [5,3,6,2,4,None,7]\n",
    "tree=makeTree(root,0)\n",
    "print(HW5_1(tree))"
   ]
  },
  {
   "cell_type": "markdown",
   "metadata": {},
   "source": [
    "### 예시 3.\n",
    "Input: None\n",
    "Output: None"
   ]
  },
  {
   "cell_type": "code",
   "execution_count": null,
   "metadata": {},
   "outputs": [],
   "source": [
    "root = []\n",
    "tree=makeTree(root,0)\n",
    "print(HW5_1(tree))"
   ]
  },
  {
   "cell_type": "markdown",
   "metadata": {},
   "source": [
    "---"
   ]
  },
  {
   "cell_type": "markdown",
   "metadata": {},
   "source": [
    "# 문제 2. 정렬된 리스트를 Binary Search Tree로 변환하기\n",
    "\n",
    "Ascending order로 정렬된 리스트 'nums'에 대해 height balanced Binary Search Tree로 변환하시오.<br>\n",
    "여기서 height balanced binary tree란 모든 node에 대해서 각 subtree의 depth가 1을 초과해서 차이나지 않는 tree이다. <br>\n",
    "\n",
    "* height balanced binary tree의 root를 return 해야함\n",
    "* 답이 여러가지 경우가 나올 수 있는데 올바른 하나의 정답만 return하면 됩니다.\n"
   ]
  },
  {
   "cell_type": "code",
   "execution_count": null,
   "metadata": {},
   "outputs": [],
   "source": [
    "#Please complete below function\n",
    "from typing import List\n",
    "def HW5_2(nums: List[int]) -> TreeNode:\n",
    "    \"\"\"\n",
    "        Input: List of integer \n",
    "        Output: Root of height balanced binary tree\n",
    "    \"\"\"\n",
    "    \n",
    "    return root"
   ]
  },
  {
   "cell_type": "markdown",
   "metadata": {},
   "source": [
    "### 예시 1.\n",
    "Input: [-10,-3,0,5,9] <br>\n",
    "Output: [0, -3, 9, -10, None, 5, None] <br>\n",
    "<pre>\n",
    "      0\n",
    "     / \\\n",
    "   -3   9\n",
    "   /   /\n",
    " -10  5\n",
    " </pre>"
   ]
  },
  {
   "cell_type": "code",
   "execution_count": null,
   "metadata": {},
   "outputs": [],
   "source": [
    "nums = [-10,-3,0,5,9]\n",
    "HW5_2(nums).printTree()"
   ]
  },
  {
   "cell_type": "markdown",
   "metadata": {},
   "source": [
    "### 예시 2.\n",
    "Input: [0,1,6,15,24,35,66,84] <br>\n",
    "Output: [24, 6, 66, 1, 15, 35, 84, 0, None, None, None, None, None, None, None] <br>\n",
    "<pre>\n",
    "       24\n",
    "     /    \\\n",
    "    6      66\n",
    "  /  \\    /   \\\n",
    " 1   15  35   84\n",
    "/\n",
    "0\n",
    " </pre>"
   ]
  },
  {
   "cell_type": "code",
   "execution_count": null,
   "metadata": {},
   "outputs": [],
   "source": [
    "nums = [0,1,6,15,24,35,66,84]\n",
    "HW5_2(nums).printTree()"
   ]
  },
  {
   "cell_type": "markdown",
   "metadata": {},
   "source": [
    "### 예시 3.\n",
    "* Input: [1,10]\n",
    "* Output: [10,1,None]\n",
    "<pre>\n",
    "     1   \n",
    "    /\n",
    "  10\n",
    " </pre>"
   ]
  },
  {
   "cell_type": "code",
   "execution_count": null,
   "metadata": {},
   "outputs": [],
   "source": [
    "nums = [1,10]\n",
    "HW5_2(nums).printTree()"
   ]
  },
  {
   "cell_type": "markdown",
   "metadata": {},
   "source": [
    "# 제출할 파일 생성 (해결한 문제만 제출해도 됩니다)\n",
    "\n",
    "\n",
    "* **다음 셀을 실행하면 제공한 input파일의 test case를 이용해서 작성하신 코드의 답을 파일로 만들게 됩니다.**\n",
    "* **맨 위쪽 셀에서 `name`과 `number`를 꼭 설정해주세요.(그렇지 않으면 에러가 발생합니다)**\n",
    "* **만들어진 output파일을 제출하면 됩니다.**\n",
    "* **다음과 같이 파일이 생길 텐데, 파일명 및 파일 내용 수정하시면 안됩니다**\n",
    "  * HW5_1_*name*_*number*.txt\n",
    "  * HW5_2_*name*_*number*.txt\n",
    "  \n",
    "* **파일 생성 시 기존 파일은 사라지고 새로운 파일이 만들어집니다.**"
   ]
  },
  {
   "cell_type": "markdown",
   "metadata": {},
   "source": [
    "## 주의 사항이 안 지켜지면 채점이 안 됩니다!"
   ]
  },
  {
   "cell_type": "markdown",
   "metadata": {},
   "source": [
    "## 문제 1 제출 파일 생성 (아래 코드 수정 금지)"
   ]
  },
  {
   "cell_type": "code",
   "execution_count": null,
   "metadata": {
    "scrolled": true
   },
   "outputs": [],
   "source": [
    "try: \n",
    "    name = \"\".join(str(name).split())\n",
    "    number = \"\".join(str(number).split())\n",
    "except:\n",
    "    print('맨 윗부분 셀에서 name과 number변수를 할당해주세요')\n",
    "    raise\n",
    "try:\n",
    "    if len(name) < 3:\n",
    "        raise ValueError('name은 공백 제외 3글자 이상으로 해주세요')\n",
    "except:\n",
    "    raise\n",
    "try:\n",
    "    if len(number) <4:\n",
    "        raise ValueError('number는 4자리 숫자로 해주세요')\n",
    "except:\n",
    "    raise\n",
    "\n",
    "    \n",
    "# 문제 1에 대한 output 파일 생성\n",
    "print(\"파일 생성 시작...\")\n",
    "with open('input5_1.txt', 'r') as f1 \\\n",
    "    ,open('HW5_1_'+name+'_'+number+'.txt','w') as f2:\n",
    "    inputs = f1.readlines()\n",
    "    for case in inputs:\n",
    "        case = case.strip()[1:-1].split(',')\n",
    "        case=[int(c) if c!=\" None\" else None for c in case]\n",
    "        result = HW5_1(makeTree(case,0))\n",
    "        f2.write(str(result)+\"\\n\") \n",
    "        \n",
    "        \n",
    "print('HW5_1_'+name+'_'+number+'.txt 파일이 생성되었습니다')\n",
    "print('해당 파일을 제출하시면 됩니다')"
   ]
  },
  {
   "cell_type": "markdown",
   "metadata": {},
   "source": [
    "## 문제 2 제출 파일 생성 (아래 코드 수정 금지)"
   ]
  },
  {
   "cell_type": "code",
   "execution_count": null,
   "metadata": {},
   "outputs": [],
   "source": [
    "try: \n",
    "    name = \"\".join(str(name).split())\n",
    "    number = \"\".join(str(number).split())\n",
    "except:\n",
    "    print('맨 윗부분 셀에서 name과 number변수를 할당해주세요')\n",
    "    raise\n",
    "try:\n",
    "    if len(name) < 3:\n",
    "        raise ValueError('name은 공백 제외 3글자 이상으로 해주세요')\n",
    "except:\n",
    "    raise\n",
    "try:\n",
    "    if len(number) <4:\n",
    "        raise ValueError('number는 4자리 숫자로 해주세요')\n",
    "except:\n",
    "    raise\n",
    "    \n",
    "# 문제 2에 대한 output 파일 생성\n",
    "print(\"파일 생성 시작...\")\n",
    "with open('input5_2.txt', 'r') as f1 \\\n",
    "    ,open('HW5_2_'+name+'_'+number+'.txt','w') as f2:\n",
    "    inputs = f1.readlines()\n",
    "    for case in inputs:\n",
    "        case = case.strip()[1:-1].split(',')\n",
    "        case=[int(c) if c!=\" None\" else None for c in case]\n",
    "        result = HW5_2(case)\n",
    "        f2.write(str(result.printTree())+\"\\n\") \n",
    "        \n",
    "print('HW5_2_'+name+'_'+number+'.txt 파일이 생성되었습니다')\n",
    "print('해당 파일을 제출하시면 됩니다')"
   ]
  },
  {
   "cell_type": "markdown",
   "metadata": {},
   "source": [
    "## 문제 3 제출 파일 생성 (아래 코드 수정 금지)"
   ]
  },
  {
   "cell_type": "code",
   "execution_count": null,
   "metadata": {},
   "outputs": [],
   "source": []
  },
  {
   "cell_type": "code",
   "execution_count": null,
   "metadata": {},
   "outputs": [],
   "source": []
  }
 ],
 "metadata": {
  "kernelspec": {
   "display_name": "Python 3",
   "language": "python",
   "name": "python3"
  },
  "language_info": {
   "codemirror_mode": {
    "name": "ipython",
    "version": 3
   },
   "file_extension": ".py",
   "mimetype": "text/x-python",
   "name": "python",
   "nbconvert_exporter": "python",
   "pygments_lexer": "ipython3",
   "version": "3.8.3"
  }
 },
 "nbformat": 4,
 "nbformat_minor": 4
}
