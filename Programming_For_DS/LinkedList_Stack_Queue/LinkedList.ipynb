{
 "cells": [
  {
   "cell_type": "code",
   "execution_count": 76,
   "metadata": {},
   "outputs": [],
   "source": [
    "# Implement stack by using single-linked list of LinkedNodes\n",
    "# class LinkedNode():\n",
    "#          def __init__(self, x: int) -> None:\n",
    "#                    self.val = x\n",
    "#                    self.next = None\n",
    "#\n",
    "# class myStack() has four methods\n",
    "# push(x): Add a LinkedNode that has val = x to myStack\n",
    "# pop: Remove the most recently added LinkedNode from myStack\n",
    "# top: Return val of the most recently added LinkedNode\n",
    "# getSize: Return the number of LinkedNodes in myStack\n",
    "# isEmpty: Return True if myStack is empty, or False otherwise.\n",
    "\n",
    "class LinkedNode():\n",
    "    def __init__(self, x: int, size=1) -> None:\n",
    "        self.val = x\n",
    "        self.next = None\n",
    "        self.size = size\n",
    "\n",
    "    def push(self, x) -> None:\n",
    "        # push(x): Add a LinkedNode that has val = x to myStack\n",
    "        if self.size == 0:\n",
    "            self = LinkedNode(x)\n",
    "        else:\n",
    "            temp = self\n",
    "            while temp.hasNext():\n",
    "                temp = temp.next\n",
    "            temp.next = LinkedNode(x)\n",
    "        self.size += 1\n",
    "\n",
    "    def pop(self):\n",
    "        # pop: Remove the most recently added LinkedNode from myStack\n",
    "        if self.size == 0:\n",
    "            pass\n",
    "        elif self.size == 1:\n",
    "            self.size -= 1\n",
    "            self = None\n",
    "        else:  # self. size >= 2\n",
    "            temp = self\n",
    "            while temp.hasNext() and temp.next.hasNext():\n",
    "                temp = temp.next\n",
    "            temp.next = None\n",
    "            self.size -= 1\n",
    "\n",
    "    def top(self):\n",
    "        # top: Return val of the most recently added LinkedNode\n",
    "        if self.size == 0:\n",
    "            return \"This LinkedNode is Empty\"\n",
    "        elif self.size == 1:\n",
    "            return self.val\n",
    "        else:  # size >= 2\n",
    "            temp = self\n",
    "            while temp.hasNext():\n",
    "                temp = temp.next\n",
    "            return temp.val\n",
    "\n",
    "    def getSize(self) -> int:\n",
    "        # getSize: Return the number of LinkedNodes in myStack\n",
    "        return self.size\n",
    "\n",
    "    def isEmpty(self) -> bool:\n",
    "        # isEmpty: Return True if myStack is empty, or False otherwise.\n",
    "        return self.size == 0\n",
    "\n",
    "    def hasNext(self):\n",
    "        # return True if LinkedList has next Node\n",
    "        # return False otherwise\n",
    "        return self.next is not None\n"
   ]
  },
  {
   "cell_type": "code",
   "execution_count": 38,
   "metadata": {},
   "outputs": [
    {
     "data": {
      "text/plain": [
       "5"
      ]
     },
     "execution_count": 38,
     "metadata": {},
     "output_type": "execute_result"
    }
   ],
   "source": [
    "x = LinkedNode(5)\n",
    "x.top()"
   ]
  },
  {
   "cell_type": "code",
   "execution_count": 39,
   "metadata": {},
   "outputs": [
    {
     "data": {
      "text/plain": [
       "1"
      ]
     },
     "execution_count": 39,
     "metadata": {},
     "output_type": "execute_result"
    }
   ],
   "source": [
    "x.getSize()"
   ]
  },
  {
   "cell_type": "code",
   "execution_count": 40,
   "metadata": {},
   "outputs": [
    {
     "data": {
      "text/plain": [
       "False"
      ]
     },
     "execution_count": 40,
     "metadata": {},
     "output_type": "execute_result"
    }
   ],
   "source": [
    "x.isEmpty()"
   ]
  },
  {
   "cell_type": "code",
   "execution_count": 41,
   "metadata": {},
   "outputs": [],
   "source": [
    "x.pop()\n"
   ]
  },
  {
   "cell_type": "code",
   "execution_count": 42,
   "metadata": {},
   "outputs": [
    {
     "data": {
      "text/plain": [
       "0"
      ]
     },
     "execution_count": 42,
     "metadata": {},
     "output_type": "execute_result"
    }
   ],
   "source": [
    "x.getSize()"
   ]
  },
  {
   "cell_type": "code",
   "execution_count": 43,
   "metadata": {},
   "outputs": [
    {
     "data": {
      "text/plain": [
       "True"
      ]
     },
     "execution_count": 43,
     "metadata": {},
     "output_type": "execute_result"
    }
   ],
   "source": [
    "x.isEmpty()"
   ]
  },
  {
   "cell_type": "code",
   "execution_count": 51,
   "metadata": {},
   "outputs": [],
   "source": [
    "x.push(5)"
   ]
  },
  {
   "cell_type": "code",
   "execution_count": 59,
   "metadata": {},
   "outputs": [],
   "source": [
    "x.top()"
   ]
  },
  {
   "cell_type": "code",
   "execution_count": 77,
   "metadata": {},
   "outputs": [
    {
     "data": {
      "text/plain": [
       "6"
      ]
     },
     "execution_count": 77,
     "metadata": {},
     "output_type": "execute_result"
    }
   ],
   "source": [
    "x = LinkedNode(6)\n",
    "x.top()"
   ]
  },
  {
   "cell_type": "code",
   "execution_count": 78,
   "metadata": {},
   "outputs": [],
   "source": [
    "x.push(5)"
   ]
  },
  {
   "cell_type": "code",
   "execution_count": 79,
   "metadata": {},
   "outputs": [
    {
     "data": {
      "text/plain": [
       "5"
      ]
     },
     "execution_count": 79,
     "metadata": {},
     "output_type": "execute_result"
    }
   ],
   "source": [
    "x.top()"
   ]
  },
  {
   "cell_type": "code",
   "execution_count": 80,
   "metadata": {},
   "outputs": [],
   "source": [
    "x.pop()"
   ]
  },
  {
   "cell_type": "code",
   "execution_count": 81,
   "metadata": {},
   "outputs": [
    {
     "data": {
      "text/plain": [
       "6"
      ]
     },
     "execution_count": 81,
     "metadata": {},
     "output_type": "execute_result"
    }
   ],
   "source": [
    "x.top()"
   ]
  },
  {
   "cell_type": "code",
   "execution_count": 82,
   "metadata": {},
   "outputs": [],
   "source": [
    "x.pop()"
   ]
  },
  {
   "cell_type": "code",
   "execution_count": 83,
   "metadata": {},
   "outputs": [
    {
     "data": {
      "text/plain": [
       "'This LinkedNode is Empty'"
      ]
     },
     "execution_count": 83,
     "metadata": {},
     "output_type": "execute_result"
    }
   ],
   "source": [
    "x.top()\n"
   ]
  },
  {
   "cell_type": "code",
   "execution_count": 85,
   "metadata": {},
   "outputs": [],
   "source": [
    "x.push(4)"
   ]
  },
  {
   "cell_type": "code",
   "execution_count": 86,
   "metadata": {},
   "outputs": [
    {
     "data": {
      "text/plain": [
       "'This LinkedNode is Empty'"
      ]
     },
     "execution_count": 86,
     "metadata": {},
     "output_type": "execute_result"
    }
   ],
   "source": [
    "x.top()"
   ]
  }
 ],
 "metadata": {
  "kernelspec": {
   "display_name": "Python 3",
   "language": "python",
   "name": "python3"
  },
  "language_info": {
   "codemirror_mode": {
    "name": "ipython",
    "version": 3
   },
   "file_extension": ".py",
   "mimetype": "text/x-python",
   "name": "python",
   "nbconvert_exporter": "python",
   "pygments_lexer": "ipython3",
   "version": "3.8.3"
  }
 },
 "nbformat": 4,
 "nbformat_minor": 4
}
