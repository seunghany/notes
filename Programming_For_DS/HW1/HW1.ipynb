{
 "cells": [
  {
   "cell_type": "markdown",
   "metadata": {},
   "source": [
    "# 과제 주의사항 필독"
   ]
  },
  {
   "cell_type": "markdown",
   "metadata": {},
   "source": [
    "* **`HW1_1`, `HW1_2`, `HW1_3` 세 함수의 이름 및 함수의 입력으로 받는 parameter는 바꾸지 말아주세요**\n",
    "* **return 타입 지켜주세요**\n",
    "* **다른 함수나 클래스 등 만드셔도 됩니다. 모듈 import 하셔도 됩니다. `HW1_1`, `HW1_2`, `HW1_3` 이 세 함수가 제대로 `return`하기만 하면 됩니다.**\n",
    "\n",
    "* **제출할 output파일은 마지막 부분의 셀을 실행해서 만들게 됩니다**\n"
   ]
  },
  {
   "cell_type": "markdown",
   "metadata": {},
   "source": [
    "* **제출을 하기 위해서 아래의 `name`에는 영문 이름을(3자 이상), `number`에는 핸드폰 번호 뒤 4자리 입력해주세요**\n",
    "  * **이름은 알파벳만 이용!**\n",
    "* **그리고 나서 셀을 꼭 <font size=\"4\">실행</font>해주세요!**\n",
    "* **output파일을 만들 때 파일명에 이름과 번호가 적히게 됩니다.**\n",
    "\n",
    "<pre>\n",
    "예시:\n",
    "name = 'woojung'\n",
    "number = 9821\n",
    "</pre>"
   ]
  },
  {
   "cell_type": "code",
   "execution_count": 99,
   "metadata": {},
   "outputs": [],
   "source": [
    "# 입력 후 셀 실행하기!\n",
    "name = \"Seunghan\"\n",
    "number =  7801"
   ]
  },
  {
   "cell_type": "markdown",
   "metadata": {},
   "source": [
    "# 문제 1. 가위, 바위, 보!"
   ]
  },
  {
   "cell_type": "code",
   "execution_count": 21,
   "metadata": {},
   "outputs": [],
   "source": [
    "def HW1_1(game:list) -> int: #함수 이름, parameter 수정 금지\n",
    "    '''\n",
    "    건도와 재헌이의 가위바위보 기록을 받고,\n",
    "    최종적으로 건도가 이겼으면 1, 비겼으면 0, 졌으면 -1 을 return 하세요\n",
    "    '''\n",
    "    # List 는 3개의 possible element 가 존재 한다. -> R, S, P\n",
    "    # R = Rock\n",
    "    # S = Scissor\n",
    "    # P = Paper\n",
    "    # List [x| x ⊂ {\"R\", \"S\",\"P\"}]\n",
    "    # list 의 length 는 2 이다 \n",
    "    # list 의 첫번째는 건도가 낸것이고, 두번째는 재헌이가 낸 것이다.\n",
    "    # eg [R,S] 건도가 Rock 이고 제헌이가 Paper -> 건도가 졌기 때문에 -1 을 return 하면 된다.\n",
    "    \n",
    "    # 총 3 가지 element를 두 번 고르는 거기 때문에 총 9가지 combination 이 나올 수 있다.\n",
    "    # 그 중 이겼으면 1, 비겼으면 0, 졌으면 -1 이기 때문에 3가지 결과로 분류를 할 수 있다.\n",
    "    \n",
    "    # 이겼을때\n",
    "    count = 0\n",
    "    for i in range(len(game)):\n",
    "        if (game[i][0] == \"R\" and game[i][1] == \"S\") or (game[i][0] == \"S\" and game[i][1] == \"P\") or (game[i][0] == \"P\" and game[i][1] == \"R\"):\n",
    "            count += 1\n",
    "        # 비겼을때\n",
    "        elif game[i][0] == game[i][1]:\n",
    "            count += 0\n",
    "        else: # 졌을때\n",
    "            count -= 1\n",
    "    if count > 0:\n",
    "        return 1\n",
    "    elif count == 0:\n",
    "        return 0\n",
    "    else:\n",
    "        return -1\n",
    "    \n"
   ]
  },
  {
   "cell_type": "code",
   "execution_count": 22,
   "metadata": {},
   "outputs": [
    {
     "name": "stdout",
     "output_type": "stream",
     "text": [
      "1\n"
     ]
    }
   ],
   "source": [
    "print(HW1_1([['R','S']]) ) #정답: 1"
   ]
  },
  {
   "cell_type": "code",
   "execution_count": null,
   "metadata": {},
   "outputs": [],
   "source": []
  },
  {
   "cell_type": "markdown",
   "metadata": {},
   "source": [
    "### 예제 1.\n",
    "아래 셀을 실행했을 때, `1`이 출력되어야 합니다.  "
   ]
  },
  {
   "cell_type": "code",
   "execution_count": 23,
   "metadata": {},
   "outputs": [
    {
     "name": "stdout",
     "output_type": "stream",
     "text": [
      "1\n"
     ]
    }
   ],
   "source": [
    "print(HW1_1([['R','S'], ['P', 'P']]) ) #정답: 1"
   ]
  },
  {
   "cell_type": "markdown",
   "metadata": {},
   "source": [
    "### 예제 2.\n",
    "아래 셀을 실행했을 때, `0`이 출력되어야 합니다.  "
   ]
  },
  {
   "cell_type": "code",
   "execution_count": 24,
   "metadata": {},
   "outputs": [
    {
     "name": "stdout",
     "output_type": "stream",
     "text": [
      "0\n"
     ]
    }
   ],
   "source": [
    "print(HW1_1([['R','S'], ['R', 'R'], ['P','S']]) ) #정답: 0"
   ]
  },
  {
   "cell_type": "markdown",
   "metadata": {},
   "source": [
    "### 예제 3.\n",
    "아래 셀을 실행했을 때, `-1`이 출력되어야 합니다.  "
   ]
  },
  {
   "cell_type": "code",
   "execution_count": 25,
   "metadata": {},
   "outputs": [
    {
     "name": "stdout",
     "output_type": "stream",
     "text": [
      "-1\n"
     ]
    }
   ],
   "source": [
    "print(HW1_1([['S','R'], ['P', 'R'], ['P','S'], ['R', 'P']]) ) #정답: -1"
   ]
  },
  {
   "cell_type": "code",
   "execution_count": 38,
   "metadata": {},
   "outputs": [],
   "source": [
    "import math"
   ]
  },
  {
   "cell_type": "markdown",
   "metadata": {},
   "source": [
    "# 문제 2. 수많은 소수"
   ]
  },
  {
   "cell_type": "code",
   "execution_count": 1,
   "metadata": {},
   "outputs": [],
   "source": [
    "def HW1_2(n:int) -> int: #함수 이름, parameter 수정 금지\n",
    "    '''\n",
    "    1이상 n이하 자연수 중 소수의 개수를 return하는 함수를 구현하세요\n",
    "    '''\n",
    "    if n <= 1:\n",
    "        return 0\n",
    "    \n",
    "    total_prime = 0\n",
    "    for i in range(2, n+1):\n",
    "        if is_prime(i):\n",
    "            total_prime +=1\n",
    "    \n",
    "    return total_prime\n",
    "\n",
    "# def is_prime(n: int):\n",
    "#     # using simple method\n",
    "#     # check if any number between 2 and sqrt(n) gives a whole number\n",
    "#     for i in range(2,n):\n",
    "#         if n % i == 0:\n",
    "#             return False # not prime\n",
    "#     return True\n",
    "\n",
    "def is_prime(n: int) -> bool:\n",
    "    \"\"\"Primality test using 6k+-1 optimization.\"\"\"\n",
    "    if n <= 3:\n",
    "        return n > 1\n",
    "    if n % 2 == 0 or n % 3 == 0:\n",
    "        return False\n",
    "    i = 5\n",
    "    while i ** 2 <= n:\n",
    "        if n % i == 0 or n % (i + 2) == 0:\n",
    "            return False\n",
    "        i += 6\n",
    "    return True\n",
    "    "
   ]
  },
  {
   "cell_type": "markdown",
   "metadata": {},
   "source": [
    "### 예제 1.\n",
    "아래 셀을 실행했을 때, `0`이 출력되어야 합니다.  "
   ]
  },
  {
   "cell_type": "code",
   "execution_count": 2,
   "metadata": {},
   "outputs": [
    {
     "name": "stdout",
     "output_type": "stream",
     "text": [
      "0\n"
     ]
    }
   ],
   "source": [
    "print(HW1_2(1)) #정답: 0"
   ]
  },
  {
   "cell_type": "markdown",
   "metadata": {},
   "source": [
    "### 예제 2.\n",
    "아래 셀을 실행했을 때, `4`가 출력되어야 합니다.  "
   ]
  },
  {
   "cell_type": "code",
   "execution_count": 3,
   "metadata": {},
   "outputs": [
    {
     "name": "stdout",
     "output_type": "stream",
     "text": [
      "4\n"
     ]
    }
   ],
   "source": [
    "print(HW1_2(10)) #정답: 4"
   ]
  },
  {
   "cell_type": "markdown",
   "metadata": {},
   "source": [
    "### 예제 3.\n",
    "아래 셀을 실행했을 때, `202`가 출력되어야 합니다.  "
   ]
  },
  {
   "cell_type": "code",
   "execution_count": 4,
   "metadata": {},
   "outputs": [
    {
     "name": "stdout",
     "output_type": "stream",
     "text": [
      "202\n"
     ]
    }
   ],
   "source": [
    "print(HW1_2(1234)) #정답: 202"
   ]
  },
  {
   "cell_type": "code",
   "execution_count": null,
   "metadata": {},
   "outputs": [],
   "source": []
  },
  {
   "cell_type": "markdown",
   "metadata": {},
   "source": [
    "# 문제 3. 주민등록번호"
   ]
  },
  {
   "cell_type": "code",
   "execution_count": 127,
   "metadata": {},
   "outputs": [],
   "source": [
    "def HW1_3(info:list) -> str: #함수 이름, parameter 수정 금지\n",
    "    '''\n",
    "    info 리스트를 가지고 주민등록번호 앞 7자리를 str으로 return 하세요\n",
    "    ex)info: ['MALE', 1996, 10, 30]\n",
    "    info[0]: str\n",
    "    info[1], info[2], info[3]: int\n",
    "    '''\n",
    "    result = \"\"\n",
    "    result += str(info[1])[2:]\n",
    "    if info[2] < 10:\n",
    "        result += \"0\"\n",
    "    result += str(info[2])\n",
    "    if info[3] < 10:\n",
    "        result += \"0\"\n",
    "    result += str(info[3])\n",
    "    if info[1] < 2000 and info[0] == \"MALE\":\n",
    "        result += \"1\"\n",
    "    elif info[1] >= 2000 and info[0] == \"MALE\":\n",
    "        result += \"3\"\n",
    "    elif info[1] < 2000 and info[0] == \"FEMALE\":\n",
    "        result += \"2\"\n",
    "    else:\n",
    "        result += \"4\"\n",
    "    return result\n"
   ]
  },
  {
   "cell_type": "markdown",
   "metadata": {},
   "source": [
    "### 예제 1.\n",
    "아래 셀을 실행했을 때, `9610301`가 출력되어야 합니다.  \n",
    "설명: 96년10월30일생, 2000년 이전의 남성이므로 성별은 1"
   ]
  },
  {
   "cell_type": "code",
   "execution_count": 125,
   "metadata": {},
   "outputs": [
    {
     "name": "stdout",
     "output_type": "stream",
     "text": [
      "9610301\n"
     ]
    }
   ],
   "source": [
    "print(HW1_3(['MALE', 1996, 10, 30])) #정답: '9610301'"
   ]
  },
  {
   "cell_type": "markdown",
   "metadata": {},
   "source": [
    "### 예제 2\n",
    "아래 셀을 실행했을 때, `0001014`가 출력되어야 합니다.  \n",
    "설명: 00년 01월 01일생, 2000년 이후 여성이므로 성별은 4"
   ]
  },
  {
   "cell_type": "code",
   "execution_count": 128,
   "metadata": {},
   "outputs": [
    {
     "name": "stdout",
     "output_type": "stream",
     "text": [
      "0001014\n"
     ]
    }
   ],
   "source": [
    "print(HW1_3(['FEMALE', 2000, 1, 1])) #정답: '0001014'"
   ]
  },
  {
   "cell_type": "code",
   "execution_count": null,
   "metadata": {},
   "outputs": [],
   "source": []
  },
  {
   "cell_type": "markdown",
   "metadata": {},
   "source": [
    "# 제출할 파일 생성 (해결한 문제만 제출해도 됩니다)\n",
    "\n",
    "\n",
    "* **다음 셀을 실행하면 제공한 input파일의 test case를 이용해서 작성하신 코드의 답을 파일로 만들게 됩니다.**\n",
    "* **맨 위쪽 셀에서 `name`과 `number`를 꼭 설정해주세요.(그렇지 않으면 에러가 발생합니다)**\n",
    "* **만들어진 output파일을 제출하면 됩니다.**\n",
    "* **다음과 같이 파일이 생길 텐데, 파일명 및 파일 내용 수정하시면 안됩니다**\n",
    "  * HW1_1_*name*_*number*.txt\n",
    "  * HW1_2_*name*_*number*.txt\n",
    "  * HW1_3_*name*_*number*.txt\n",
    "  \n",
    "* **파일 생성 시 기존 파일은 사라지고 새로운 파일이 만들어집니다.**"
   ]
  },
  {
   "cell_type": "markdown",
   "metadata": {},
   "source": [
    "## 주의 사항이 안 지켜지면 채점이 안 됩니다!"
   ]
  },
  {
   "cell_type": "markdown",
   "metadata": {},
   "source": [
    "## 문제 1 제출 파일 생성 (아래 코드 수정 금지)"
   ]
  },
  {
   "cell_type": "code",
   "execution_count": 100,
   "metadata": {
    "scrolled": true
   },
   "outputs": [
    {
     "name": "stdout",
     "output_type": "stream",
     "text": [
      "파일 생성 시작...\n",
      "HW1_1_Seunghan_7801.txt 파일이 생성되었습니다\n",
      "해당 파일을 제출하시면 됩니다\n"
     ]
    }
   ],
   "source": [
    "try: \n",
    "    name = \"\".join(str(name).split())\n",
    "    number = \"\".join(str(number).split())\n",
    "except:\n",
    "    print('맨 윗부분 셀에서 name과 number변수를 할당해주세요')\n",
    "    raise\n",
    "try:\n",
    "    if len(name) < 3:\n",
    "        raise ValueError('name은 공백 제외 3글자 이상으로 해주세요')\n",
    "except:\n",
    "    raise\n",
    "try:\n",
    "    if len(number) <4:\n",
    "        raise ValueError('number는 4자리 숫자로 해주세요')\n",
    "except:\n",
    "    raise\n",
    "\n",
    "    \n",
    "# 문제 1에 대한 output 파일 생성\n",
    "print(\"파일 생성 시작...\")\n",
    "with open('input1_1.txt', 'r') as f1 \\\n",
    "    ,open('HW1_1_'+name+'_'+number+'.txt','w') as f2:\n",
    "    inputs = f1.readlines()\n",
    "    for case in inputs:\n",
    "        case = case.strip()\n",
    "        case = list(case)\n",
    "        game = [[case[i], case[i+1]] for i in range(0, len(case), 2)]\n",
    "        f2.write(str(HW1_1(game))+\"\\n\") \n",
    "        \n",
    "print('HW1_1_'+name+'_'+number+'.txt 파일이 생성되었습니다')\n",
    "print('해당 파일을 제출하시면 됩니다')"
   ]
  },
  {
   "cell_type": "markdown",
   "metadata": {},
   "source": [
    "## 문제 2 제출 파일 생성 (아래 코드 수정 금지)"
   ]
  },
  {
   "cell_type": "code",
   "execution_count": 101,
   "metadata": {},
   "outputs": [
    {
     "name": "stdout",
     "output_type": "stream",
     "text": [
      "파일 생성 시작...\n",
      "HW1_2_Seunghan_7801.txt 파일이 생성되었습니다\n",
      "해당 파일을 제출하시면 됩니다\n"
     ]
    }
   ],
   "source": [
    "try: \n",
    "    name = \"\".join(str(name).split())\n",
    "    number = \"\".join(str(number).split())\n",
    "except:\n",
    "    print('맨 윗부분 셀에서 name과 number변수를 할당해주세요')\n",
    "    raise\n",
    "try:\n",
    "    if len(name) < 3:\n",
    "        raise ValueError('name은 공백 제외 3글자 이상으로 해주세요')\n",
    "except:\n",
    "    raise\n",
    "try:\n",
    "    if len(number) <4:\n",
    "        raise ValueError('number는 4자리 숫자로 해주세요')\n",
    "except:\n",
    "    raise\n",
    "    \n",
    "# 문제 2에 대한 output 파일 생성\n",
    "print(\"파일 생성 시작...\")\n",
    "with open('input1_2.txt', 'r') as f1 \\\n",
    "    ,open('HW1_2_'+name+'_'+number+'.txt','w') as f2:\n",
    "    inputs = f1.readlines()\n",
    "    for case in inputs:\n",
    "        case = int(case.strip())\n",
    "        f2.write(str(HW1_2(case))+\"\\n\")\n",
    "        \n",
    "print('HW1_2_'+name+'_'+number+'.txt 파일이 생성되었습니다')\n",
    "print('해당 파일을 제출하시면 됩니다')"
   ]
  },
  {
   "cell_type": "markdown",
   "metadata": {},
   "source": [
    "## 문제 3 제출 파일 생성 (아래 코드 수정 금지)"
   ]
  },
  {
   "cell_type": "code",
   "execution_count": 129,
   "metadata": {},
   "outputs": [
    {
     "name": "stdout",
     "output_type": "stream",
     "text": [
      "파일 생성 시작...\n",
      "HW1_3_Seunghan_7801.txt 파일이 생성되었습니다\n",
      "해당 파일을 제출하시면 됩니다\n"
     ]
    }
   ],
   "source": [
    "try: \n",
    "    name = \"\".join(str(name).split())\n",
    "    number = \"\".join(str(number).split())\n",
    "except:\n",
    "    print('맨 윗부분 셀에서 name과 number변수를 할당해주세요')\n",
    "    raise\n",
    "try:\n",
    "    if len(name) < 2:\n",
    "        raise ValueError('name은 공백 제외 3글자 이상으로 해주세요')\n",
    "except:\n",
    "    raise\n",
    "try:\n",
    "    if len(number) <4:\n",
    "        raise ValueError('number는 4자리 숫자로 해주세요')\n",
    "except:\n",
    "    raise\n",
    "    \n",
    "# 문제 2에 대한 output 파일 생성\n",
    "print(\"파일 생성 시작...\")\n",
    "with open('input1_3.txt', 'r') as f1 \\\n",
    "    ,open('HW1_3_'+name+'_'+number+'.txt','w') as f2:\n",
    "    inputs = f1.readlines()\n",
    "    for case in inputs:\n",
    "        case = case.strip().split()\n",
    "        f2.write(str(HW1_3([case[0], int(case[1]), int(case[2]), int(case[3])]))+\"\\n\")\n",
    "        \n",
    "print('HW1_3_'+name+'_'+number+'.txt 파일이 생성되었습니다')\n",
    "print('해당 파일을 제출하시면 됩니다')"
   ]
  }
 ],
 "metadata": {
  "kernelspec": {
   "display_name": "Python 3",
   "language": "python",
   "name": "python3"
  },
  "language_info": {
   "codemirror_mode": {
    "name": "ipython",
    "version": 3
   },
   "file_extension": ".py",
   "mimetype": "text/x-python",
   "name": "python",
   "nbconvert_exporter": "python",
   "pygments_lexer": "ipython3",
   "version": "3.8.3"
  }
 },
 "nbformat": 4,
 "nbformat_minor": 4
}
