{
 "cells": [
  {
   "cell_type": "markdown",
   "id": "technical-reflection",
   "metadata": {},
   "source": [
    "# TreeNode definition"
   ]
  },
  {
   "cell_type": "code",
   "execution_count": 2,
   "id": "downtown-accessory",
   "metadata": {},
   "outputs": [],
   "source": [
    "class TreeNode():\n",
    "    def __init__(self, s: str, k: int):\n",
    "        self.name = s\n",
    "        self.ary = k\n",
    "        self.child = [None]*k"
   ]
  },
  {
   "cell_type": "markdown",
   "id": "stylish-recommendation",
   "metadata": {},
   "source": [
    "# Tree construction"
   ]
  },
  {
   "cell_type": "code",
   "execution_count": 3,
   "id": "powered-librarian",
   "metadata": {},
   "outputs": [],
   "source": [
    "t_root = TreeNode(\"/\", 10)\n",
    "t_root.child[0] = TreeNode(\"conda\",10)\n",
    "t_root.child[1] = TreeNode(\"idlerc\",10)\n",
    "t_root.child[2] = TreeNode(\"ipynb_checkpoints\",10)\n",
    "t_root.child[3] = TreeNode(\"ipython\",10)\n",
    "t_root.child[4] = TreeNode(\"jupyter\",10)\n",
    "t_root.child[5] = TreeNode(\"VirtualBox\",10)\n",
    "t_root.child[6] = TreeNode(\"3D Objects\",10)\n",
    "t_root.child[7] = TreeNode(\"anaconda3\",10)\n",
    "\n",
    "t_ipython = t_root.child[3]\n",
    "t_ipython.child[0] = TreeNode(\"extensions\",10)\n",
    "t_ipython.child[1] = TreeNode(\"nbextensions\",10)\n",
    "t_ipython.child[2] = TreeNode(\"profile_default\",10)\n",
    "t_default = t_ipython.child[2]\n",
    "t_default.child[0] = TreeNode(\"db\",10)\n",
    "t_default.child[1] = TreeNode(\"log\",10)\n",
    "t_default.child[2] = TreeNode(\"pid\",10)\n",
    "t_default.child[3] = TreeNode(\"security\",10)\n",
    "t_default.child[4] = TreeNode(\"startup\",10)\n",
    "\n",
    "t_jupyter = t_root.child[4]\n",
    "t_jupyter.child[0] = TreeNode(\"lab\",10)\n",
    "t_jupyter.child[1] = TreeNode(\"nbconfig\",10)\n",
    "t_jupyter.child[0].child[0] = TreeNode(\"workspace\",10)\n",
    "\n",
    "t_ana = t_root.child[7]\n",
    "t_ana.child[0] = TreeNode(\"bin\",10)\n",
    "t_ana.child[1] = TreeNode(\"conda-meta\",10)\n",
    "t_ana.child[2] = TreeNode(\"condabin\",10)\n",
    "t_ana.child[3] = TreeNode(\"DLLs\",10)\n",
    "t_ana.child[4] = TreeNode(\"etc\",10)\n",
    "t_etc = t_ana.child[4]\n",
    "t_etc.child[0] = TreeNode(\"fish\",10)\n",
    "t_etc.child[0].child[0] = TreeNode(\"conf.d\",10)\n",
    "t_etc.child[1] = TreeNode(\"jupyter\",10)\n",
    "t_etc.child[1].child[0] = TreeNode(\"jupyter_notebook_config.d\",10)\n",
    "t_etc.child[1].child[1] = TreeNode(\"nbconfig\",10)\n",
    "t_etc.child[1].child[1].child[0] = TreeNode(\"notebook.d\",10)\n",
    "t_etc.child[2] = TreeNode(\"profile.d\",10)"
   ]
  },
  {
   "cell_type": "markdown",
   "id": "previous-vacuum",
   "metadata": {},
   "source": [
    "# Your code for practice"
   ]
  },
  {
   "cell_type": "code",
   "execution_count": 4,
   "id": "upset-solomon",
   "metadata": {},
   "outputs": [],
   "source": [
    "class Tree():\n",
    "    def __init__(self, root: TreeNode) -> None:\n",
    "        self.root = root\n",
    "    \n",
    "    def visit(#Your Code):\n",
    "        # Your Code\n",
    "        \n",
    "    def __DFT_preorderHelp(#Your Code):\n",
    "        # Your Code\n",
    "        \n",
    "    def DFT_preorder(#Your Code):\n",
    "        # Your Code"
   ]
  },
  {
   "cell_type": "markdown",
   "id": "mexican-cricket",
   "metadata": {},
   "source": [
    "# Output"
   ]
  },
  {
   "cell_type": "code",
   "execution_count": 5,
   "id": "charged-powell",
   "metadata": {},
   "outputs": [
    {
     "name": "stdout",
     "output_type": "stream",
     "text": [
      " /\n",
      "-- conda\n",
      "-- idlerc\n",
      "-- ipynb_checkpoints\n",
      "-- ipython\n",
      "---- extensions\n",
      "---- nbextensions\n",
      "---- profile_default\n",
      "------ db\n",
      "------ log\n",
      "------ pid\n",
      "------ security\n",
      "------ startup\n",
      "-- jupyter\n",
      "---- lab\n",
      "------ workspace\n",
      "---- nbconfig\n",
      "-- VirtualBox\n",
      "-- 3D Objects\n",
      "-- anaconda3\n",
      "---- bin\n",
      "---- conda-meta\n",
      "---- condabin\n",
      "---- DLLs\n",
      "---- etc\n",
      "------ fish\n",
      "-------- conf.d\n",
      "------ jupyter\n",
      "-------- jupyter_notebook_config.d\n",
      "-------- nbconfig\n",
      "---------- notebook.d\n",
      "------ profile.d\n"
     ]
    }
   ],
   "source": [
    "# Create a tree\n",
    "myTree = Tree(t_root)\n",
    "\n",
    "# Execute preorder DFT\n",
    "myTree.DFT_preorder()"
   ]
  }
 ],
 "metadata": {
  "kernelspec": {
   "display_name": "Python 3",
   "language": "python",
   "name": "python3"
  },
  "language_info": {
   "codemirror_mode": {
    "name": "ipython",
    "version": 3
   },
   "file_extension": ".py",
   "mimetype": "text/x-python",
   "name": "python",
   "nbconvert_exporter": "python",
   "pygments_lexer": "ipython3",
   "version": "3.9.1"
  }
 },
 "nbformat": 4,
 "nbformat_minor": 5
}
