{
 "cells": [
  {
   "cell_type": "markdown",
   "metadata": {},
   "source": [
    "# \\*과제 주의사항 필독\\*"
   ]
  },
  {
   "cell_type": "markdown",
   "metadata": {},
   "source": [
    "* **`P1`, `P2` 두 함수의 이름 및 함수의 입력으로 받는 parameter는 바꾸지 말아주세요**\n",
    "* **return 타입 지켜주세요**\n",
    "* **다른 함수나 클래스 등 만드셔도 됩니다. `P1`, `P2` 이 두 함수가 제대로 `return`하기만 하면 됩니다.**\n",
    "* **제출할 output파일은 마지막 부분의 셀을 실행해서 만들게 됩니다**\n"
   ]
  },
  {
   "cell_type": "markdown",
   "metadata": {},
   "source": [
    "* **제출을 하기 위해서 아래의 `name`에는 영문 이름을(3자 이상), `number`에는 핸드폰 번호 뒤 4자리 입력해주세요**\n",
    "  * **이름은 알파벳만 이용!**\n",
    "* **그리고 나서 셀을 꼭 <font size=\"4\">실행</font>해주세요!**\n",
    "* **output파일을 만들 때 파일명에 이름과 번호가 적히게 됩니다.**\n",
    "\n",
    "<pre>\n",
    "예시:\n",
    "name = 'woojung'\n",
    "number = 9821\n",
    "</pre>"
   ]
  },
  {
   "cell_type": "code",
   "execution_count": 7,
   "metadata": {},
   "outputs": [],
   "source": [
    "# 입력 후 셀 실행하기!\n",
    "name = 'Seunghan'      # 본인 영문 이름 ex) 'woojung'\n",
    "number =  7801     # 본인 점수 확인 용으로 4자리 숫자 ex) 9821"
   ]
  },
  {
   "cell_type": "markdown",
   "metadata": {},
   "source": [
    "# Problem 1. 수업 시간표\n",
    "\n",
    "\n",
    "There are a total of `numCourses` courses you have to take, labeled from `0` to `numCourses-1`.\n",
    "\n",
    "Some courses may have prerequisites, for example to take course `0` you have to first take course `1`, which is expressed as a pair: `[0,1]`\n",
    "\n",
    "Given the total number of courses and a list of prerequisite pairs, is it possible for you to finish all courses?\n",
    "\n",
    "**Hints**:\n",
    "1. You can create other functions outside of `P1`\n",
    "2. Try using ideas from *graphs*\n",
    "\n",
    "**Constraints**:\n",
    "\n",
    "- The input prerequisites is a graph represented by a list of edges, not adjacency matrices. Read more about [how a graph is represented](https://www.khanacademy.org/computing/computer-science/algorithms/graph-representation/a/representing-graphs).\n",
    "- You may assume that there are no duplicate edges in the input prerequisites.\n",
    "- `1 <= numCourses <= 10^5`"
   ]
  },
  {
   "cell_type": "code",
   "execution_count": 2,
   "metadata": {},
   "outputs": [],
   "source": [
    "class Directed_Graph:\n",
    "    \n",
    "    def __init__(self, V: list, E:list) -> None:\n",
    "        self.V = V[:]\n",
    "        self.neighbor = {}\n",
    "        for v in V:\n",
    "            self.neighbor[v] = []\n",
    "        for (v, w) in E:\n",
    "            self.neighbor[w].append(v)\n",
    "        self.total_count = 0\n",
    "\n",
    "\n",
    "    def DFT(self, roots) -> int:\n",
    "        for root in roots:\n",
    "            self.DFTHelp(root)\n",
    "        # if self.V:\n",
    "        #     visited = {}\n",
    "        #     for v in self.V:\n",
    "        #         visited[v] = False\n",
    "        #     for v in self.V:\n",
    "        #         self.DFTHelp(visited, v)\n",
    "\n",
    "    def DFTHelp(self, v: int) -> None:\n",
    "        self.total_count += 1\n",
    "        for w in self.neighbor[v]:\n",
    "            self.DFTHelp(w)"
   ]
  },
  {
   "cell_type": "code",
   "execution_count": 10,
   "metadata": {},
   "outputs": [],
   "source": [
    "from typing import List\n",
    "\n",
    "def P1(n: int, pres: List[List[int]]) -> bool:\n",
    "    ##################\n",
    "    # Your code here #\n",
    "    ##################\n",
    "    vertex = set()\n",
    "    roots = set()\n",
    "    for elements in pres:\n",
    "        vertex.add(elements[0])\n",
    "        vertex.add(elements[1])\n",
    "        roots.add(elements[1])\n",
    "    for elements in pres:\n",
    "        if elements[0] in roots:\n",
    "            roots.remove(elements[0])\n",
    "    roots = list(roots)\n",
    "    vertex = list(vertex)\n",
    "    DG = Directed_Graph(vertex, pres)\n",
    "#     print(\"Vertex: \", DG.V)\n",
    "#     print(\"Neighbor: \", DG.neighbor)\n",
    "#     print(\"Roots: \", roots)\n",
    "    if len(roots) == 0:\n",
    "        return False\n",
    "    return DG.total_count < n"
   ]
  },
  {
   "cell_type": "markdown",
   "metadata": {},
   "source": [
    "### 예제 1.\n",
    "아래 셀을 실행했을 때, `True`가 출력되어야 합니다.  "
   ]
  },
  {
   "cell_type": "code",
   "execution_count": 4,
   "metadata": {},
   "outputs": [
    {
     "name": "stdout",
     "output_type": "stream",
     "text": [
      "Vertex:  [0, 1]\n",
      "Neighbor:  {0: [1], 1: []}\n",
      "Roots:  [0]\n"
     ]
    },
    {
     "data": {
      "text/plain": [
       "True"
      ]
     },
     "execution_count": 4,
     "metadata": {},
     "output_type": "execute_result"
    }
   ],
   "source": [
    "P1(2, [[1,0]])\n",
    "# Output: True\n",
    "#Explanation: 총 두개의 수업만 들으면 되고, 1코스를 듣기 위해 0코스를 들어야하지만 0코스는 prerequisite 코스가 없기 때문에 두 수업을\n",
    "#듣는 것은 가능하다"
   ]
  },
  {
   "cell_type": "markdown",
   "metadata": {},
   "source": [
    "### 예제 2.\n",
    "아래 셀을 실행했을 때, `False`가 출력되어야 합니다.  "
   ]
  },
  {
   "cell_type": "code",
   "execution_count": 5,
   "metadata": {},
   "outputs": [
    {
     "name": "stdout",
     "output_type": "stream",
     "text": [
      "Vertex:  [0, 1]\n",
      "Neighbor:  {0: [1], 1: [0]}\n",
      "Roots:  []\n"
     ]
    },
    {
     "data": {
      "text/plain": [
       "False"
      ]
     },
     "execution_count": 5,
     "metadata": {},
     "output_type": "execute_result"
    }
   ],
   "source": [
    "P1(2, [[1,0],[0,1]])\n",
    "# Output: False\n",
    "#Explanation: 총 두개의 수업을 들어야 되는데 1코스를 듣기 위해 0코스를 들어야하고, 0코스를 듣기 위해 1코스를 먼저 들어야하기 때문에\n",
    "#실질적으로 두 수업을 들을 수 있는 방법이 없다. "
   ]
  },
  {
   "cell_type": "markdown",
   "metadata": {},
   "source": [
    "# Problem 2. 섬의 최대 넓이\n",
    "\n",
    "Given a non-empty 2D array grid of 0's and 1's, an island is a group of 1's (representing land) connected 4-directionally (horizontal or vertical.) You may assume all four edges of the grid are surrounded by water.\n",
    "\n",
    "Find the maximum area of an island in the given 2D array. (If there is no island, the maximum area is 0.)\n",
    "\n",
    "\n",
    "**Note**: The length of each dimension in the given grid does not exceed 50."
   ]
  },
  {
   "cell_type": "code",
   "execution_count": 25,
   "metadata": {},
   "outputs": [],
   "source": [
    "class undi_graph():\n",
    "    def __init__(self, V: list, E: list) -> None:\n",
    "        self.V = V[:]\n",
    "        self.neighbor = {}\n",
    "        for v in V:\n",
    "            self.neighbor[v] = []\n",
    "        for (v, w) in E:\n",
    "            self.neighbor[v].append(w)\n",
    "            self.neighbor[w].append(v)\n",
    "        self.max = 0\n",
    "        self.local = 0\n",
    "\n",
    "    def __DFTHelp(self, visited: list, v: int) -> None:\n",
    "        if not visited[v]:\n",
    "            self.local += 1\n",
    "            visited[v] = True\n",
    "            for w in self.neighbor[v]:\n",
    "                self.__DFTHelp(visited, w)\n",
    "\n",
    "    def DFT(self) -> None:\n",
    "        if self.V:\n",
    "            visited = {}\n",
    "            for v in self.V:\n",
    "                visited[v] = False\n",
    "            for v in self.V:\n",
    "                self.__DFTHelp(visited, v)\n",
    "                self.max = max(self.max, self.local)\n",
    "                self.local = 0\n",
    "        return self.max\n",
    "\n",
    "def P2(grid) -> int:\n",
    "    # 바다를 없애고 land의 index 만 구하기\n",
    "    all_vertex = []\n",
    "    all_edges = []\n",
    "    new_grid = []\n",
    "    for j in range(len(grid)):\n",
    "        land_index = []\n",
    "        for i in range(len(grid[j])):\n",
    "            if grid[j][i] == 1:  # connected\n",
    "                # land\n",
    "                position = i + j*10\n",
    "                land_index.append(position)\n",
    "                all_vertex.append(position)\n",
    "        new_grid.append(land_index)\n",
    "    # print(\"new_index_grid:\", new_grid)\n",
    "    # make edges\n",
    "    land_dict = {}\n",
    "    for i in range(len(new_grid)):\n",
    "        land_dict[i] = {}\n",
    "        slist = new_grid[i]\n",
    "        land_dict[i]['vertices'] = new_grid[i]\n",
    "        # print(land_dict)\n",
    "        edges = []\n",
    "        for j in range(len(slist) -1):\n",
    "            if slist[j+1] - slist[j] == 1:\n",
    "                edges.append([slist[j], slist[j+1]])\n",
    "        land_dict[i][\"edges\"] = edges\n",
    "        all_edges.extend(edges)\n",
    "    # print(\"dictionary:\", land_dict)\n",
    "    # print(\"---\" * 50)\n",
    "    num_list = len(new_grid)\n",
    "    # print(all_vertex)\n",
    "    for i in range(num_list - 1):\n",
    "        # 이렇게 하면 graph 들이 생김\n",
    "        for vertex in land_dict[i+1]['vertices']:\n",
    "            vertex_before = vertex - 10\n",
    "            if vertex_before in land_dict[i]['vertices']:\n",
    "                new_edge = [vertex, vertex_before]\n",
    "                all_edges.append(new_edge)\n",
    "\n",
    "    # print(\"all edges:\", all_edges)\n",
    "        # graph 를 combine 할 수 있음 좋음\n",
    "    UG = undi_graph(all_vertex, all_edges)\n",
    "    UG.DFT()\n",
    "    return UG.max"
   ]
  },
  {
   "cell_type": "code",
   "execution_count": 19,
   "metadata": {},
   "outputs": [],
   "source": []
  },
  {
   "cell_type": "markdown",
   "metadata": {},
   "source": [
    "### 예제 1.\n",
    "\n",
    "[[0,0,1,0,0,0,0,1,0,0,0,0,0],\n",
    "\n",
    " [0,0,0,0,0,0,0,1,1,1,0,0,0],\n",
    " \n",
    " [0,1,1,0,1,0,0,0,0,0,0,0,0],\n",
    " \n",
    " [0,1,0,0,1,1,0,0,**1**,0,**1**,0,0],\n",
    " \n",
    " [0,1,0,0,1,1,0,0,**1,1,1,**0,0],\n",
    " \n",
    " [0,0,0,0,0,0,0,0,0,0,**1**,0,0],\n",
    " \n",
    " [0,0,0,0,0,0,0,1,1,1,0,0,0],\n",
    " \n",
    " [0,0,0,0,0,0,0,1,1,0,0,0,0]]\n",
    "\n",
    "위 행렬이 주어지고 셀을 실행했을 때, `6`이 출력되어야 합니다.\n",
    "\n",
    "**주의**: *대각선*으로 연결된 `1`은 하나의 섬으로 보지않기 때문에 섬의 최대 크기가 11이 아닌 6입니다 ."
   ]
  },
  {
   "cell_type": "code",
   "execution_count": 26,
   "metadata": {},
   "outputs": [
    {
     "data": {
      "text/plain": [
       "6"
      ]
     },
     "execution_count": 26,
     "metadata": {},
     "output_type": "execute_result"
    }
   ],
   "source": [
    "P2([\n",
    " [0,0,1,0,0,0,0,1,0,0,0,0,0],\n",
    " [0,0,0,0,0,0,0,1,1,1,0,0,0],\n",
    " [0,1,1,0,1,0,0,0,0,0,0,0,0],\n",
    " [0,1,0,0,1,1,0,0,1,0,1,0,0],\n",
    " [0,1,0,0,1,1,0,0,1,1,1,0,0],\n",
    " [0,0,0,0,0,0,0,0,0,0,1,0,0],\n",
    " [0,0,0,0,0,0,0,1,1,1,0,0,0],\n",
    " [0,0,0,0,0,0,0,1,1,0,0,0,0]\n",
    "])"
   ]
  },
  {
   "cell_type": "markdown",
   "metadata": {},
   "source": [
    "### 예제 2.\n",
    "아래 셀을 실행했을 때, `0`이 출력되어야 합니다.  \n",
    "\n",
    "explanation: 섬이 존재하지 않기 때문입니다"
   ]
  },
  {
   "cell_type": "code",
   "execution_count": 27,
   "metadata": {},
   "outputs": [
    {
     "data": {
      "text/plain": [
       "0"
      ]
     },
     "execution_count": 27,
     "metadata": {},
     "output_type": "execute_result"
    }
   ],
   "source": [
    "P2([[0,0,0,0,0,0,0,0]])"
   ]
  },
  {
   "cell_type": "markdown",
   "metadata": {},
   "source": [
    "# 제출할 파일 생성 (해결한 문제만 제출해도 됩니다)\n",
    "\n",
    "\n",
    "* **다음 셀을 실행하면 제공한 input파일의 test case를 이용해서 작성하신 코드의 답을 파일로 만들게 됩니다.**\n",
    "* **맨 위쪽 셀에서 `name`과 `number`를 꼭 설정해주세요.(그렇지 않으면 에러가 발생합니다)**\n",
    "* **만들어진 output파일을 제출하면 됩니다.**\n",
    "* **다음과 같이 파일이 생길 텐데, 파일명 및 파일 내용 수정하시면 안됩니다**\n",
    "  * HW6_1_*name*_*number*.txt\n",
    "  * HW6_2_*name*_*number*.txt\n",
    "  \n",
    "* **파일 생성 시 기존 파일은 사라지고 새로운 파일이 만들어집니다.**"
   ]
  },
  {
   "cell_type": "markdown",
   "metadata": {},
   "source": [
    "## 주의 사항이 안 지켜지면 채점이 안 됩니다!"
   ]
  },
  {
   "cell_type": "markdown",
   "metadata": {},
   "source": [
    "## 문제 1 제출 파일 생성 (아래 코드 수정 금지)"
   ]
  },
  {
   "cell_type": "code",
   "execution_count": 11,
   "metadata": {
    "scrolled": true
   },
   "outputs": [
    {
     "name": "stdout",
     "output_type": "stream",
     "text": [
      "파일 생성 시작...\n",
      "HW6_1_Seunghan_7801.txt 파일이 생성되었습니다\n",
      "해당 파일을 제출하시면 됩니다\n"
     ]
    }
   ],
   "source": [
    "import ast\n",
    "\n",
    "try: \n",
    "    name = \"\".join(str(name).split())\n",
    "    number = \"\".join(str(number).split())\n",
    "except:\n",
    "    print('맨 윗부분 셀에서 name과 number변수를 할당해주세요')\n",
    "    raise\n",
    "try:\n",
    "    if len(name) < 3:\n",
    "        raise ValueError('name은 공백 제외 3글자 이상으로 해주세요')\n",
    "except:\n",
    "    raise\n",
    "try:\n",
    "    if len(number) <4:\n",
    "        raise ValueError('number는 4자리 숫자로 해주세요')\n",
    "except:\n",
    "    raise\n",
    "\n",
    "    \n",
    "# 문제 1에 대한 output 파일 생성\n",
    "print(\"파일 생성 시작...\")\n",
    "with open('input6_1.txt', 'r') as f1 \\\n",
    "    ,open('HW6_1_'+name+'_'+number+'.txt','w') as f2:\n",
    "    inputs = f1.readlines()\n",
    "    for case in inputs:\n",
    "        params = case.strip().split(' ')\n",
    "        num, pres = int(params[0]), ast.literal_eval(''.join(params[1:]))\n",
    "        f2.write(str(P1(num, pres))+\"\\n\") \n",
    "        \n",
    "print('HW6_1_'+name+'_'+number+'.txt 파일이 생성되었습니다')\n",
    "print('해당 파일을 제출하시면 됩니다')"
   ]
  },
  {
   "cell_type": "markdown",
   "metadata": {},
   "source": [
    "## 문제 2 제출 파일 생성 (아래 코드 수정 금지)"
   ]
  },
  {
   "cell_type": "code",
   "execution_count": 29,
   "metadata": {},
   "outputs": [
    {
     "name": "stdout",
     "output_type": "stream",
     "text": [
      "파일 생성 시작...\n",
      "HW6_2_Seunghan_7801.txt 파일이 생성되었습니다\n",
      "해당 파일을 제출하시면 됩니다\n"
     ]
    }
   ],
   "source": [
    "try: \n",
    "    name = \"\".join(str(name).split())\n",
    "    number = \"\".join(str(number).split())\n",
    "except:\n",
    "    print('맨 윗부분 셀에서 name과 number변수를 할당해주세요')\n",
    "    raise\n",
    "try:\n",
    "    if len(name) < 3:\n",
    "        raise ValueError('name은 공백 제외 3글자 이상으로 해주세요')\n",
    "except:\n",
    "    raise\n",
    "try:\n",
    "    if len(number) <4:\n",
    "        raise ValueError('number는 4자리 숫자로 해주세요')\n",
    "except:\n",
    "    raise\n",
    "    \n",
    "# 문제 2에 대한 output 파일 생성\n",
    "print(\"파일 생성 시작...\")\n",
    "with open('input6_2.txt', 'r') as f1 \\\n",
    "    ,open('HW6_2_'+name+'_'+number+'.txt','w') as f2:\n",
    "    inputs = f1.readlines()\n",
    "    for case in inputs:\n",
    "        params = case.strip()\n",
    "        islands = ast.literal_eval(params)\n",
    "        f2.write(str(P2(islands))+\"\\n\") \n",
    "        \n",
    "print('HW6_2_'+name+'_'+number+'.txt 파일이 생성되었습니다')\n",
    "print('해당 파일을 제출하시면 됩니다')"
   ]
  },
  {
   "cell_type": "markdown",
   "metadata": {},
   "source": [
    "# Self 채점하기\n",
    "\n",
    "## P1 채점"
   ]
  },
  {
   "cell_type": "code",
   "execution_count": 12,
   "metadata": {},
   "outputs": [
    {
     "name": "stdout",
     "output_type": "stream",
     "text": [
      "Scoring your answer:\n",
      "\n",
      "\t-#1 is correct\n",
      "\t-#2 is correct\n",
      "\t-#3 is correct\n",
      "\t-#4 is correct\n",
      "\t-#5 is correct\n",
      "\t-#6 is correct\n",
      "\t-#7 is correct\n",
      "\t-#8 is correct\n",
      "\t-#9 is correct\n",
      "\t-#10 is correct\n",
      "------------------------------ \n",
      "\n",
      "Total:100.0%\n"
     ]
    }
   ],
   "source": [
    "import hashlib\n",
    "\n",
    "with open('ans1.txt', 'r') as f_ans, open('HW6_1_'+name+'_'+number+'.txt', 'r') as f_score:\n",
    "    std_ans = f_score.readlines()\n",
    "    ans = f_ans.readlines()\n",
    "    \n",
    "    count = 0\n",
    "    total = len(ans)\n",
    "    print(\"Scoring your answer:\\n\")\n",
    "    for idx, ans in enumerate(ans):\n",
    "        std = hashlib.sha224(str.encode(std_ans[idx])).hexdigest()+\"\\n\"\n",
    "        if std == ans:\n",
    "            print(\"\\t-#{} is correct\".format(idx+1))\n",
    "            count += 1\n",
    "        else: print(\"\\t-#{} is incorrect\".format(idx+1))\n",
    "    print('-'*30, '\\n\\nTotal:{}%'.format(count/total*100))\n"
   ]
  },
  {
   "cell_type": "markdown",
   "metadata": {},
   "source": [
    "## P2 채점"
   ]
  },
  {
   "cell_type": "code",
   "execution_count": 30,
   "metadata": {},
   "outputs": [
    {
     "name": "stdout",
     "output_type": "stream",
     "text": [
      "Scoring your answer:\n",
      "\n",
      "\t-#1 is correct\n",
      "\t-#2 is correct\n",
      "\t-#3 is incorrect\n",
      "\t-#4 is incorrect\n",
      "\t-#5 is incorrect\n",
      "\t-#6 is incorrect\n",
      "\t-#7 is incorrect\n",
      "\t-#8 is incorrect\n",
      "\t-#9 is incorrect\n",
      "\t-#10 is incorrect\n",
      "------------------------------ \n",
      "\n",
      "Total:20.0%\n"
     ]
    }
   ],
   "source": [
    "with open('ans2.txt', 'r') as f_ans, open('HW6_2_'+name+'_'+number+'.txt', 'r') as f_score:\n",
    "    std_ans = f_score.readlines()\n",
    "    ans = f_ans.readlines()\n",
    "    \n",
    "    count = 0\n",
    "    total = len(ans)\n",
    "    print(\"Scoring your answer:\\n\")\n",
    "    for idx, ans in enumerate(ans):\n",
    "        std = hashlib.sha224(str.encode(std_ans[idx])).hexdigest()+\"\\n\"\n",
    "        if std == ans:\n",
    "            print(\"\\t-#{} is correct\".format(idx+1))\n",
    "            count += 1\n",
    "        else: print(\"\\t-#{} is incorrect\".format(idx+1))\n",
    "    print('-'*30, '\\n\\nTotal:{}%'.format(count/total*100))"
   ]
  }
 ],
 "metadata": {
  "kernelspec": {
   "display_name": "Python 3",
   "language": "python",
   "name": "python3"
  },
  "language_info": {
   "codemirror_mode": {
    "name": "ipython",
    "version": 3
   },
   "file_extension": ".py",
   "mimetype": "text/x-python",
   "name": "python",
   "nbconvert_exporter": "python",
   "pygments_lexer": "ipython3",
   "version": "3.8.3"
  }
 },
 "nbformat": 4,
 "nbformat_minor": 4
}
