{
 "cells": [
  {
   "cell_type": "markdown",
   "metadata": {},
   "source": [
    "# \\*과제 주의사항 필독\\*"
   ]
  },
  {
   "cell_type": "markdown",
   "metadata": {},
   "source": [
    "* **`P1`, `P2` 두 함수의 이름 및 함수의 입력으로 받는 parameter는 바꾸지 말아주세요**\n",
    "* **return 타입 지켜주세요**\n",
    "* **다른 함수나 클래스 등 만드셔도 됩니다. `P1`, `P2` 이 두 함수가 제대로 `return`하기만 하면 됩니다.**\n",
    "* **제출할 output파일은 마지막 부분의 셀을 실행해서 만들게 됩니다**\n"
   ]
  },
  {
   "cell_type": "markdown",
   "metadata": {},
   "source": [
    "* **제출을 하기 위해서 아래의 `name`에는 영문 이름을(3자 이상), `number`에는 핸드폰 번호 뒤 4자리 입력해주세요**\n",
    "  * **이름은 알파벳만 이용!**\n",
    "* **그리고 나서 셀을 꼭 <font size=\"4\">실행</font>해주세요!**\n",
    "* **output파일을 만들 때 파일명에 이름과 번호가 적히게 됩니다.**\n",
    "\n",
    "<pre>\n",
    "예시:\n",
    "name = 'woojung'\n",
    "number = 9821\n",
    "</pre>"
   ]
  },
  {
   "cell_type": "code",
   "execution_count": 7,
   "metadata": {},
   "outputs": [],
   "source": [
    "# 입력 후 셀 실행하기!\n",
    "name = 'Seunghan'      # 본인 영문 이름 ex) 'woojung'\n",
    "number =  7801     # 본인 점수 확인 용으로 4자리 숫자 ex) 9821"
   ]
  },
  {
   "cell_type": "markdown",
   "metadata": {},
   "source": [
    "# Problem 1. 수업 시간표\n",
    "\n",
    "\n",
    "There are a total of `numCourses` courses you have to take, labeled from `0` to `numCourses-1`.\n",
    "\n",
    "Some courses may have prerequisites, for example to take course `0` you have to first take course `1`, which is expressed as a pair: `[0,1]`\n",
    "\n",
    "Given the total number of courses and a list of prerequisite pairs, is it possible for you to finish all courses?\n",
    "\n",
    "**Hints**:\n",
    "1. You can create other functions outside of `P1`\n",
    "2. Try using ideas from *graphs*\n",
    "\n",
    "**Constraints**:\n",
    "\n",
    "- The input prerequisites is a graph represented by a list of edges, not adjacency matrices. Read more about [how a graph is represented](https://www.khanacademy.org/computing/computer-science/algorithms/graph-representation/a/representing-graphs).\n",
    "- You may assume that there are no duplicate edges in the input prerequisites.\n",
    "- `1 <= numCourses <= 10^5`"
   ]
  },
  {
   "cell_type": "code",
   "execution_count": 2,
   "metadata": {},
   "outputs": [],
   "source": [
    "class Directed_Graph:\n",
    "    \n",
    "    def __init__(self, V: list, E:list) -> None:\n",
    "        self.V = V[:]\n",
    "        self.neighbor = {}\n",
    "        for v in V:\n",
    "            self.neighbor[v] = []\n",
    "        for (v, w) in E:\n",
    "            self.neighbor[w].append(v)\n",
    "        self.total_count = 0\n",
    "\n",
    "\n",
    "    def DFT(self, roots) -> int:\n",
    "        for root in roots:\n",
    "            self.DFTHelp(root)\n",
    "        # if self.V:\n",
    "        #     visited = {}\n",
    "        #     for v in self.V:\n",
    "        #         visited[v] = False\n",
    "        #     for v in self.V:\n",
    "        #         self.DFTHelp(visited, v)\n",
    "\n",
    "    def DFTHelp(self, v: int) -> None:\n",
    "        self.total_count += 1\n",
    "        for w in self.neighbor[v]:\n",
    "            self.DFTHelp(w)"
   ]
  },
  {
   "cell_type": "code",
   "execution_count": 3,
   "metadata": {},
   "outputs": [],
   "source": [
    "from typing import List\n",
    "\n",
    "def P1(n: int, pres: List[List[int]]) -> bool:\n",
    "    ##################\n",
    "    # Your code here #\n",
    "    ##################\n",
    "    vertex = set()\n",
    "    roots = set()\n",
    "    for elements in pres:\n",
    "        vertex.add(elements[0])\n",
    "        vertex.add(elements[1])\n",
    "        roots.add(elements[1])\n",
    "    for elements in pres:\n",
    "        if elements[0] in roots:\n",
    "            roots.remove(elements[0])\n",
    "    roots = list(roots)\n",
    "    vertex = list(vertex)\n",
    "    DG = Directed_Graph(vertex, pres)\n",
    "#     print(\"Vertex: \", DG.V)\n",
    "#     print(\"Neighbor: \", DG.neighbor)\n",
    "#     print(\"Roots: \", roots)\n",
    "    if len(roots) == 0:\n",
    "        return False\n",
    "    return DG.total_count < n"
   ]
  },
  {
   "cell_type": "markdown",
   "metadata": {},
   "source": [
    "### 예제 1.\n",
    "아래 셀을 실행했을 때, `True`가 출력되어야 합니다.  "
   ]
  },
  {
   "cell_type": "code",
   "execution_count": 4,
   "metadata": {},
   "outputs": [
    {
     "name": "stdout",
     "output_type": "stream",
     "text": [
      "Vertex:  [0, 1]\n",
      "Neighbor:  {0: [1], 1: []}\n",
      "Roots:  [0]\n"
     ]
    },
    {
     "data": {
      "text/plain": [
       "True"
      ]
     },
     "execution_count": 4,
     "metadata": {},
     "output_type": "execute_result"
    }
   ],
   "source": [
    "P1(2, [[1,0]])\n",
    "# Output: True\n",
    "#Explanation: 총 두개의 수업만 들으면 되고, 1코스를 듣기 위해 0코스를 들어야하지만 0코스는 prerequisite 코스가 없기 때문에 두 수업을\n",
    "#듣는 것은 가능하다"
   ]
  },
  {
   "cell_type": "markdown",
   "metadata": {},
   "source": [
    "### 예제 2.\n",
    "아래 셀을 실행했을 때, `False`가 출력되어야 합니다.  "
   ]
  },
  {
   "cell_type": "code",
   "execution_count": 5,
   "metadata": {},
   "outputs": [
    {
     "name": "stdout",
     "output_type": "stream",
     "text": [
      "Vertex:  [0, 1]\n",
      "Neighbor:  {0: [1], 1: [0]}\n",
      "Roots:  []\n"
     ]
    },
    {
     "data": {
      "text/plain": [
       "False"
      ]
     },
     "execution_count": 5,
     "metadata": {},
     "output_type": "execute_result"
    }
   ],
   "source": [
    "P1(2, [[1,0],[0,1]])\n",
    "# Output: False\n",
    "#Explanation: 총 두개의 수업을 들어야 되는데 1코스를 듣기 위해 0코스를 들어야하고, 0코스를 듣기 위해 1코스를 먼저 들어야하기 때문에\n",
    "#실질적으로 두 수업을 들을 수 있는 방법이 없다. "
   ]
  },
  {
   "cell_type": "markdown",
   "metadata": {},
   "source": [
    "# Problem 2. 섬의 최대 넓이\n",
    "\n",
    "Given a non-empty 2D array grid of 0's and 1's, an island is a group of 1's (representing land) connected 4-directionally (horizontal or vertical.) You may assume all four edges of the grid are surrounded by water.\n",
    "\n",
    "Find the maximum area of an island in the given 2D array. (If there is no island, the maximum area is 0.)\n",
    "\n",
    "\n",
    "**Note**: The length of each dimension in the given grid does not exceed 50."
   ]
  },
  {
   "cell_type": "code",
   "execution_count": null,
   "metadata": {},
   "outputs": [],
   "source": [
    "def P2(grid: List[List[int]]) -> int:\n",
    "    ##################\n",
    "    # Your code here #\n",
    "    ##################"
   ]
  },
  {
   "cell_type": "markdown",
   "metadata": {},
   "source": [
    "### 예제 1.\n",
    "\n",
    "[[0,0,1,0,0,0,0,1,0,0,0,0,0],\n",
    "\n",
    " [0,0,0,0,0,0,0,1,1,1,0,0,0],\n",
    " \n",
    " [0,1,1,0,1,0,0,0,0,0,0,0,0],\n",
    " \n",
    " [0,1,0,0,1,1,0,0,**1**,0,**1**,0,0],\n",
    " \n",
    " [0,1,0,0,1,1,0,0,**1,1,1,**0,0],\n",
    " \n",
    " [0,0,0,0,0,0,0,0,0,0,**1**,0,0],\n",
    " \n",
    " [0,0,0,0,0,0,0,1,1,1,0,0,0],\n",
    " \n",
    " [0,0,0,0,0,0,0,1,1,0,0,0,0]]\n",
    "\n",
    "위 행렬이 주어지고 셀을 실행했을 때, `6`이 출력되어야 합니다.\n",
    "\n",
    "**주의**: *대각선*으로 연결된 `1`은 하나의 섬으로 보지않기 때문에 섬의 최대 크기가 11이 아닌 6입니다 ."
   ]
  },
  {
   "cell_type": "code",
   "execution_count": null,
   "metadata": {},
   "outputs": [],
   "source": [
    "P2([[0,0,1,0,0,0,0,1,0,0,0,0,0],\n",
    " [0,0,0,0,0,0,0,1,1,1,0,0,0],\n",
    " [0,1,1,0,1,0,0,0,0,0,0,0,0],\n",
    " [0,1,0,0,1,1,0,0,1,0,1,0,0],\n",
    " [0,1,0,0,1,1,0,0,1,1,1,0,0],\n",
    " [0,0,0,0,0,0,0,0,0,0,1,0,0],\n",
    " [0,0,0,0,0,0,0,1,1,1,0,0,0],\n",
    " [0,0,0,0,0,0,0,1,1,0,0,0,0]])"
   ]
  },
  {
   "cell_type": "markdown",
   "metadata": {},
   "source": [
    "### 예제 2.\n",
    "아래 셀을 실행했을 때, `0`이 출력되어야 합니다.  \n",
    "\n",
    "explanation: 섬이 존재하지 않기 때문입니다"
   ]
  },
  {
   "cell_type": "code",
   "execution_count": null,
   "metadata": {},
   "outputs": [],
   "source": [
    "P2([[0,0,0,0,0,0,0,0]])"
   ]
  },
  {
   "cell_type": "markdown",
   "metadata": {},
   "source": [
    "# 제출할 파일 생성 (해결한 문제만 제출해도 됩니다)\n",
    "\n",
    "\n",
    "* **다음 셀을 실행하면 제공한 input파일의 test case를 이용해서 작성하신 코드의 답을 파일로 만들게 됩니다.**\n",
    "* **맨 위쪽 셀에서 `name`과 `number`를 꼭 설정해주세요.(그렇지 않으면 에러가 발생합니다)**\n",
    "* **만들어진 output파일을 제출하면 됩니다.**\n",
    "* **다음과 같이 파일이 생길 텐데, 파일명 및 파일 내용 수정하시면 안됩니다**\n",
    "  * HW6_1_*name*_*number*.txt\n",
    "  * HW6_2_*name*_*number*.txt\n",
    "  \n",
    "* **파일 생성 시 기존 파일은 사라지고 새로운 파일이 만들어집니다.**"
   ]
  },
  {
   "cell_type": "markdown",
   "metadata": {},
   "source": [
    "## 주의 사항이 안 지켜지면 채점이 안 됩니다!"
   ]
  },
  {
   "cell_type": "markdown",
   "metadata": {},
   "source": [
    "## 문제 1 제출 파일 생성 (아래 코드 수정 금지)"
   ]
  },
  {
   "cell_type": "code",
   "execution_count": 8,
   "metadata": {
    "scrolled": true
   },
   "outputs": [
    {
     "name": "stdout",
     "output_type": "stream",
     "text": [
      "파일 생성 시작...\n",
      "Vertex:  [0, 1]\n",
      "Neighbor:  {0: [1], 1: []}\n",
      "Roots:  [0]\n",
      "Vertex:  [0, 1]\n",
      "Neighbor:  {0: [1], 1: [0]}\n",
      "Roots:  []\n",
      "Vertex:  [0, 1, 2, 3, 4, 5, 6, 7, 8, 9, 10, 11, 12, 13, 14, 15, 16, 17, 18, 19, 20, 21, 22, 23, 24, 25, 26, 27, 28, 29, 30, 31, 32, 33, 34, 35, 36, 37, 38, 39, 40, 41, 42, 43, 44, 45, 46, 47, 48, 49, 50, 51, 52, 53, 54, 55, 56, 57, 58, 59, 60, 61, 62, 63, 64, 65, 66, 67, 68, 69, 70, 71, 72, 73, 74, 75, 76, 77, 78, 79, 80, 81, 82, 83, 84, 85, 86]\n",
      "Neighbor:  {0: [15], 1: [15, 25, 82], 2: [1, 25, 82], 3: [15, 25, 82], 4: [10, 11, 15, 25, 82], 5: [11, 25], 6: [1, 82], 7: [10, 11, 82], 8: [10, 15, 25], 9: [15], 10: [11, 25, 82], 11: [15, 82], 12: [1], 13: [11, 15], 14: [10, 11, 15, 25], 15: [82], 16: [1, 10, 11, 25, 82], 17: [10, 15, 25], 18: [1, 10, 25], 19: [10, 11, 82], 20: [11, 82], 21: [11, 15, 25, 82], 22: [11, 25], 23: [1, 10, 82], 24: [1, 15], 25: [], 26: [1, 10, 11], 27: [11], 28: [1, 82], 29: [15, 25, 82], 30: [1, 11, 82], 31: [11, 15, 82], 32: [11, 15, 82], 33: [10], 34: [1, 11, 15], 35: [10, 11, 15, 82], 36: [10, 11, 15], 37: [1, 10, 11, 25, 82], 38: [11, 15, 25, 82], 39: [1, 10, 82], 40: [10, 15, 25, 82], 41: [11, 82], 42: [11], 43: [10], 44: [1, 11, 15, 25], 45: [1, 11], 46: [10, 25, 82], 47: [1, 11], 48: [11, 15, 25, 82], 49: [1, 10, 11, 82], 50: [1, 25, 82], 51: [11, 25, 82], 52: [10, 11, 15, 25], 53: [10, 11], 54: [11], 55: [1, 10, 11], 56: [1, 10, 11, 25, 82], 57: [1, 11, 15, 82], 58: [10, 11, 25], 59: [11, 15, 25], 60: [1, 25, 82], 61: [10, 11], 62: [10, 11], 63: [11], 64: [1, 15, 25], 65: [11, 82], 66: [11, 25, 82], 67: [10, 15, 25, 82], 68: [10], 69: [1, 10, 25], 70: [15, 25, 82], 71: [1, 11, 82], 72: [10, 11, 15, 82], 73: [1, 10, 25], 74: [1, 10, 11], 75: [1, 15], 76: [15, 82], 77: [1], 78: [1, 10, 25, 82], 79: [10, 25, 82], 80: [10, 15, 25], 81: [11, 25], 82: [], 83: [15], 84: [1, 15, 25], 85: [1, 15, 25], 86: [10, 25, 82]}\n",
      "Roots:  [0, 2, 3, 4, 5, 6, 7, 8, 9, 12, 13, 14, 16, 17, 18, 19, 20, 21, 22, 23, 24, 26, 27, 28, 29, 30, 31, 32, 33, 34, 35, 36, 37, 38, 39, 40, 41, 42, 43, 44, 45, 46, 47, 48, 49, 50, 51, 52, 53, 54, 55, 56, 57, 58, 59, 60, 61, 62, 63, 64, 65, 66, 67, 68, 69, 70, 71, 72, 73, 74, 75, 76, 77, 78, 79, 80, 81, 83, 84, 85, 86]\n",
      "Vertex:  [0, 1, 2, 3]\n",
      "Neighbor:  {0: [], 1: [], 2: [1], 3: [0]}\n",
      "Roots:  [2, 3]\n",
      "Vertex:  [0, 1, 2, 3, 4, 5, 6, 7, 8, 9, 10, 11, 12, 13, 14, 15, 16, 17, 18, 19, 20, 21, 22, 23, 24, 25, 26, 27, 28, 29, 30, 31, 32, 33, 34, 35, 36, 37, 38, 39, 40, 41, 42, 43, 44, 45, 46, 47, 48, 49, 50, 51, 52, 53, 54, 55, 56, 57, 58, 59, 60, 61, 62, 63, 64, 65, 66, 67, 68, 69, 70, 71, 72, 73, 74, 75, 76, 77, 78, 79, 80, 81, 82, 83, 84, 85, 86, 87, 88, 89, 90, 91, 92, 93, 94, 95, 96, 97, 98]\n",
      "Neighbor:  {0: [], 1: [], 2: [], 3: [], 4: [30, 54], 5: [26], 6: [24], 7: [50], 8: [44], 9: [], 10: [], 11: [25], 12: [3], 13: [1, 10], 14: [19, 76, 85], 15: [], 16: [], 17: [79], 18: [], 19: [34], 20: [], 21: [], 22: [46, 64, 70], 23: [52], 24: [27, 29], 25: [33], 26: [], 27: [], 28: [], 29: [], 30: [], 31: [62, 77], 32: [28, 88], 33: [37], 34: [], 35: [38, 60], 36: [41, 80], 37: [], 38: [63], 39: [58], 40: [13, 65], 41: [7, 90], 42: [6, 17, 59, 98], 43: [4, 9, 35, 39], 44: [66], 45: [], 46: [14, 86], 47: [31, 49], 48: [67, 82], 49: [12], 50: [], 51: [22, 75, 84], 52: [], 53: [89], 54: [57, 94], 55: [], 56: [], 57: [], 58: [42], 59: [18, 71], 60: [0], 61: [55], 62: [], 63: [], 64: [], 65: [40, 68, 93], 66: [78], 67: [5], 68: [], 69: [95], 70: [21], 71: [], 72: [], 73: [43], 74: [47, 56, 81], 75: [], 76: [45, 53], 77: [], 78: [20, 23, 48, 73], 79: [], 80: [], 81: [], 82: [], 83: [36, 61, 69, 91], 84: [74], 85: [16], 86: [72], 87: [2, 96], 88: [], 89: [51], 90: [], 91: [], 92: [11, 83], 93: [], 94: [8], 95: [87], 96: [15, 92], 97: [32], 98: [97]}\n",
      "Roots:  []\n",
      "Vertex:  [0, 1, 2, 3, 4, 5, 6, 7, 8, 9, 10, 11, 12, 13, 14, 15, 16, 17, 18, 19, 20, 21, 22, 23, 24, 25, 26, 27, 28, 29, 30, 31, 32, 33, 34, 35, 36, 37, 38, 39, 40, 41, 42, 43, 44, 45, 46, 47, 48, 49, 50, 51, 52, 53, 54, 55, 56, 57, 58, 59, 60, 61, 62, 63, 64, 65, 66, 67, 68, 69, 70, 71, 72, 73, 74, 75, 76, 77, 78, 79]\n",
      "Neighbor:  {0: [], 1: [], 2: [65], 3: [], 4: [14, 71], 5: [63], 6: [58, 59], 7: [26], 8: [30], 9: [4], 10: [46, 50], 11: [], 12: [54], 13: [19], 14: [13], 15: [], 16: [52], 17: [70], 18: [55], 19: [0, 45], 20: [61], 21: [15, 69], 22: [12, 51], 23: [40], 24: [47], 25: [21], 26: [], 27: [73], 28: [18, 68, 74], 29: [], 30: [25], 31: [], 32: [], 33: [], 34: [75], 35: [], 36: [], 37: [], 38: [43, 49], 39: [76], 40: [], 41: [66], 42: [], 43: [], 44: [41], 45: [], 46: [35], 47: [32, 42], 48: [], 49: [24], 50: [], 51: [62], 52: [38], 53: [5, 36], 54: [], 55: [29, 34], 56: [23], 57: [20], 58: [11], 59: [9], 60: [], 61: [10, 17, 72], 62: [56, 67], 63: [], 64: [], 65: [], 66: [16, 48], 67: [44], 68: [2, 79], 69: [27], 70: [60], 71: [6, 39], 72: [31, 33, 53, 57], 73: [7, 8, 64], 74: [22], 75: [1, 37], 76: [], 77: [78], 78: [3, 28, 77], 79: []}\n",
      "Roots:  []\n",
      "Vertex:  [0, 1, 2, 3, 4]\n",
      "Neighbor:  {0: [2], 1: [], 2: [], 3: [1], 4: [0]}\n",
      "Roots:  [3, 4]\n",
      "Vertex:  [0, 1, 2, 3, 4, 5, 6, 7, 8, 9, 10, 11, 12, 13, 14, 15, 16, 17, 18, 19, 20, 21, 22, 23, 24, 25, 26, 27, 28, 29, 30, 31]\n",
      "Neighbor:  {0: [31], 1: [0], 2: [10], 3: [8, 9], 4: [27, 28], 5: [3, 25], 6: [19, 23], 7: [18], 8: [29, 30], 9: [21], 10: [20], 11: [], 12: [], 13: [16], 14: [], 15: [], 16: [4, 24], 17: [2], 18: [], 19: [], 20: [], 21: [14], 22: [], 23: [6, 12, 13], 24: [5], 25: [17, 22], 26: [], 27: [], 28: [7, 11], 29: [15], 30: [1, 26], 31: []}\n",
      "Roots:  []\n",
      "Vertex:  [0, 1, 2, 3, 4, 5, 6, 7, 8, 9, 10, 11, 12, 13, 14, 15, 16, 17, 18, 19, 20, 21, 22, 23, 24, 25, 26, 27, 28, 29, 30, 31, 32, 33, 34, 35, 36, 37, 38, 39, 40, 41, 42, 43, 44, 45, 46, 47, 48, 49, 50, 51, 52, 53, 54, 55, 56, 57, 58, 59, 60, 61, 62, 63, 64]\n",
      "Neighbor:  {0: [], 1: [33], 2: [], 3: [19, 23], 4: [], 5: [46], 6: [], 7: [0, 47], 8: [4], 9: [], 10: [27, 34], 11: [1, 26, 32], 12: [], 13: [], 14: [11, 24], 15: [53], 16: [20, 36, 43], 17: [], 18: [12, 29, 39], 19: [9], 20: [], 21: [], 22: [6, 41], 23: [40], 24: [15], 25: [61], 26: [], 27: [], 28: [], 29: [50, 51], 30: [54], 31: [21], 32: [14, 49, 63], 33: [2, 38], 34: [52, 60], 35: [], 36: [55], 37: [18], 38: [56], 39: [35, 57], 40: [42], 41: [], 42: [], 43: [], 44: [13], 45: [8, 17], 46: [], 47: [5, 48], 48: [16, 25, 44, 64], 49: [30, 58, 59], 50: [7], 51: [], 52: [], 53: [28], 54: [], 55: [37], 56: [], 57: [], 58: [3, 62], 59: [], 60: [], 61: [45], 62: [10, 22], 63: [31], 64: []}\n",
      "Roots:  []\n",
      "Vertex:  [0, 1, 2, 3, 4, 5, 6, 7, 8, 9, 10, 11, 12, 13, 14, 15, 16, 17, 18, 19, 20, 21, 22, 23, 24, 25, 26, 27, 28, 29, 30, 31, 32, 33, 34, 35, 36, 37, 38, 39, 40, 41, 42, 43, 44, 45, 46, 47, 48, 49, 50, 51, 52, 53, 54, 55, 56, 57, 58, 59, 60, 61, 62, 63, 64, 65, 66, 67, 68, 69, 70, 71, 72, 73, 74]\n",
      "Neighbor:  {0: [42], 1: [], 2: [], 3: [], 4: [17, 24, 59], 5: [6, 63], 6: [], 7: [56], 8: [22, 40, 72], 9: [29, 60, 68], 10: [], 11: [], 12: [58], 13: [48], 14: [], 15: [], 16: [73], 17: [43], 18: [], 19: [64], 20: [], 21: [8, 46], 22: [], 23: [], 24: [], 25: [1, 12, 38], 26: [33, 34], 27: [49], 28: [], 29: [66, 70, 71], 30: [], 31: [55], 32: [], 33: [47], 34: [36], 35: [], 36: [], 37: [15, 25, 69], 38: [14, 20], 39: [7, 19], 40: [26, 41], 41: [], 42: [], 43: [27], 44: [18], 45: [], 46: [37], 47: [10], 48: [4, 74], 49: [23], 50: [], 51: [50, 67], 52: [], 53: [16, 39], 54: [], 55: [2], 56: [], 57: [53], 58: [], 59: [61], 60: [], 61: [0, 30], 62: [], 63: [], 64: [51, 62], 65: [3], 66: [13], 67: [], 68: [54], 69: [9, 31, 32, 44, 57], 70: [5, 45], 71: [11], 72: [21, 52], 73: [65], 74: [28, 35]}\n",
      "Roots:  []\n",
      "HW6_1_Seunghan_7801.txt 파일이 생성되었습니다\n",
      "해당 파일을 제출하시면 됩니다\n"
     ]
    }
   ],
   "source": [
    "import ast\n",
    "\n",
    "try: \n",
    "    name = \"\".join(str(name).split())\n",
    "    number = \"\".join(str(number).split())\n",
    "except:\n",
    "    print('맨 윗부분 셀에서 name과 number변수를 할당해주세요')\n",
    "    raise\n",
    "try:\n",
    "    if len(name) < 3:\n",
    "        raise ValueError('name은 공백 제외 3글자 이상으로 해주세요')\n",
    "except:\n",
    "    raise\n",
    "try:\n",
    "    if len(number) <4:\n",
    "        raise ValueError('number는 4자리 숫자로 해주세요')\n",
    "except:\n",
    "    raise\n",
    "\n",
    "    \n",
    "# 문제 1에 대한 output 파일 생성\n",
    "print(\"파일 생성 시작...\")\n",
    "with open('input6_1.txt', 'r') as f1 \\\n",
    "    ,open('HW6_1_'+name+'_'+number+'.txt','w') as f2:\n",
    "    inputs = f1.readlines()\n",
    "    for case in inputs:\n",
    "        params = case.strip().split(' ')\n",
    "        num, pres = int(params[0]), ast.literal_eval(''.join(params[1:]))\n",
    "        f2.write(str(P1(num, pres))+\"\\n\") \n",
    "        \n",
    "print('HW6_1_'+name+'_'+number+'.txt 파일이 생성되었습니다')\n",
    "print('해당 파일을 제출하시면 됩니다')"
   ]
  },
  {
   "cell_type": "markdown",
   "metadata": {},
   "source": [
    "## 문제 2 제출 파일 생성 (아래 코드 수정 금지)"
   ]
  },
  {
   "cell_type": "code",
   "execution_count": null,
   "metadata": {},
   "outputs": [],
   "source": [
    "try: \n",
    "    name = \"\".join(str(name).split())\n",
    "    number = \"\".join(str(number).split())\n",
    "except:\n",
    "    print('맨 윗부분 셀에서 name과 number변수를 할당해주세요')\n",
    "    raise\n",
    "try:\n",
    "    if len(name) < 3:\n",
    "        raise ValueError('name은 공백 제외 3글자 이상으로 해주세요')\n",
    "except:\n",
    "    raise\n",
    "try:\n",
    "    if len(number) <4:\n",
    "        raise ValueError('number는 4자리 숫자로 해주세요')\n",
    "except:\n",
    "    raise\n",
    "    \n",
    "# 문제 2에 대한 output 파일 생성\n",
    "print(\"파일 생성 시작...\")\n",
    "with open('input6_2.txt', 'r') as f1 \\\n",
    "    ,open('HW6_2_'+name+'_'+number+'.txt','w') as f2:\n",
    "    inputs = f1.readlines()\n",
    "    for case in inputs:\n",
    "        params = case.strip()\n",
    "        islands = ast.literal_eval(params)\n",
    "        f2.write(str(P2(islands))+\"\\n\") \n",
    "        \n",
    "print('HW6_2_'+name+'_'+number+'.txt 파일이 생성되었습니다')\n",
    "print('해당 파일을 제출하시면 됩니다')"
   ]
  },
  {
   "cell_type": "markdown",
   "metadata": {},
   "source": [
    "# Self 채점하기\n",
    "\n",
    "## P1 채점"
   ]
  },
  {
   "cell_type": "code",
   "execution_count": 9,
   "metadata": {},
   "outputs": [
    {
     "name": "stdout",
     "output_type": "stream",
     "text": [
      "Scoring your answer:\n",
      "\n",
      "\t-#1 is correct\n",
      "\t-#2 is correct\n",
      "\t-#3 is correct\n",
      "\t-#4 is correct\n",
      "\t-#5 is correct\n",
      "\t-#6 is correct\n",
      "\t-#7 is correct\n",
      "\t-#8 is correct\n",
      "\t-#9 is correct\n",
      "\t-#10 is correct\n",
      "------------------------------ \n",
      "\n",
      "Total:100.0%\n"
     ]
    }
   ],
   "source": [
    "import hashlib\n",
    "\n",
    "with open('ans1.txt', 'r') as f_ans, open('HW6_1_'+name+'_'+number+'.txt', 'r') as f_score:\n",
    "    std_ans = f_score.readlines()\n",
    "    ans = f_ans.readlines()\n",
    "    \n",
    "    count = 0\n",
    "    total = len(ans)\n",
    "    print(\"Scoring your answer:\\n\")\n",
    "    for idx, ans in enumerate(ans):\n",
    "        std = hashlib.sha224(str.encode(std_ans[idx])).hexdigest()+\"\\n\"\n",
    "        if std == ans:\n",
    "            print(\"\\t-#{} is correct\".format(idx+1))\n",
    "            count += 1\n",
    "        else: print(\"\\t-#{} is incorrect\".format(idx+1))\n",
    "    print('-'*30, '\\n\\nTotal:{}%'.format(count/total*100))\n"
   ]
  },
  {
   "cell_type": "markdown",
   "metadata": {},
   "source": [
    "## P2 채점"
   ]
  },
  {
   "cell_type": "code",
   "execution_count": null,
   "metadata": {},
   "outputs": [],
   "source": [
    "with open('ans2.txt', 'r') as f_ans, open('HW6_2_'+name+'_'+number+'.txt', 'r') as f_score:\n",
    "    std_ans = f_score.readlines()\n",
    "    ans = f_ans.readlines()\n",
    "    \n",
    "    count = 0\n",
    "    total = len(ans)\n",
    "    print(\"Scoring your answer:\\n\")\n",
    "    for idx, ans in enumerate(ans):\n",
    "        std = hashlib.sha224(str.encode(std_ans[idx])).hexdigest()+\"\\n\"\n",
    "        if std == ans:\n",
    "            print(\"\\t-#{} is correct\".format(idx+1))\n",
    "            count += 1\n",
    "        else: print(\"\\t-#{} is incorrect\".format(idx+1))\n",
    "    print('-'*30, '\\n\\nTotal:{}%'.format(count/total*100))"
   ]
  }
 ],
 "metadata": {
  "kernelspec": {
   "display_name": "Python 3",
   "language": "python",
   "name": "python3"
  },
  "language_info": {
   "codemirror_mode": {
    "name": "ipython",
    "version": 3
   },
   "file_extension": ".py",
   "mimetype": "text/x-python",
   "name": "python",
   "nbconvert_exporter": "python",
   "pygments_lexer": "ipython3",
   "version": "3.8.3"
  }
 },
 "nbformat": 4,
 "nbformat_minor": 4
}
