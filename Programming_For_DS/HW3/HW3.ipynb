{
 "cells": [
  {
   "cell_type": "markdown",
   "metadata": {},
   "source": [
    "# 과제 주의사항 필독"
   ]
  },
  {
   "cell_type": "markdown",
   "metadata": {},
   "source": [
    "* **`HW3_1`, `HW3_2` 함수의 이름 및 함수의 입력으로 받는 parameter는 바꾸지 말아주세요**\n",
    "* **return 타입 지켜주세요**\n",
    "* **다른 함수나 클래스 등 만드셔도 됩니다. `HW3_1`, `HW3_2` 함수가 제대로 `return`하기만 하면 됩니다.**\n",
    "* **제출할 output파일은 마지막 부분의 셀을 실행해서 만들게 됩니다**\n"
   ]
  },
  {
   "cell_type": "markdown",
   "metadata": {},
   "source": [
    "* **제출을 하기 위해서 아래의 `name`에는 영문 이름을(3자 이상), `number`에는 핸드폰 번호 뒤 4자리 입력해주세요**\n",
    "  * **이름은 알파벳만 이용!**\n",
    "* **그리고 나서 셀을 꼭 <font size=\"4\">실행</font>해주세요!**\n",
    "* **output파일을 만들 때 파일명에 이름과 번호가 적히게 됩니다.**\n",
    "\n",
    "<pre>\n",
    "예시:\n",
    "name = 'woojung'\n",
    "number = 9821\n",
    "</pre>"
   ]
  },
  {
   "cell_type": "code",
   "execution_count": 35,
   "metadata": {},
   "outputs": [],
   "source": [
    "# 입력 후 셀 실행하기!\n",
    "name = 'Seunghan'  # 본인 영문 이름 ex) 'woojung'\n",
    "number = 7801   # 본인 점수 확인 용으로 4자리 숫자 ex) 9821"
   ]
  },
  {
   "cell_type": "markdown",
   "metadata": {},
   "source": [
    "# 문제 1. 가장 많이 반복된 단어 찾기\n",
    "\n",
    "영어 한문장으로 이루어진 string “s”에 대하여, 가장 많이 반복된 단어를 소문자로 return하는 함수를 python으로 작성하시오.<br>\n",
    "<pre>\n",
    "조건 1) 단어 반복은 대소문자를 구별하지 않음 (즉, BALL과 ball은 같은 단어로 간주함). <br>\n",
    "조건 2) 문장은 마침표 “.” 로 끝나며, 문장 중간에 쉼표 “,”와 같은 특수문자는 없음 <br>\n",
    "조건 3) 가장 많이 반복된 단어가 여러개일 경우, 가장 먼저 나온 단어를 return한다.\n",
    "</pre>\n",
    "* 적절한 string method를 사용할 것\n",
    "* 수업 시간에 배운 data structure들만 사용 가능\n",
    "* 최대한 빠른 알고리즘을 만들 것 (HINT: 가장 빠른 알고리즘의 time complexity는 O(n))"
   ]
  },
  {
   "cell_type": "code",
   "execution_count": 36,
   "metadata": {},
   "outputs": [],
   "source": [
    "#Helper function: DO NOT MODIFY!!\n",
    "#Time mesurement function\n",
    "import timeit\n",
    "def function_time(function, inputs):\n",
    "    start=timeit.default_timer()\n",
    "    out=function(inputs)\n",
    "    return out, (timeit.default_timer()-start)*1000"
   ]
  },
  {
   "cell_type": "code",
   "execution_count": 37,
   "metadata": {},
   "outputs": [],
   "source": [
    "#Please complete below function\n",
    "def HW3_1(s:str) -> str:\n",
    "    '''\n",
    "    Input: String of sentence\n",
    "    Output: Most repeated word\n",
    "    '''\n",
    "    s = s.lower()\n",
    "    words = s.split()\n",
    "    dict_words = {}\n",
    "    for word in words:\n",
    "        # ['bob', 'hit', 'a', 'ball', 'and', 'the', 'hit', 'ball', 'flew', 'far', 'after', 'it', 'was', 'hit.']\n",
    "        # word = each word in the list\n",
    "        if word.endswith('.'):\n",
    "            word = word[0:-1]\n",
    "            # print(word) checking hit. -> hit\n",
    "        if word not in dict_words:\n",
    "            dict_words[word] = 1\n",
    "        else:\n",
    "            dict_words[word] += 1\n",
    "    max = -1\n",
    "    ans = \"\"\n",
    "    for word in dict_words.keys():\n",
    "        if dict_words[word] > max:\n",
    "            max = dict_words[word]\n",
    "            ans = word\n",
    "    return ans"
   ]
  },
  {
   "cell_type": "markdown",
   "metadata": {},
   "source": [
    "### 예시 1.\n",
    "* Input: s = \"Bob Hit a ball and the hiT BALL flew far after it was hit.\" <br>\n",
    "* Output: \"hit\""
   ]
  },
  {
   "cell_type": "code",
   "execution_count": 22,
   "metadata": {},
   "outputs": [
    {
     "name": "stdout",
     "output_type": "stream",
     "text": [
      "Output: \"hit\", Time: 0.030500ms\n"
     ]
    }
   ],
   "source": [
    "out, ms= function_time(HW3_1,\"Bob Hit a ball and the hiT BALL flew far after it was hit.\")\n",
    "print(\"Output: \\\"{0}\\\", Time: {1:0.6f}ms\".format(out, ms)) #정답: \"hit\""
   ]
  },
  {
   "cell_type": "markdown",
   "metadata": {},
   "source": [
    "### 예시 2.\n",
    "* Input: s = \"I Love you beCAUSE YOU loVE me.\"\n",
    "* Output: \"love\""
   ]
  },
  {
   "cell_type": "code",
   "execution_count": 23,
   "metadata": {},
   "outputs": [
    {
     "name": "stdout",
     "output_type": "stream",
     "text": [
      "Output: \"love\", Time: 0.012300ms\n"
     ]
    }
   ],
   "source": [
    "out, ms= function_time(HW3_1,\"I Love you beCAUSE YOU loVE me.\")\n",
    "print(\"Output: \\\"{0}\\\", Time: {1:0.6f}ms\".format(out, ms)) #정답: \"love\""
   ]
  },
  {
   "cell_type": "markdown",
   "metadata": {},
   "source": [
    "### 예시 3.\n",
    "* Input: s = \"I fELt hApPy becAUSe i Saw tHE oThers wERe hAPPY and bECauSE i knEW I SHOuLd fEEl hAppy bUT I wAS NOt reALly HAPPY.\"\n",
    "* Output: \"i\""
   ]
  },
  {
   "cell_type": "code",
   "execution_count": 24,
   "metadata": {},
   "outputs": [
    {
     "name": "stdout",
     "output_type": "stream",
     "text": [
      "Output: \"i\", Time: 0.017300ms\n"
     ]
    }
   ],
   "source": [
    "out, ms= function_time(HW3_1,\"I fELt hApPy becAUSe i Saw tHE oThers wERe hAPPY and bECauSE i knEW I SHOuLd fEEl hAppy bUT I wAS NOt reALly HAPPY.\")\n",
    "print(\"Output: \\\"{0}\\\", Time: {1:0.6f}ms\".format(out, ms)) #정답: \"i\""
   ]
  },
  {
   "cell_type": "markdown",
   "metadata": {},
   "source": [
    "---"
   ]
  },
  {
   "cell_type": "markdown",
   "metadata": {},
   "source": [
    "# 문제 2. 가장 먼저 등장한 유일한 알파벳 찾기\n",
    "\n",
    "영어 알파벳으로만 이루어진 string “s”에 대하여, “s”에서 가장 첫번째 unique character(반복되지 않는 character)를 찾아 index를 return 하는 함수를 python으로 작성하시오. <br>\n",
    "unique character가 없을 경우 -1을 return 하시오. <br>\n",
    "\n",
    "* 수업 시간에 배운 data structure들만 사용 가능\n",
    "* 최대한 빠른 알고리즘을 만들 것 (HINT: 가장 빠른 알고리즘의 time complexity는 O(n))\n"
   ]
  },
  {
   "cell_type": "code",
   "execution_count": 32,
   "metadata": {},
   "outputs": [],
   "source": [
    "#Please complete below function\n",
    "def HW3_2(s: str) -> int:\n",
    "    \"\"\"\n",
    "        Input: String \n",
    "        Output: First unique alphabet in string\n",
    "    \"\"\"\n",
    "    dic = {}\n",
    "    for i in range(len(s)):\n",
    "        if s[i] not in dic:\n",
    "            dic[s[i]] = [1, i]\n",
    "        else:\n",
    "            increment = dic[s[i]][0] + 1\n",
    "            dic[s[i]] = [increment , i]\n",
    "    for i in range(len(s)):\n",
    "        if dic[s[i]][0] == 1:\n",
    "            return dic[s[i]][1]\n",
    "    return -1"
   ]
  },
  {
   "cell_type": "markdown",
   "metadata": {},
   "source": [
    "### 예시 1.\n",
    "* Input: \"loveprogram\"\n",
    "* Output: 0"
   ]
  },
  {
   "cell_type": "code",
   "execution_count": 28,
   "metadata": {},
   "outputs": [
    {
     "name": "stdout",
     "output_type": "stream",
     "text": [
      "Output: 0, Time: 0.006300ms\n"
     ]
    }
   ],
   "source": [
    "out, ms= function_time(HW3_2,\"loveprogram\")\n",
    "print(\"Output: {0}, Time: {1:0.6f}ms\".format(out, ms)) #정답: 0"
   ]
  },
  {
   "cell_type": "markdown",
   "metadata": {},
   "source": [
    "### 예시 2.\n",
    "* Input: \"llooveeprogram\"\n",
    "* Output: 4"
   ]
  },
  {
   "cell_type": "code",
   "execution_count": 29,
   "metadata": {},
   "outputs": [
    {
     "name": "stdout",
     "output_type": "stream",
     "text": [
      "Output: 4, Time: 0.007500ms\n"
     ]
    }
   ],
   "source": [
    "out, ms= function_time(HW3_2,\"llooveeprogram\")\n",
    "print(\"Output: {0}, Time: {1:0.6f}ms\".format(out, ms)) #정답: 4"
   ]
  },
  {
   "cell_type": "markdown",
   "metadata": {},
   "source": [
    "### 예시 3.\n",
    "* Input: \"computingfordatascience\"\n",
    "* Output: 2"
   ]
  },
  {
   "cell_type": "code",
   "execution_count": 30,
   "metadata": {},
   "outputs": [
    {
     "name": "stdout",
     "output_type": "stream",
     "text": [
      "Output: 2, Time: 0.011400ms\n"
     ]
    }
   ],
   "source": [
    "out, ms= function_time(HW3_2,\"computingfordatascience\")\n",
    "print(\"Output: {0}, Time: {1:0.6f}ms\".format(out, ms)) #정답: 2"
   ]
  },
  {
   "cell_type": "markdown",
   "metadata": {},
   "source": [
    "### 예시 4.\n",
    "* Input: \"hhiirreeaappeeeett\"\n",
    "* Output: -1"
   ]
  },
  {
   "cell_type": "code",
   "execution_count": 33,
   "metadata": {},
   "outputs": [
    {
     "name": "stdout",
     "output_type": "stream",
     "text": [
      "Output: -1, Time: 0.010300ms\n"
     ]
    }
   ],
   "source": [
    "out, ms= function_time(HW3_2,\"hhiirreeaappeeeett\")\n",
    "print(\"Output: {0}, Time: {1:0.6f}ms\".format(out, ms)) #정답: -1"
   ]
  },
  {
   "cell_type": "markdown",
   "metadata": {},
   "source": [
    "# 제출할 파일 생성 (해결한 문제만 제출해도 됩니다)\n",
    "\n",
    "\n",
    "* **다음 셀을 실행하면 제공한 input파일의 test case를 이용해서 작성하신 코드의 답을 파일로 만들게 됩니다.**\n",
    "* **맨 위쪽 셀에서 `name`과 `number`를 꼭 설정해주세요.(그렇지 않으면 에러가 발생합니다)**\n",
    "* **만들어진 output파일을 제출하면 됩니다.**\n",
    "* **다음과 같이 파일이 생길 텐데, 파일명 및 파일 내용 수정하시면 안됩니다**\n",
    "  * HW3_1_*name*_*number*.txt\n",
    "  * HW3_2_*name*_*number*.txt\n",
    "  \n",
    "* **파일 생성 시 기존 파일은 사라지고 새로운 파일이 만들어집니다.**"
   ]
  },
  {
   "cell_type": "markdown",
   "metadata": {},
   "source": [
    "## 주의 사항이 안 지켜지면 채점이 안 됩니다!"
   ]
  },
  {
   "cell_type": "markdown",
   "metadata": {},
   "source": [
    "## 문제 1 제출 파일 생성 (아래 코드 수정 금지)"
   ]
  },
  {
   "cell_type": "code",
   "execution_count": 40,
   "metadata": {
    "scrolled": true
   },
   "outputs": [
    {
     "name": "stdout",
     "output_type": "stream",
     "text": [
      "파일 생성 시작...\n",
      "HW3_1_Seunghan_7801.txt 파일이 생성되었습니다\n",
      "해당 파일을 제출하시면 됩니다\n"
     ]
    }
   ],
   "source": [
    "try: \n",
    "    name = \"\".join(str(name).split())\n",
    "    number = \"\".join(str(number).split())\n",
    "except:\n",
    "    print('맨 윗부분 셀에서 name과 number변수를 할당해주세요')\n",
    "    raise\n",
    "try:\n",
    "    if len(name) < 3:\n",
    "        raise ValueError('name은 공백 제외 3글자 이상으로 해주세요')\n",
    "except:\n",
    "    raise\n",
    "try:\n",
    "    if len(number) <4:\n",
    "        raise ValueError('number는 4자리 숫자로 해주세요')\n",
    "except:\n",
    "    raise\n",
    "\n",
    "    \n",
    "# 문제 1에 대한 output 파일 생성\n",
    "print(\"파일 생성 시작...\")\n",
    "with open('input3_1.txt', 'r') as f1 \\\n",
    "    ,open('HW3_1_'+name+'_'+number+'.txt','w') as f2:\n",
    "    inputs = f1.readlines()\n",
    "    for case in inputs:\n",
    "        case = case.strip()\n",
    "        result, ms = function_time(HW3_1,case)\n",
    "        if ms>10:\n",
    "            raise RuntimeError('가장 빠른 알고리즘이 아닙니다')\n",
    "        f2.write(str(result)+\"\\n\") \n",
    "        \n",
    "print('HW3_1_'+name+'_'+number+'.txt 파일이 생성되었습니다')\n",
    "print('해당 파일을 제출하시면 됩니다')"
   ]
  },
  {
   "cell_type": "markdown",
   "metadata": {},
   "source": [
    "## 문제 2 제출 파일 생성 (아래 코드 수정 금지)"
   ]
  },
  {
   "cell_type": "code",
   "execution_count": 41,
   "metadata": {},
   "outputs": [
    {
     "name": "stdout",
     "output_type": "stream",
     "text": [
      "파일 생성 시작...\n",
      "HW3_2_Seunghan_7801.txt 파일이 생성되었습니다\n",
      "해당 파일을 제출하시면 됩니다\n"
     ]
    }
   ],
   "source": [
    "try: \n",
    "    name = \"\".join(str(name).split())\n",
    "    number = \"\".join(str(number).split())\n",
    "except:\n",
    "    print('맨 윗부분 셀에서 name과 number변수를 할당해주세요')\n",
    "    raise\n",
    "try:\n",
    "    if len(name) < 3:\n",
    "        raise ValueError('name은 공백 제외 3글자 이상으로 해주세요')\n",
    "except:\n",
    "    raise\n",
    "try:\n",
    "    if len(number) <4:\n",
    "        raise ValueError('number는 4자리 숫자로 해주세요')\n",
    "except:\n",
    "    raise\n",
    "    \n",
    "# 문제 2에 대한 output 파일 생성\n",
    "print(\"파일 생성 시작...\")\n",
    "with open('input3_2.txt', 'r') as f1 \\\n",
    "    ,open('HW3_2_'+name+'_'+number+'.txt','w') as f2:\n",
    "    inputs = f1.readlines()\n",
    "    for case in inputs:\n",
    "        case = case.strip()\n",
    "        result, ms = function_time(HW3_2,case)\n",
    "        if ms>20:\n",
    "            raise RuntimeError('가장 빠른 알고리즘이 아닙니다')\n",
    "        f2.write(str(result)+\"\\n\") \n",
    "        \n",
    "print('HW3_2_'+name+'_'+number+'.txt 파일이 생성되었습니다')\n",
    "print('해당 파일을 제출하시면 됩니다')"
   ]
  },
  {
   "cell_type": "code",
   "execution_count": null,
   "metadata": {},
   "outputs": [],
   "source": []
  },
  {
   "cell_type": "code",
   "execution_count": null,
   "metadata": {},
   "outputs": [],
   "source": []
  }
 ],
 "metadata": {
  "kernelspec": {
   "display_name": "Python 3",
   "language": "python",
   "name": "python3"
  },
  "language_info": {
   "codemirror_mode": {
    "name": "ipython",
    "version": 3
   },
   "file_extension": ".py",
   "mimetype": "text/x-python",
   "name": "python",
   "nbconvert_exporter": "python",
   "pygments_lexer": "ipython3",
   "version": "3.8.3"
  }
 },
 "nbformat": 4,
 "nbformat_minor": 4
}
