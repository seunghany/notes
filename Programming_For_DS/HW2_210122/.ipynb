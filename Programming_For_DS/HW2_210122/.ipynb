{
 "cells": [
  {
   "cell_type": "markdown",
   "metadata": {},
   "source": [
    "# 과제 주의사항 필독"
   ]
  },
  {
   "cell_type": "markdown",
   "metadata": {},
   "source": [
    "* **`HW2_1`, `HW2_2`, `HW2_3`, `HW2_4` 함수의 이름 및 함수의 입력으로 받는 parameter는 바꾸지 말아주세요**\n",
    "* **return 타입 지켜주세요**\n",
    "* **다른 함수나 클래스 등 만드셔도 됩니다. `HW2_1`, `HW2_2`, `HW2_3`, `HW2_4` 함수가 제대로 `return`하기만 하면 됩니다.**\n",
    "* **제출할 output파일은 마지막 부분의 셀을 실행해서 만들게 됩니다**\n"
   ]
  },
  {
   "cell_type": "markdown",
   "metadata": {},
   "source": [
    "* **제출을 하기 위해서 아래의 `name`에는 영문 이름을(3자 이상), `number`에는 핸드폰 번호 뒤 4자리 입력해주세요**\n",
    "  * **이름은 알파벳만 이용!**\n",
    "* **그리고 나서 셀을 꼭 <font size=\"4\">실행</font>해주세요!**\n",
    "* **output파일을 만들 때 파일명에 이름과 번호가 적히게 됩니다.**\n",
    "\n",
    "<pre>\n",
    "예시:\n",
    "name = 'woojung'\n",
    "number = 9821\n",
    "</pre>"
   ]
  },
  {
   "cell_type": "code",
   "execution_count": 1,
   "metadata": {},
   "outputs": [],
   "source": [
    "# 입력 후 셀 실행하기!\n",
    "name = 'Seunghan'  # 본인 영문 이름 ex) 'woojung'\n",
    "number = 7801 # 본인 점수 확인 용으로 4자리 숫자 ex) 9821"
   ]
  },
  {
   "cell_type": "markdown",
   "metadata": {},
   "source": [
    "# 문제 1. 괄호 열고 닫기\n",
    "'(', ')', '{', '}', '[', ']'으로 구성된 String을 Input으로 받고, 이 String이 아래 규칙에 의해 유효한지를 판단하는 함수를 만들어라.<br>\n",
    "규칙1. 괄호가 열렸다면 같은 타입의 괄호에 의해 닫혀야 한다.<br>\n",
    "규칙2. 적절한 순서로 괄호가 배열되어야 한다.안쪽에서 열린 괄호가 먼저 닫히고, 바깥쪽 괄호가 닫혀야 한다."
   ]
  },
  {
   "cell_type": "code",
   "execution_count": 147,
   "metadata": {},
   "outputs": [],
   "source": [
    "class LinkedNode:\n",
    "    def __init__(self, x: int):\n",
    "        self.val = x\n",
    "        self.next = None\n",
    "\n",
    "    def hasNext(self):\n",
    "        return self.next is not None\n",
    "\n",
    "class MyStack():\n",
    "    def __init__(self) -> None:\n",
    "        self.size = 0\n",
    "        self.sentinel = LinkedNode(0)\n",
    "\n",
    "    def push(self, x: int) -> None:\n",
    "        newHead = LinkedNode(x)\n",
    "        newHead.next = self.sentinel.next\n",
    "        self.sentinel.next = newHead\n",
    "        self.size += 1\n",
    "\n",
    "    def top(self) -> int:\n",
    "        if self.sentinel.next:\n",
    "            return self.sentinel.next.val\n",
    "        return None\n",
    "\n",
    "    def pop(self):\n",
    "        if self.size != 0:\n",
    "            removal = self.sentinel.next\n",
    "            self.sentinel.next = self.sentinel.next.next\n",
    "            self.size -= 1\n",
    "            removal.next = None\n",
    "\n",
    "    def getSize(self) -> int:\n",
    "        return self.size\n",
    "\n",
    "    def isEmpty(self) -> bool:\n",
    "        return self.size == 0\n",
    "\n",
    "    def __str__(self):\n",
    "        temp = self.sentinel\n",
    "        result = \"sentinel -> \"\n",
    "        while temp.hasNext():\n",
    "            temp = temp.next\n",
    "            result += (str(temp.val) + \" -> \")\n",
    "        result += \"None\"\n",
    "        return result\n"
   ]
  },
  {
   "cell_type": "code",
   "execution_count": 161,
   "metadata": {},
   "outputs": [],
   "source": [
    "#Please complete below function\n",
    "def HW2_1(s:str) -> bool:\n",
    "    '''\n",
    "    Input: String of parentheses\n",
    "    Output: True or False, if parentheses are aligned in the right order\n",
    "    '''\n",
    "    if len(s) % 2 == 1 or s is None:\n",
    "        return False\n",
    "    s1 = MyStack()\n",
    "    \n",
    "    for i in range(len(s)):\n",
    "        temp = s[i]\n",
    "        if sameType(s1.top(),temp):\n",
    "            s1.pop()\n",
    "        else:\n",
    "            s1.push(temp)\n",
    "    return s1.getSize() == 0\n",
    "    \n",
    "def sameType(s1:str, s2:str) -> bool:\n",
    "    if (s1 == '[' and s2 == ']') or (s1 == '{' and s2 == '}') or (s1 == '(' and s2 == ')'):\n",
    "        return True\n",
    "    return False\n"
   ]
  },
  {
   "cell_type": "code",
   "execution_count": 154,
   "metadata": {},
   "outputs": [
    {
     "data": {
      "text/plain": [
       "2"
      ]
     },
     "execution_count": 154,
     "metadata": {},
     "output_type": "execute_result"
    }
   ],
   "source": [
    "5//2"
   ]
  },
  {
   "cell_type": "code",
   "execution_count": null,
   "metadata": {},
   "outputs": [],
   "source": []
  },
  {
   "cell_type": "code",
   "execution_count": null,
   "metadata": {},
   "outputs": [],
   "source": []
  },
  {
   "cell_type": "markdown",
   "metadata": {},
   "source": [
    "### 예시 1.\n",
    "* Input: s = \"()\" <br>\n",
    "* Output: True  "
   ]
  },
  {
   "cell_type": "code",
   "execution_count": 162,
   "metadata": {},
   "outputs": [
    {
     "name": "stdout",
     "output_type": "stream",
     "text": [
      "s1: sentinel -> None\n",
      "True\n"
     ]
    }
   ],
   "source": [
    "print(HW2_1(\"[]\")) #정답: True\n"
   ]
  },
  {
   "cell_type": "markdown",
   "metadata": {},
   "source": [
    "### 예시 2.\n",
    "* Input: s = \"()[]{}\"\n",
    "* Output: True"
   ]
  },
  {
   "cell_type": "code",
   "execution_count": 163,
   "metadata": {},
   "outputs": [
    {
     "name": "stdout",
     "output_type": "stream",
     "text": [
      "s1: sentinel -> None\n",
      "True\n"
     ]
    }
   ],
   "source": [
    "print(HW2_1(\"()[]{}\")) #정답: True"
   ]
  },
  {
   "cell_type": "markdown",
   "metadata": {},
   "source": [
    "### 예시 3.\n",
    "* Input: s = \"([)]\"\n",
    "* Output: false"
   ]
  },
  {
   "cell_type": "code",
   "execution_count": 164,
   "metadata": {},
   "outputs": [
    {
     "name": "stdout",
     "output_type": "stream",
     "text": [
      "s1: sentinel -> ] -> ) -> [ -> ( -> None\n",
      "False\n"
     ]
    }
   ],
   "source": [
    "print(HW2_1(\"([)]\") ) #정답: False"
   ]
  },
  {
   "cell_type": "markdown",
   "metadata": {},
   "source": [
    "---"
   ]
  },
  {
   "cell_type": "markdown",
   "metadata": {},
   "source": [
    "# 문제 2. 두 개의 정렬된 Linked List를 합치기\n",
    "두 개의 정렬된 Linked List를 input으로 받아서 합쳐진 정렬된 Linked List를 Return하는 함수를 작성하라. <br>\n",
    "함수는 Linked list의 첫번째 Node들을 Input으로 받으며, Node의 정의는 아래 ListNode를 이용하여 작성하여라. <br>\n",
    "합쳐진 Linked list의 첫번째 Node를 Return하여야 한다. <br>\n",
    "(예시)<br>\n",
    "* Input1: (1) -> (2) -> (3) <br>\n",
    "* Input2: (2) -> (4) -> (5) <br>\n",
    "* output: (1) -> (2) -> (2) -> (3) -> (4) -> (5) <br>"
   ]
  },
  {
   "cell_type": "code",
   "execution_count": 8,
   "metadata": {},
   "outputs": [],
   "source": [
    "#Definition of node: DO NOT MODIFY!!\n",
    "class ListNode:\n",
    "    def __init__(self, val=0, next=None):\n",
    "        self.val = val\n",
    "        self.next = next\n",
    "\n",
    "#     def hasNext(self):\n",
    "#         return self.next is not None\n",
    "#     if l1.next:"
   ]
  },
  {
   "cell_type": "code",
   "execution_count": 86,
   "metadata": {},
   "outputs": [],
   "source": [
    "#Please complete below function\n",
    "def HW2_2(l1: ListNode, l2: ListNode) -> ListNode:\n",
    "    \"\"\"\n",
    "        Input: First nodes of two linked lists\n",
    "        Output: First node of merged linked list\n",
    "    \"\"\"\n",
    "    if l1 is None:\n",
    "        return l2\n",
    "    elif l2 is None:\n",
    "        return l1\n",
    "    else:\n",
    "        if l1.val<l2.val:\n",
    "            l1.next = HW2_2(l1.next, l2)\n",
    "            return l1\n",
    "        else:\n",
    "            l2.next = HW2_2(l1, l2.next)\n",
    "            return l2"
   ]
  },
  {
   "cell_type": "code",
   "execution_count": 59,
   "metadata": {},
   "outputs": [],
   "source": [
    "#Helper function: DO NOT MODIFY!!\n",
    "#Create linked list from list\n",
    "def create_linked_list(l: list) -> ListNode:\n",
    "    if len(l) == 0:\n",
    "        return None\n",
    "    \n",
    "    start = ListNode(l[0])\n",
    "    node = start\n",
    "    \n",
    "    for i in range(1, len(l)):\n",
    "        node_new = ListNode(l[i])\n",
    "        node.next = node_new\n",
    "        node = node_new\n",
    "    \n",
    "    return start\n",
    "        "
   ]
  },
  {
   "cell_type": "code",
   "execution_count": 60,
   "metadata": {},
   "outputs": [],
   "source": [
    "#Helper function: DO NOT MODIFY!!\n",
    "#Print all values in the linked list\n",
    "def print_linked_list(n: ListNode, l: list) -> None:\n",
    "    if n is not None:\n",
    "        l.append(n.val)\n",
    "        print_linked_list(n.next, l)\n",
    "    else:\n",
    "        print(l)"
   ]
  },
  {
   "cell_type": "markdown",
   "metadata": {},
   "source": [
    "### 예시 1.\n",
    "* Input1: (1) -> (2) -> (4)\n",
    "* Input2: (2) -> (3) -> (5)\n",
    "* Output: (1) -> (2) -> (2) -> (3) -> (4) -> (5)"
   ]
  },
  {
   "cell_type": "code",
   "execution_count": 87,
   "metadata": {},
   "outputs": [
    {
     "name": "stdout",
     "output_type": "stream",
     "text": [
      "[1, 2, 2, 3, 4, 5]\n"
     ]
    }
   ],
   "source": [
    "l1 = create_linked_list([1,2,4])\n",
    "l2 = create_linked_list([2,3,5])\n",
    "Merged = HW2_2(l1, l2)\n",
    "print_linked_list(Merged,[]) #정답: [1, 2, 2, 3, 4, 5]"
   ]
  },
  {
   "cell_type": "markdown",
   "metadata": {},
   "source": [
    "### 예시 2.\n",
    "* Input1: (1) -> (2) -> (2) -> (3) -> (4)\n",
    "* Input2: None\n",
    "* Output: (1) -> (2) -> (2) -> (3) -> (4)"
   ]
  },
  {
   "cell_type": "code",
   "execution_count": 88,
   "metadata": {},
   "outputs": [
    {
     "name": "stdout",
     "output_type": "stream",
     "text": [
      "[1, 2, 2, 3, 4]\n"
     ]
    }
   ],
   "source": [
    "l1 = create_linked_list([1,2,2,3,4])\n",
    "l2 = create_linked_list([])\n",
    "Merged = HW2_2(l1, l2)\n",
    "print_linked_list(Merged,[]) #정답: [1, 2, 2, 3, 4]"
   ]
  },
  {
   "cell_type": "markdown",
   "metadata": {},
   "source": [
    "### 예시 3.\n",
    "* Input1: (-99) -> (0) -> (5) -> (10) -> (50)\n",
    "* Input2: (-50) -> (5) -> (15) -> (25) -> (98)\n",
    "* Output: (-99) -> (-50) -> (0) -> (5) -> (5) -> (10) -> (15) -> (25) -> (50) -> (98)"
   ]
  },
  {
   "cell_type": "code",
   "execution_count": 89,
   "metadata": {},
   "outputs": [
    {
     "name": "stdout",
     "output_type": "stream",
     "text": [
      "[-99, -50, 0, 5, 5, 10, 15, 25, 50, 98]\n"
     ]
    }
   ],
   "source": [
    "l1 = create_linked_list([-99,0,5,10,50])\n",
    "l2 = create_linked_list([-50,5,15,25,98])\n",
    "Merged = HW2_2(l1, l2)\n",
    "print_linked_list(Merged,[]) #정답: [-99, -50, 0, 5, 5, 10, 15, 25, 50, 98]"
   ]
  },
  {
   "cell_type": "markdown",
   "metadata": {},
   "source": [
    "---"
   ]
  },
  {
   "cell_type": "markdown",
   "metadata": {},
   "source": [
    "# 문제 3. Linked list의 순서 뒤집기\n",
    "Linked list를 입력받아 순서를 뒤집은 Linked list로 만드는 함수를 작성하시오.<br>\n",
    "Linked list의 각 Node는 아래 ListNode정의를 활용하고, 함수의 return 값은 뒤집은 Linked list의 첫번째 Node로 한다. <br>\n",
    "\n",
    "(예시) 1,2,3,5의 순서로 구성된 Linked list를 input으로 받은 경우, 5,3,2,1의 순서로 구성된 Linked list를 return하여야 한다.<br>\n",
    "* Input: (1) -> (2) -> (3) -> (5) <br>\n",
    "* Output: (5) -> (3) -> (2) -> (1)\n"
   ]
  },
  {
   "cell_type": "code",
   "execution_count": 90,
   "metadata": {},
   "outputs": [],
   "source": [
    "#Definition of node: DO NOT MODIFY!!\n",
    "class ListNode:\n",
    "    def __init__(self, val=0, next=None):\n",
    "        self.val = val\n",
    "        self.next = next                "
   ]
  },
  {
   "cell_type": "code",
   "execution_count": 12,
   "metadata": {},
   "outputs": [],
   "source": [
    "class MyStack():\n",
    "    def __init__(self) -> None:\n",
    "        self.size = 0\n",
    "        self.sentinel = ListNode()\n",
    "\n",
    "    def push(self, x) -> None:\n",
    "        newHead = ListNode(x)\n",
    "        newHead.next = self.sentinel.next\n",
    "        self.sentinel.next = newHead\n",
    "        self.size += 1\n",
    "\n",
    "    def top(self) -> int:\n",
    "        return self.sentinel.next.val\n",
    "\n",
    "    def pop(self):\n",
    "        if self.size != 0:\n",
    "            removal = self.sentinel.next\n",
    "            self.sentinel.next = self.sentinel.next.next\n",
    "            self.size -= 1\n",
    "            removal.next = None\n",
    "            return removal\n",
    "\n",
    "    def getSize(self) -> int:\n",
    "        return self.size\n",
    "\n",
    "    def isEmpty(self) -> bool:\n",
    "        return self.size == 0\n",
    "\n",
    "    def __str__(self):\n",
    "        temp = self.sentinel\n",
    "        result = \"sentinel -> \"\n",
    "        while temp.next:\n",
    "            temp = temp.next\n",
    "            result += (str(temp.val) + \" -> \")\n",
    "        result += \"None\"\n",
    "        return result"
   ]
  },
  {
   "cell_type": "code",
   "execution_count": 32,
   "metadata": {},
   "outputs": [],
   "source": [
    "#Please complete below function\n",
    "def HW2_3(l: ListNode) -> ListNode:\n",
    "    \"\"\"\n",
    "        Input: First node of  a linked list\n",
    "        Output: First node of reverse linked list\n",
    "    \"\"\"\n",
    "    result = None\n",
    "    if l is not None:\n",
    "        stack = MyStack()\n",
    "        stack.push(l.val)\n",
    "        while l.next:\n",
    "            l = l.next\n",
    "            stack.push(l.val)\n",
    "        result = stack.pop()\n",
    "        temp = result\n",
    "        while stack.size > 0:\n",
    "            temp.next = stack.pop()\n",
    "            temp = temp.next\n",
    "    return result\n",
    "    "
   ]
  },
  {
   "cell_type": "markdown",
   "metadata": {},
   "source": [
    "### 예시 1.\n",
    "* Input: (1) -> (3) -> (5)\n",
    "* Output: (5) -> (3) -> (1)"
   ]
  },
  {
   "cell_type": "code",
   "execution_count": 23,
   "metadata": {
    "scrolled": true
   },
   "outputs": [
    {
     "name": "stdout",
     "output_type": "stream",
     "text": [
      "[5, 3, 1]\n"
     ]
    }
   ],
   "source": [
    "l1 = create_linked_list([1,3,5])\n",
    "print_linked_list(HW2_3(l1),[])  #정답: [5,3,1]"
   ]
  },
  {
   "cell_type": "markdown",
   "metadata": {},
   "source": [
    "### 예시 2\n",
    "* Input: (5)\n",
    "* Output: (5)"
   ]
  },
  {
   "cell_type": "code",
   "execution_count": 24,
   "metadata": {},
   "outputs": [
    {
     "name": "stdout",
     "output_type": "stream",
     "text": [
      "[5]\n"
     ]
    }
   ],
   "source": [
    "l1 = create_linked_list([5])\n",
    "print_linked_list(HW2_3(l1),[])  #정답: [5]"
   ]
  },
  {
   "cell_type": "markdown",
   "metadata": {},
   "source": [
    "### 예시 3\n",
    "* Input: None\n",
    "* Output: None"
   ]
  },
  {
   "cell_type": "code",
   "execution_count": 33,
   "metadata": {
    "scrolled": true
   },
   "outputs": [
    {
     "name": "stdout",
     "output_type": "stream",
     "text": [
      "[]\n"
     ]
    }
   ],
   "source": [
    "l1 = create_linked_list([])\n",
    "print_linked_list(HW2_3(l1),[])  #정답: []"
   ]
  },
  {
   "cell_type": "markdown",
   "metadata": {},
   "source": [
    "----"
   ]
  },
  {
   "cell_type": "markdown",
   "metadata": {},
   "source": [
    "# 문제 4. 중복된 숫자 찿기\n",
    "1이상 n 이하의 정수로 구성된 길이가 (n+1)인 List를 Input으로 받아서 이중 중복으로 등장하는 숫자를 찾는 함수를 작성하여라. <br>\n",
    "단 하나의 숫자만 중복으로 등장하며 나머지는 한번씩만 등장한다.\n",
    "\n",
    "(예시) 아래의 List에서는 4가 중복으로 등장하므로 Output은 4가 되어야 한다.<br>\n",
    "* Input: [1,2,3,4,4,5] <br>\n",
    "* Output: 4\n"
   ]
  },
  {
   "cell_type": "code",
   "execution_count": 54,
   "metadata": {},
   "outputs": [],
   "source": [
    "from typing import List\n",
    "#Please complete below function\n",
    "def HW2_4(nums: List[int]) -> int:\n",
    "    \"\"\"\n",
    "        Input: List of integers\n",
    "        Output: Integer that is repeated in the input list        \n",
    "    \"\"\"\n",
    "    dictionary = {}\n",
    "    for i in range(len(nums)):\n",
    "        if nums[i] in dictionary:\n",
    "            dictionary[nums[i]] +=1\n",
    "        else:\n",
    "            dictionary[nums[i]] = 1\n",
    "    for key in dictionary.keys():\n",
    "        if dictionary[key] > 1:\n",
    "            return key\n",
    "    \n",
    "    return -1\n"
   ]
  },
  {
   "cell_type": "markdown",
   "metadata": {},
   "source": [
    "### 예시 1.\n",
    "* Input: [1,3,4,2,2]\n",
    "* Output: 2"
   ]
  },
  {
   "cell_type": "code",
   "execution_count": 55,
   "metadata": {},
   "outputs": [
    {
     "name": "stdout",
     "output_type": "stream",
     "text": [
      "2\n"
     ]
    }
   ],
   "source": [
    "nums = [1,3,4,2,2]\n",
    "print(HW2_4(nums)) #정답: 2"
   ]
  },
  {
   "cell_type": "markdown",
   "metadata": {},
   "source": [
    "### 예시 2.\n",
    "* Input: [3,1,3,4,2]\n",
    "* Output: 3"
   ]
  },
  {
   "cell_type": "code",
   "execution_count": 56,
   "metadata": {},
   "outputs": [
    {
     "name": "stdout",
     "output_type": "stream",
     "text": [
      "3\n"
     ]
    }
   ],
   "source": [
    "nums = [3,1,3,4,2]\n",
    "print(HW2_4(nums)) #정답: 3"
   ]
  },
  {
   "cell_type": "markdown",
   "metadata": {},
   "source": [
    "### 예시 3.\n",
    "* Input: [1,1,1,1]\n",
    "* Output: 1"
   ]
  },
  {
   "cell_type": "code",
   "execution_count": 57,
   "metadata": {},
   "outputs": [
    {
     "name": "stdout",
     "output_type": "stream",
     "text": [
      "1\n"
     ]
    }
   ],
   "source": [
    "nums = [1,1,1,1]\n",
    "print(HW2_4(nums)) #정답: 1"
   ]
  },
  {
   "cell_type": "markdown",
   "metadata": {},
   "source": [
    "# 제출할 파일 생성 (해결한 문제만 제출해도 됩니다)\n",
    "\n",
    "\n",
    "* **다음 셀을 실행하면 제공한 input파일의 test case를 이용해서 작성하신 코드의 답을 파일로 만들게 됩니다.**\n",
    "* **맨 위쪽 셀에서 `name`과 `number`를 꼭 설정해주세요.(그렇지 않으면 에러가 발생합니다)**\n",
    "* **만들어진 output파일을 제출하면 됩니다.**\n",
    "* **다음과 같이 파일이 생길 텐데, 파일명 및 파일 내용 수정하시면 안됩니다**\n",
    "  * HW1_1_*name*_*number*.txt\n",
    "  * HW1_2_*name*_*number*.txt\n",
    "  * HW1_3_*name*_*number*.txt\n",
    "  \n",
    "* **파일 생성 시 기존 파일은 사라지고 새로운 파일이 만들어집니다.**"
   ]
  },
  {
   "cell_type": "markdown",
   "metadata": {},
   "source": [
    "## 주의 사항이 안 지켜지면 채점이 안 됩니다!"
   ]
  },
  {
   "cell_type": "markdown",
   "metadata": {},
   "source": [
    "## 문제 1 제출 파일 생성 (아래 코드 수정 금지)"
   ]
  },
  {
   "cell_type": "code",
   "execution_count": 165,
   "metadata": {
    "scrolled": true
   },
   "outputs": [
    {
     "name": "stdout",
     "output_type": "stream",
     "text": [
      "파일 생성 시작...\n",
      "s1: sentinel -> None\n",
      "s1: sentinel -> None\n",
      "s1: sentinel -> } -> ] -> ) -> { -> ( -> [ -> None\n",
      "s1: sentinel -> None\n",
      "s1: sentinel -> } -> } -> None\n",
      "s1: sentinel -> None\n",
      "s1: sentinel -> None\n",
      "s1: sentinel -> None\n",
      "HW2_1_Seunghan_7801.txt 파일이 생성되었습니다\n",
      "해당 파일을 제출하시면 됩니다\n"
     ]
    }
   ],
   "source": [
    "try: \n",
    "    name = \"\".join(str(name).split())\n",
    "    number = \"\".join(str(number).split())\n",
    "except:\n",
    "    print('맨 윗부분 셀에서 name과 number변수를 할당해주세요')\n",
    "    raise\n",
    "try:\n",
    "    if len(name) < 3:\n",
    "        raise ValueError('name은 공백 제외 3글자 이상으로 해주세요')\n",
    "except:\n",
    "    raise\n",
    "try:\n",
    "    if len(number) <4:\n",
    "        raise ValueError('number는 4자리 숫자로 해주세요')\n",
    "except:\n",
    "    raise\n",
    "\n",
    "    \n",
    "# 문제 1에 대한 output 파일 생성\n",
    "print(\"파일 생성 시작...\")\n",
    "with open('input2_1.txt', 'r') as f1 \\\n",
    "    ,open('HW2_1_'+name+'_'+number+'.txt','w') as f2:\n",
    "    inputs = f1.readlines()\n",
    "    for case in inputs:\n",
    "        case = case.strip()\n",
    "        result = HW2_1(case)        \n",
    "        f2.write(str(result)+\"\\n\") \n",
    "        \n",
    "print('HW2_1_'+name+'_'+number+'.txt 파일이 생성되었습니다')\n",
    "print('해당 파일을 제출하시면 됩니다')"
   ]
  },
  {
   "cell_type": "markdown",
   "metadata": {},
   "source": [
    "## 문제 2 제출 파일 생성 (아래 코드 수정 금지)"
   ]
  },
  {
   "cell_type": "code",
   "execution_count": 102,
   "metadata": {},
   "outputs": [
    {
     "name": "stdout",
     "output_type": "stream",
     "text": [
      "파일 생성 시작...\n",
      "HW1_2_Seunghan_7801.txt 파일이 생성되었습니다\n",
      "해당 파일을 제출하시면 됩니다\n"
     ]
    }
   ],
   "source": [
    "try: \n",
    "    name = \"\".join(str(name).split())\n",
    "    number = \"\".join(str(number).split())\n",
    "except:\n",
    "    print('맨 윗부분 셀에서 name과 number변수를 할당해주세요')\n",
    "    raise\n",
    "try:\n",
    "    if len(name) < 3:\n",
    "        raise ValueError('name은 공백 제외 3글자 이상으로 해주세요')\n",
    "except:\n",
    "    raise\n",
    "try:\n",
    "    if len(number) <4:\n",
    "        raise ValueError('number는 4자리 숫자로 해주세요')\n",
    "except:\n",
    "    raise\n",
    "    \n",
    "# 문제 2에 대한 output 파일 생성\n",
    "print(\"파일 생성 시작...\")\n",
    "with open('input2_2.txt', 'r') as f1 \\\n",
    "    ,open('HW2_2_'+name+'_'+number+'.txt','w') as f2:\n",
    "    inputs = f1.readlines()\n",
    "    for case in inputs:\n",
    "        case = case.strip()\n",
    "        lists = case.split(';')\n",
    "        l1 = [int(num.strip()) for num in lists[0].split(',') if num]\n",
    "        l2 = [int(num.strip()) for num in lists[1].split(',') if num]        \n",
    "        ll1 = create_linked_list(l1)\n",
    "        ll2 = create_linked_list(l2)\n",
    "        m = HW2_2(ll1, ll2)\n",
    "        while m is not None:                    \n",
    "            f2.write(str(m.val) + \",\")\n",
    "            m = m.next\n",
    "        f2.write(\"\\n\")        \n",
    "        \n",
    "print('HW1_2_'+name+'_'+number+'.txt 파일이 생성되었습니다')\n",
    "print('해당 파일을 제출하시면 됩니다')"
   ]
  },
  {
   "cell_type": "markdown",
   "metadata": {},
   "source": [
    "## 문제 3 제출 파일 생성 (아래 코드 수정 금지)"
   ]
  },
  {
   "cell_type": "code",
   "execution_count": 103,
   "metadata": {},
   "outputs": [
    {
     "name": "stdout",
     "output_type": "stream",
     "text": [
      "파일 생성 시작...\n",
      "HW2_3_Seunghan_7801.txt 파일이 생성되었습니다\n",
      "해당 파일을 제출하시면 됩니다\n"
     ]
    }
   ],
   "source": [
    "try: \n",
    "    name = \"\".join(str(name).split())\n",
    "    number = \"\".join(str(number).split())\n",
    "except:\n",
    "    print('맨 윗부분 셀에서 name과 number변수를 할당해주세요')\n",
    "    raise\n",
    "try:\n",
    "    if len(name) < 2:\n",
    "        raise ValueError('name은 공백 제외 3글자 이상으로 해주세요')\n",
    "except:\n",
    "    raise\n",
    "try:\n",
    "    if len(number) <4:\n",
    "        raise ValueError('number는 4자리 숫자로 해주세요')\n",
    "except:\n",
    "    raise\n",
    "    \n",
    "# 문제 2에 대한 output 파일 생성\n",
    "print(\"파일 생성 시작...\")\n",
    "with open('input2_3.txt', 'r') as f1 \\\n",
    "    ,open('HW2_3_'+name+'_'+number+'.txt','w') as f2:\n",
    "    inputs = f1.readlines()\n",
    "    for case in inputs:\n",
    "        case = case.strip()\n",
    "        l1 = [int(num.strip()) for num in case.split(',') if num]\n",
    "        ll1 = create_linked_list(l1)\n",
    "        m = HW2_3(ll1)\n",
    "        while m is not None:                    \n",
    "            f2.write(str(m.val) + \",\")\n",
    "            m = m.next\n",
    "        f2.write(\"\\n\")                \n",
    "        \n",
    "print('HW2_3_'+name+'_'+number+'.txt 파일이 생성되었습니다')\n",
    "print('해당 파일을 제출하시면 됩니다')"
   ]
  },
  {
   "cell_type": "markdown",
   "metadata": {},
   "source": [
    "## 문제 4 제출 파일 생성 (아래 코드 수정 금지)"
   ]
  },
  {
   "cell_type": "code",
   "execution_count": 104,
   "metadata": {},
   "outputs": [
    {
     "name": "stdout",
     "output_type": "stream",
     "text": [
      "파일 생성 시작...\n",
      "HW2_4_Seunghan_7801.txt 파일이 생성되었습니다\n",
      "해당 파일을 제출하시면 됩니다\n"
     ]
    }
   ],
   "source": [
    "try: \n",
    "    name = \"\".join(str(name).split())\n",
    "    number = \"\".join(str(number).split())\n",
    "except:\n",
    "    print('맨 윗부분 셀에서 name과 number변수를 할당해주세요')\n",
    "    raise\n",
    "try:\n",
    "    if len(name) < 3:\n",
    "        raise ValueError('name은 공백 제외 3글자 이상으로 해주세요')\n",
    "except:\n",
    "    raise\n",
    "try:\n",
    "    if len(number) <4:\n",
    "        raise ValueError('number는 4자리 숫자로 해주세요')\n",
    "except:\n",
    "    raise\n",
    "\n",
    "    \n",
    "# 문제 1에 대한 output 파일 생성\n",
    "print(\"파일 생성 시작...\")\n",
    "with open('input2_4.txt', 'r') as f1 \\\n",
    "    ,open('HW2_4_'+name+'_'+number+'.txt','w') as f2:\n",
    "    inputs = f1.readlines()\n",
    "    for case in inputs:\n",
    "        case = case.strip()\n",
    "        l1 = [int(num.strip()) for num in case.split(',') if num]\n",
    "        result = HW2_4(l1)        \n",
    "        f2.write(str(result)+\"\\n\") \n",
    "        \n",
    "print('HW2_4_'+name+'_'+number+'.txt 파일이 생성되었습니다')\n",
    "print('해당 파일을 제출하시면 됩니다')"
   ]
  },
  {
   "cell_type": "code",
   "execution_count": null,
   "metadata": {},
   "outputs": [],
   "source": []
  },
  {
   "cell_type": "code",
   "execution_count": null,
   "metadata": {},
   "outputs": [],
   "source": []
  }
 ],
 "metadata": {
  "kernelspec": {
   "display_name": "Python 3",
   "language": "python",
   "name": "python3"
  },
  "language_info": {
   "codemirror_mode": {
    "name": "ipython",
    "version": 3
   },
   "file_extension": ".py",
   "mimetype": "text/x-python",
   "name": "python",
   "nbconvert_exporter": "python",
   "pygments_lexer": "ipython3",
   "version": "3.8.3"
  }
 },
 "nbformat": 4,
 "nbformat_minor": 4
}
