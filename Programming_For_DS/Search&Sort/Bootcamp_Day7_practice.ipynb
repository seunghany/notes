{
 "cells": [
  {
   "cell_type": "markdown",
   "metadata": {},
   "source": [
    "# Boodcamp Day 7 Practice"
   ]
  },
  {
   "cell_type": "markdown",
   "metadata": {},
   "source": [
    "# (1) Selection Sort"
   ]
  },
  {
   "cell_type": "code",
   "execution_count": 20,
   "metadata": {},
   "outputs": [],
   "source": [
    "def selectionSort(L: list) -> None:\n",
    "    for i in range(len(L)):\n",
    "        \n",
    "        # Find smallest in the unsorted list (right of the index i)\n",
    "        smallest = i\n",
    "        for j in range(i+1, len(L)):\n",
    "            if L[j] < L[smallest]:\n",
    "                smallest = j\n",
    "                \n",
    "        # Swapping i - smallest\n",
    "        L[i], L[smallest] = L[smallest], L[i]"
   ]
  },
  {
   "cell_type": "markdown",
   "metadata": {},
   "source": [
    "# (2) Insertion Sort"
   ]
  },
  {
   "cell_type": "code",
   "execution_count": 21,
   "metadata": {},
   "outputs": [],
   "source": [
    "def insertionSort(L: list) -> None:\n",
    "    for i in range(1, len(L)):\n",
    "        \n",
    "        # Find the right location for L[i] to be inserted\n",
    "        for j in range(i,0,-1):\n",
    "            if L[j-1] > L[j]: # Swapping\n",
    "                L[j-1], L[j] = L[j], L[j-1]\n",
    "            else: # Here is the location!\n",
    "                break"
   ]
  },
  {
   "cell_type": "markdown",
   "metadata": {},
   "source": [
    "# (3) Insertion Sort (fast implementation)"
   ]
  },
  {
   "cell_type": "code",
   "execution_count": 22,
   "metadata": {},
   "outputs": [],
   "source": [
    "def fast_insertionSort(L: list) -> None:\n",
    "    for i in range(1, len(L)):\n",
    "        value = L[i]\n",
    "        \n",
    "        # Find the right location for insert\n",
    "        for j in range(i-1,-1,-1):\n",
    "            if L[j-1] <= value:\n",
    "                break\n",
    "                \n",
    "        # Insert\n",
    "        del L[i]\n",
    "        L.insert(j, value)"
   ]
  },
  {
   "cell_type": "markdown",
   "metadata": {},
   "source": [
    "# (4) Merge Sort"
   ]
  },
  {
   "cell_type": "code",
   "execution_count": 23,
   "metadata": {},
   "outputs": [],
   "source": [
    "def merge(L: list, first: int, mid: int, last: int) -> None:\n",
    "    # Generate two sublists (requiring addition N memory for copying)\n",
    "    sub1 = L[first:mid+1]\n",
    "    sub2 = L[mid+1:last+1]\n",
    "    i = j = 0 # indices for sub1 and sub2\n",
    "    k = first # index for the whole list\n",
    "    \n",
    "    # Compare leftmost items and insert the smaller one\n",
    "    while i < len(sub1) and j < len(sub2):\n",
    "        if sub1[i] <= sub2[j]: # Insert the item in sub1\n",
    "            L[k] = sub1[i]\n",
    "            i += 1\n",
    "        else:                  # Insert the item in sub2\n",
    "            L[k] = sub2[j]\n",
    "            j += 1\n",
    "        k += 1\n",
    "        \n",
    "    # Now we finish scanning at least one of the two sublists\n",
    "    # Time to dump any remaining sublist at the end of the whole list\n",
    "    if i < len(sub1):\n",
    "        L[k:last+1] = sub1[i:]\n",
    "    elif j < len(sub2):\n",
    "        L[k:last+1] = sub2[j:]\n",
    "\n",
    "        \n",
    "def mergeSortHelp(L: list, first: int, last: int) -> None:\n",
    "    if first == last: # Condition check\n",
    "        return # Base case\n",
    "    else: # Recursive case\n",
    "        mid = first + (last-first) // 2 # calculate the middle point\n",
    "        mergeSortHelp(L, first, mid)    # Sort left sublist\n",
    "        mergeSortHelp(L, mid+1, last)   # Sort right sublist\n",
    "        merge(L, first, mid, last)\n",
    "        \n",
    "def mergeSort(L: list) -> None:\n",
    "    mergeSortHelp(L, 0, len(L)-1)"
   ]
  },
  {
   "cell_type": "markdown",
   "metadata": {},
   "source": [
    "# (5) Quick Sort"
   ]
  },
  {
   "cell_type": "code",
   "execution_count": 24,
   "metadata": {},
   "outputs": [],
   "source": [
    "def partition(L: list, first: int, last: int, pi_idx: int) -> int:\n",
    "    pi = L[pi_idx]\n",
    "    i, j = first, last\n",
    "\n",
    "    # Scan and swap\n",
    "    while i < j:\n",
    "        # left partition scan\n",
    "        while i <= last and L[i] <= pi:\n",
    "            i += 1\n",
    "        # right partition scan\n",
    "        while j >= first and L[j] >= pi:\n",
    "            j -= 1\n",
    "            \n",
    "        # Now time to swap!\n",
    "        if i < j:\n",
    "            L[i], L[j] = L[j], L[i]\n",
    "    \n",
    "    # Check where pivot is now (left vs. right parition)\n",
    "    if pi_idx < i:\n",
    "        i -= 1\n",
    "    # Change pivot location (rightend of left partition or leftend of right partition)\n",
    "    L[pi_idx], L[i] = L[i], L[pi_idx]\n",
    "    return i\n",
    "\n",
    "    \n",
    "def piSelect(L: list, first: int, last: int) -> int:\n",
    "    med = first + (last-first)//2\n",
    "    \n",
    "    if L[first] > L[med]:\n",
    "        L[first], L[med] = L[med], L[first]\n",
    "    if L[first] > L[last]:\n",
    "        L[first], L[last] = L[last], L[first]\n",
    "    if L[med] > L[last]:\n",
    "        L[med], L[last] = L[last], L[med]\n",
    "        \n",
    "    return med\n",
    "\n",
    "def partitionSort(L: list, first: int, last: int) -> None:\n",
    "    if first >= last: # Check condition\n",
    "        return # Base case\n",
    "    \n",
    "    else: \n",
    "        # Recursive case\n",
    "        pi_idx = piSelect(L, first, last)\n",
    "        pi_idx = partition(L, first, last, pi_idx)\n",
    "        # pivot is now at the right place\n",
    "        partitionSort(L, first, pi_idx-1) # Sort the left partition\n",
    "        partitionSort(L, pi_idx+1, last)  # Sort the right partition\n",
    "\n",
    "def quickSort(L: list) -> None:\n",
    "    partitionSort(L, 0, len(L)-1)"
   ]
  },
  {
   "cell_type": "markdown",
   "metadata": {},
   "source": [
    "# (6) Test Case Generation"
   ]
  },
  {
   "cell_type": "code",
   "execution_count": 26,
   "metadata": {},
   "outputs": [],
   "source": [
    "import random\n",
    "\n",
    "L = []\n",
    "L.append(list(range(10000)))\n",
    "random.shuffle(L[0])\n",
    "L.append(list(range(20000)))\n",
    "random.shuffle(L[1])"
   ]
  },
  {
   "cell_type": "markdown",
   "metadata": {},
   "source": [
    "# (7) Evaluation and Printing"
   ]
  },
  {
   "cell_type": "code",
   "execution_count": 18,
   "metadata": {},
   "outputs": [
    {
     "name": "stdout",
     "output_type": "stream",
     "text": [
      "[ Performance when list size is 10000 ]\n",
      "\t- Selecion Sort takes 7999 msec.\n",
      "\t- Insertion Sort takes 12575 msec.\n",
      "\t- Fast Insertion Sort takes 4041 msec.\n",
      "\t- Merge Sort takes 100 msec.\n",
      "\t- Quick Sort takes 69 msec.\n",
      "[ Performance when list size is 20000 ]\n",
      "\t- Selecion Sort takes 35850 msec.\n",
      "\t- Insertion Sort takes 54667 msec.\n",
      "\t- Fast Insertion Sort takes 22059 msec.\n",
      "\t- Merge Sort takes 210 msec.\n",
      "\t- Quick Sort takes 172 msec.\n"
     ]
    }
   ],
   "source": [
    "import time\n",
    "\n",
    "algorithms = [selectionSort, insertionSort, fast_insertionSort, mergeSort, quickSort]\n",
    "names = [\"Selecion Sort\", \"Insertion Sort\", \"Fast Insertion Sort\", \"Merge Sort\", \"Quick Sort\"]\n",
    "\n",
    "for i in range(len(L)):\n",
    "    print(\"[ Performance when list size is\", len(L[i]), \"]\")\n",
    "    \n",
    "    for j in range(len(algorithms)):\n",
    "        # Copy the unserted list for testing\n",
    "        inputList = L[i][:]\n",
    "        \n",
    "        # Time measurement\n",
    "        t_start = time.perf_counter()\n",
    "        algorithms[j](inputList)\n",
    "        t_end = time.perf_counter()\n",
    "        \n",
    "        print(\"\\t-\", names[j], \"takes\", int((t_end-t_start)*1000.0), \"msec.\")\n",
    "    print(\"\")"
   ]
  }
 ],
 "metadata": {
  "kernelspec": {
   "display_name": "Python 3",
   "language": "python",
   "name": "python3"
  },
  "language_info": {
   "codemirror_mode": {
    "name": "ipython",
    "version": 3
   },
   "file_extension": ".py",
   "mimetype": "text/x-python",
   "name": "python",
   "nbconvert_exporter": "python",
   "pygments_lexer": "ipython3",
   "version": "3.8.3"
  }
 },
 "nbformat": 4,
 "nbformat_minor": 4
}
