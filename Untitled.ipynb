{
 "cells": [
  {
   "cell_type": "code",
   "execution_count": 12,
   "metadata": {},
   "outputs": [
    {
     "name": "stdout",
     "output_type": "stream",
     "text": [
      "hey wtb dragonkiller\n",
      "hey want to buy dragonkiller\n"
     ]
    }
   ],
   "source": [
    "error = {}\n",
    "error['wts'] = \" want to sell \"\n",
    "error['wtb'] = \" want to buy \"\n",
    "text = \"hey wtb dragonkiller\"\n",
    "print(text)\n",
    "temp = text.split()\n",
    "# print(temp)\n",
    "ans = \"\"\n",
    "for word in temp:\n",
    "    if word in error:\n",
    "        word = error[word]\n",
    "    ans += word\n",
    "print(ans)"
   ]
  }
 ],
 "metadata": {
  "kernelspec": {
   "display_name": "Python 3",
   "language": "python",
   "name": "python3"
  },
  "language_info": {
   "codemirror_mode": {
    "name": "ipython",
    "version": 3
   },
   "file_extension": ".py",
   "mimetype": "text/x-python",
   "name": "python",
   "nbconvert_exporter": "python",
   "pygments_lexer": "ipython3",
   "version": "3.8.3"
  }
 },
 "nbformat": 4,
 "nbformat_minor": 4
}
